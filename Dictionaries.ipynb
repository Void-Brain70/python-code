{
  "nbformat": 4,
  "nbformat_minor": 0,
  "metadata": {
    "colab": {
      "name": "Dictionaries.ipynb",
      "provenance": [],
      "collapsed_sections": [],
      "authorship_tag": "ABX9TyN0TikIaB/0zEsDq6gUYweS",
      "include_colab_link": true
    },
    "kernelspec": {
      "name": "python3",
      "display_name": "Python 3"
    },
    "language_info": {
      "name": "python"
    }
  },
  "cells": [
    {
      "cell_type": "markdown",
      "metadata": {
        "id": "view-in-github",
        "colab_type": "text"
      },
      "source": [
        "<a href=\"https://colab.research.google.com/github/Void-Brain70/Python/blob/master/Dictionaries.ipynb\" target=\"_parent\"><img src=\"https://colab.research.google.com/assets/colab-badge.svg\" alt=\"Open In Colab\"/></a>"
      ]
    },
    {
      "cell_type": "markdown",
      "metadata": {
        "id": "KEeuw735uVe8"
      },
      "source": [
        "Dictionaries are used to store data values in key:value pairs"
      ]
    },
    {
      "cell_type": "markdown",
      "metadata": {
        "id": "HBpi8rHOuZN0"
      },
      "source": [
        "A dictionary is a collection which is ordered*, changeable and does not allow duplicates."
      ]
    },
    {
      "cell_type": "code",
      "metadata": {
        "colab": {
          "base_uri": "https://localhost:8080/"
        },
        "id": "8yZb806xuPFO",
        "outputId": "df071986-56a5-4f77-cbae-c85f08a80d1b"
      },
      "source": [
        "#Create and print a dictionary:\n",
        "dict={\n",
        " \"Name\":\"Anik\",\n",
        " \"Subject\":\"CSE\",\n",
        " \"ID\":\"18101070\",\n",
        " \"University\":\"UAP\"\n",
        "}\n",
        "print(dict)"
      ],
      "execution_count": 10,
      "outputs": [
        {
          "output_type": "stream",
          "text": [
            "{'Name': 'Anik', 'Subject': 'CSE', 'ID': '18101070', 'University': 'UAP'}\n"
          ],
          "name": "stdout"
        }
      ]
    },
    {
      "cell_type": "code",
      "metadata": {
        "colab": {
          "base_uri": "https://localhost:8080/"
        },
        "id": "8sWqBt5zvAnl",
        "outputId": "ee52d709-fea1-4b2f-85f2-058da81c2465"
      },
      "source": [
        "#Accessing Items\n",
        "dict={\n",
        " \"Name\":\"Anik\",\n",
        " \"Subject\":\"CSE\",\n",
        " \"ID\":\"18101070\",\n",
        " \"University\":\"UAP\"\n",
        "}\n",
        "p=dict[\"ID\"]\n",
        "print(p)"
      ],
      "execution_count": 11,
      "outputs": [
        {
          "output_type": "stream",
          "text": [
            "18101070\n"
          ],
          "name": "stdout"
        }
      ]
    },
    {
      "cell_type": "code",
      "metadata": {
        "colab": {
          "base_uri": "https://localhost:8080/"
        },
        "id": "T_fuzjhJvEUF",
        "outputId": "2d1847bc-edfd-4c9e-e8e7-dc3df5ec0028"
      },
      "source": [
        "dict={\n",
        " \"Name\":\"Anik\",\n",
        " \"Subject\":\"CSE\",\n",
        " \"ID\":\"18101070\",\n",
        " \"University\":\"UAP\"\n",
        "}\n",
        "p=dict.get(\"Name\")\n",
        "print(p)"
      ],
      "execution_count": 12,
      "outputs": [
        {
          "output_type": "stream",
          "text": [
            "Anik\n"
          ],
          "name": "stdout"
        }
      ]
    },
    {
      "cell_type": "code",
      "metadata": {
        "colab": {
          "base_uri": "https://localhost:8080/"
        },
        "id": "BFhmyMcjvrDm",
        "outputId": "0e8b967f-24c7-49ba-82ae-15650952f0dc"
      },
      "source": [
        "#Change Values\n",
        "dict={\n",
        " \"Name\":\"Anik\",\n",
        " \"Subject\":\"CSE\",\n",
        " \"ID\":\"18101070\",\n",
        " \"University\":\"UAP\"\n",
        "}\n",
        "dict[\"Name\"]=\"Das\"\n",
        "print(dict)"
      ],
      "execution_count": 13,
      "outputs": [
        {
          "output_type": "stream",
          "text": [
            "{'Name': 'Das', 'Subject': 'CSE', 'ID': '18101070', 'University': 'UAP'}\n"
          ],
          "name": "stdout"
        }
      ]
    },
    {
      "cell_type": "code",
      "metadata": {
        "colab": {
          "base_uri": "https://localhost:8080/"
        },
        "id": "AGxmdCOtvve1",
        "outputId": "8d1c9402-7e4d-4189-dc8d-03bef406b8e0"
      },
      "source": [
        "#Loop Through a Dictionary\n",
        "dict={\n",
        " \"Name\":\"Anik\",\n",
        " \"Subject\":\"CSE\",\n",
        " \"ID\":\"18101070\",\n",
        " \"University\":\"UAP\"\n",
        "}\n",
        "#\n",
        "for i in dict:\n",
        "  print(i)\n",
        "\n",
        "for i in dict:\n",
        "  print(i,\"->\",dict[i])  \n",
        "\n",
        "for i,j in dict.items():\n",
        "  print(i,\":\",j)\n"
      ],
      "execution_count": 18,
      "outputs": [
        {
          "output_type": "stream",
          "text": [
            "Name\n",
            "Subject\n",
            "ID\n",
            "University\n",
            "Name -> Anik\n",
            "Subject -> CSE\n",
            "ID -> 18101070\n",
            "University -> UAP\n",
            "Name : Anik\n",
            "Subject : CSE\n",
            "ID : 18101070\n",
            "University : UAP\n"
          ],
          "name": "stdout"
        }
      ]
    },
    {
      "cell_type": "code",
      "metadata": {
        "colab": {
          "base_uri": "https://localhost:8080/"
        },
        "id": "Oq_fBf_JwdTn",
        "outputId": "9e2b5bf1-a17b-4fd7-a11d-05fa161ddb4a"
      },
      "source": [
        "#Check if Key Exists\n",
        "dict={\n",
        " \"Name\":\"Anik\",\n",
        " \"Subject\":\"CSE\",\n",
        " \"ID\":\"18101070\",\n",
        " \"University\":\"UAP\"\n",
        "}\n",
        "if \"ID\" in dict:\n",
        "  print(\"Yes\")\n",
        "else:\n",
        "  print(\"No\")"
      ],
      "execution_count": 19,
      "outputs": [
        {
          "output_type": "stream",
          "text": [
            "Yes\n"
          ],
          "name": "stdout"
        }
      ]
    },
    {
      "cell_type": "code",
      "metadata": {
        "colab": {
          "base_uri": "https://localhost:8080/"
        },
        "id": "p2irpZhww25G",
        "outputId": "3bf14cb9-ac95-4feb-a30b-94da3c6596c5"
      },
      "source": [
        "#Length of Dictionary\n",
        "dict={\n",
        " \"Name\":\"Anik\",\n",
        " \"Subject\":\"CSE\",\n",
        " \"ID\":\"18101070\",\n",
        " \"University\":\"UAP\"\n",
        "}\n",
        "l = len(dict)\n",
        "print(l)"
      ],
      "execution_count": 20,
      "outputs": [
        {
          "output_type": "stream",
          "text": [
            "4\n"
          ],
          "name": "stdout"
        }
      ]
    },
    {
      "cell_type": "code",
      "metadata": {
        "colab": {
          "base_uri": "https://localhost:8080/"
        },
        "id": "xMXB6GbdxUB_",
        "outputId": "fd2aaacd-4425-4213-d782-ec8a3c503da2"
      },
      "source": [
        "#Adding Items in Dictionary\n",
        "dict={\n",
        " \"Name\":\"Anik\",\n",
        " \"Subject\":\"CSE\",\n",
        " \"ID\":\"18101070\",\n",
        " \"University\":\"UAP\"\n",
        "}\n",
        "\n",
        "dict[\"Cgpa\"]=\"3.67\"\n",
        "for i,j in dict.items():\n",
        "  print(i,\"->\",j)"
      ],
      "execution_count": 21,
      "outputs": [
        {
          "output_type": "stream",
          "text": [
            "Name -> Anik\n",
            "Subject -> CSE\n",
            "ID -> 18101070\n",
            "University -> UAP\n",
            "Cgpa -> 3.67\n"
          ],
          "name": "stdout"
        }
      ]
    },
    {
      "cell_type": "code",
      "metadata": {
        "id": "tm0CHg5Fzadp"
      },
      "source": [
        "#Removing Items\n",
        "dict={\n",
        " \"Name\":\"Anik\",\n",
        " \"Subject\":\"CSE\",\n",
        " \"ID\":\"18101070\",\n",
        " \"University\":\"UAP\",\n",
        " \"CGPA\":\"3.60\"\n",
        "}\n",
        "dict.pop(\"CGPA\")\n",
        "print(\"dict\")\n",
        "\n",
        "#else\n",
        "dict.popitem()\n",
        "print(dict)\n",
        "\n",
        "#else\n",
        "del dict[\"CGPA\"]\n",
        "print(dict)"
      ],
      "execution_count": null,
      "outputs": []
    },
    {
      "cell_type": "code",
      "metadata": {
        "colab": {
          "base_uri": "https://localhost:8080/"
        },
        "id": "AE8WThRI0Jmw",
        "outputId": "f216615f-ecd9-45cd-defd-3af685e5bb22"
      },
      "source": [
        "#Copy a Dictionary\n",
        "dict={\n",
        " \"Name\":\"Anik\",\n",
        " \"Subject\":\"CSE\",\n",
        " \"ID\":\"18101070\",\n",
        " \"University\":\"UAP\",\n",
        " \"CGPA\":\"3.60\"\n",
        "}\n",
        "newdict=dict.copy()\n",
        "print(newdict)"
      ],
      "execution_count": 22,
      "outputs": [
        {
          "output_type": "stream",
          "text": [
            "{'Name': 'Anik', 'Subject': 'CSE', 'ID': '18101070', 'University': 'UAP', 'CGPA': '3.60'}\n"
          ],
          "name": "stdout"
        }
      ]
    },
    {
      "cell_type": "code",
      "metadata": {
        "colab": {
          "base_uri": "https://localhost:8080/"
        },
        "id": "1y18ER-J0c7o",
        "outputId": "5860acd2-41e9-42df-b8fa-b34575fbfce6"
      },
      "source": [
        "#Nested Dictionaries\n",
        "\n",
        "dict={\n",
        "  \"dict1\" : {\n",
        " \"Name\":\"Anik\",\n",
        " \"Subject\":\"CSE\",\n",
        " \"ID\":\"18101070\",\n",
        " \"University\":\"UAP\"\n",
        " },\n",
        " \"dict2\" : {\n",
        " \"Name\":\"Abir\",\n",
        " \"Subject\":\"CSE\",\n",
        " \"ID\":\"18101069\",\n",
        " \"University\":\"UAP\"\n",
        " }\n",
        "}\n",
        "for i,j in dict.items():\n",
        " print(i,\"->\",j)"
      ],
      "execution_count": 23,
      "outputs": [
        {
          "output_type": "stream",
          "text": [
            "dict1 -> {'Name': 'Anik', 'Subject': 'CSE', 'ID': '18101070', 'University': 'UAP'}\n",
            "dict2 -> {'Name': 'Abir', 'Subject': 'CSE', 'ID': '18101069', 'University': 'UAP'}\n"
          ],
          "name": "stdout"
        }
      ]
    },
    {
      "cell_type": "code",
      "metadata": {
        "colab": {
          "base_uri": "https://localhost:8080/"
        },
        "id": "XqM_7VJIpZMW",
        "outputId": "ca727b2f-3671-45d8-ba8c-e0a6540e2f55"
      },
      "source": [
        "d={\n",
        "    \"Anik\":\"18101070\",\n",
        "    \"Rab\":\"18101073\",\n",
        "    \"Anisul\":\"18101079\"\n",
        "}\n",
        "d\n",
        "d['Anik']\n",
        "d[\"Rifat\"]=\"18101069\"\n",
        "d\n",
        "del d[\"Rifat\"]\n",
        "d\n",
        "\n",
        "for i in d:\n",
        "  print(i,d[i])\n",
        "\n",
        "for k,v in d.items():\n",
        "  print(k,v)\n",
        "\n",
        "\"Anik\" in d  \n",
        "\n",
        "\"Rifat\" in d\n",
        "\n",
        "d.clear()\n",
        "d"
      ],
      "execution_count": 9,
      "outputs": [
        {
          "output_type": "stream",
          "text": [
            "Anik 18101070\n",
            "Rab 18101073\n",
            "Anisul 18101079\n",
            "Anik 18101070\n",
            "Rab 18101073\n",
            "Anisul 18101079\n"
          ],
          "name": "stdout"
        },
        {
          "output_type": "execute_result",
          "data": {
            "text/plain": [
              "{}"
            ]
          },
          "metadata": {
            "tags": []
          },
          "execution_count": 9
        }
      ]
    }
  ]
}