{
  "nbformat": 4,
  "nbformat_minor": 0,
  "metadata": {
    "colab": {
      "name": "Python5.ipynb",
      "provenance": [],
      "collapsed_sections": [],
      "authorship_tag": "ABX9TyNWOmOPF7Wi/WrZS4aghaRv",
      "include_colab_link": true
    },
    "kernelspec": {
      "name": "python3",
      "display_name": "Python 3"
    }
  },
  "cells": [
    {
      "cell_type": "markdown",
      "metadata": {
        "id": "view-in-github",
        "colab_type": "text"
      },
      "source": [
        "<a href=\"https://colab.research.google.com/github/Void-Brain70/Python/blob/master/Python5.ipynb\" target=\"_parent\"><img src=\"https://colab.research.google.com/assets/colab-badge.svg\" alt=\"Open In Colab\"/></a>"
      ]
    },
    {
      "cell_type": "code",
      "metadata": {
        "id": "2NH8AqjwDP8c",
        "colab": {
          "base_uri": "https://localhost:8080/",
          "height": 34
        },
        "outputId": "8f994aa3-09a4-45b3-c6c2-bf8bddb4589f"
      },
      "source": [
        "class car:  \n",
        "    def __init__(self,name, year,price):  \n",
        "        self.name = name  \n",
        "        self.year = year\n",
        "        self.price = price  \n",
        "    def display(self):  \n",
        "        print(self.name,self.year,self.price)  \n",
        "  \n",
        "c1 = car(\"Toyota\", 2016,2000000)  \n",
        "c1.display()      \t\n",
        "\n"
      ],
      "execution_count": null,
      "outputs": [
        {
          "output_type": "stream",
          "text": [
            "Toyota 2016 2000000\n"
          ],
          "name": "stdout"
        }
      ]
    },
    {
      "cell_type": "code",
      "metadata": {
        "id": "oKnWM8TrEt2i",
        "colab": {
          "base_uri": "https://localhost:8080/",
          "height": 50
        },
        "outputId": "d03563a4-dbb1-469a-bc90-84627c1eff10"
      },
      "source": [
        "class student:\n",
        "\tname=\"Anik\"\n",
        "\tid=\"70\"\n",
        "\tdef show(self):\n",
        "\t\tprint(\"Name->:%s\\n Id->:%s\"%(self.name,self.id))\n",
        "\n",
        "\n",
        "s1=student()\n",
        "s1.show()\n"
      ],
      "execution_count": null,
      "outputs": [
        {
          "output_type": "stream",
          "text": [
            "Name->:Anik\n",
            " Id->:70\n"
          ],
          "name": "stdout"
        }
      ]
    },
    {
      "cell_type": "code",
      "metadata": {
        "id": "DibxETkMFp07",
        "colab": {
          "base_uri": "https://localhost:8080/",
          "height": 212
        },
        "outputId": "a7c8e203-98d8-452d-ccaa-663c288ca2cc"
      },
      "source": [
        "class student:\n",
        "\tname=\"Anik\"\n",
        "\tid=\"70\"\n",
        "\tcgpa=\"3.60\"\n",
        "\tdef show(self):\n",
        "\t\tprint(\"Name->:%s\\n Id->:%s\\n CGPA->:%s\"%(self.name,self.id,self.cgpa))\n",
        "\n",
        "s1=student()\n",
        "del s1.id\n",
        "s1.show()"
      ],
      "execution_count": null,
      "outputs": [
        {
          "output_type": "error",
          "ename": "AttributeError",
          "evalue": "ignored",
          "traceback": [
            "\u001b[0;31m---------------------------------------------------------------------------\u001b[0m",
            "\u001b[0;31mAttributeError\u001b[0m                            Traceback (most recent call last)",
            "\u001b[0;32m<ipython-input-8-9066681fe200>\u001b[0m in \u001b[0;36m<module>\u001b[0;34m()\u001b[0m\n\u001b[1;32m      7\u001b[0m \u001b[0;34m\u001b[0m\u001b[0m\n\u001b[1;32m      8\u001b[0m \u001b[0ms1\u001b[0m\u001b[0;34m=\u001b[0m\u001b[0mstudent\u001b[0m\u001b[0;34m(\u001b[0m\u001b[0;34m)\u001b[0m\u001b[0;34m\u001b[0m\u001b[0;34m\u001b[0m\u001b[0m\n\u001b[0;32m----> 9\u001b[0;31m \u001b[0;32mdel\u001b[0m \u001b[0ms1\u001b[0m\u001b[0;34m.\u001b[0m\u001b[0mid\u001b[0m\u001b[0;34m\u001b[0m\u001b[0;34m\u001b[0m\u001b[0m\n\u001b[0m\u001b[1;32m     10\u001b[0m \u001b[0ms1\u001b[0m\u001b[0;34m.\u001b[0m\u001b[0mshow\u001b[0m\u001b[0;34m(\u001b[0m\u001b[0;34m)\u001b[0m\u001b[0;34m\u001b[0m\u001b[0;34m\u001b[0m\u001b[0m\n",
            "\u001b[0;31mAttributeError\u001b[0m: id"
          ]
        }
      ]
    },
    {
      "cell_type": "code",
      "metadata": {
        "id": "N4VjBu6lHKiU",
        "colab": {
          "base_uri": "https://localhost:8080/",
          "height": 34
        },
        "outputId": "8d4915ad-4cea-4647-f362-14d42e981298"
      },
      "source": [
        "class student:\n",
        "\tcount=0\n",
        "\tdef __init__(self):\n",
        "\t\tstudent.count=student.count+1\n",
        "\n",
        "s1=student()\n",
        "s2=student()\n",
        "s3=student()\n",
        "s4=student()\n",
        "s5=student()\n",
        "\n",
        "print(\"Number of objects->\",student.count)\n"
      ],
      "execution_count": null,
      "outputs": [
        {
          "output_type": "stream",
          "text": [
            "Number of objects-> 5\n"
          ],
          "name": "stdout"
        }
      ]
    },
    {
      "cell_type": "code",
      "metadata": {
        "id": "tRT8hz-NKDHj",
        "colab": {
          "base_uri": "https://localhost:8080/",
          "height": 84
        },
        "outputId": "b478df38-6fdc-4436-a278-0823bf44d295"
      },
      "source": [
        "class student:\n",
        "   def __init__(self,name,id,dept):\n",
        "   \tself.name=name\n",
        "   \tself.id=id\n",
        "   \tself.dept=dept\n",
        "\n",
        "  \n",
        "s1=student(\"Anik\",71,\"CSE\")\n",
        "\n",
        "print(getattr(s1,'name'))\n",
        "\n",
        "setattr(s1,'id',70)\n",
        "\n",
        "print(getattr(s1,'id'))\n",
        "\n",
        "print(hasattr(s1,'id'))\n",
        "\n",
        "delattr(s1,'id')\n",
        "\n",
        "print(s1,id)"
      ],
      "execution_count": null,
      "outputs": [
        {
          "output_type": "stream",
          "text": [
            "Anik\n",
            "70\n",
            "True\n",
            "<__main__.student object at 0x7fb3aba552e8> <built-in function id>\n"
          ],
          "name": "stdout"
        }
      ]
    },
    {
      "cell_type": "code",
      "metadata": {
        "id": "xsft3XWDL63a",
        "colab": {
          "base_uri": "https://localhost:8080/",
          "height": 50
        },
        "outputId": "0e2a340e-e1b0-44d5-bef8-c64add250bae"
      },
      "source": [
        "class UAP:\n",
        "\tdef teacher(self):\n",
        "\t\tprint(\"Teacher\")\n",
        "\n",
        "class student(UAP):\n",
        "    def stu(self):\n",
        "       print(\"Student\")\n",
        "\n",
        "u=student()\n",
        "u.teacher()\n",
        "u.stu()"
      ],
      "execution_count": null,
      "outputs": [
        {
          "output_type": "stream",
          "text": [
            "Teacher\n",
            "Student\n"
          ],
          "name": "stdout"
        }
      ]
    },
    {
      "cell_type": "code",
      "metadata": {
        "id": "uWsQUbWyM0vI",
        "colab": {
          "base_uri": "https://localhost:8080/",
          "height": 67
        },
        "outputId": "f0c436ad-69d6-4477-d11e-a5abd7dd79f3"
      },
      "source": [
        "class animal:\n",
        "\tdef speak(self):\n",
        "\t\tprint(\"Animal speaking\")\n",
        "\n",
        "\n",
        "class dog(animal):\n",
        "\tdef brak(self):\n",
        "\t\tprint(\"Dog braking\")\n",
        "\n",
        "class dog1(dog):\n",
        "\tdef ma(self):\n",
        "\t\tprint(\"Eating mutton\")\n",
        "\n",
        "a=dog1()\n",
        "a.speak()\n",
        "a.brak()\n",
        "a.ma()\n",
        "\n"
      ],
      "execution_count": null,
      "outputs": [
        {
          "output_type": "stream",
          "text": [
            "Animal speaking\n",
            "Dog braking\n",
            "Eating mutton\n"
          ],
          "name": "stdout"
        }
      ]
    },
    {
      "cell_type": "code",
      "metadata": {
        "id": "l9ij8IpaO4vP",
        "colab": {
          "base_uri": "https://localhost:8080/",
          "height": 67
        },
        "outputId": "4f436dee-e8fe-4bbd-dfd3-b39f29aa796a"
      },
      "source": [
        "class cal:\n",
        "\tdef add(self,a,b):\n",
        "\t\treturn a+b\n",
        "\n",
        "class cal2:\n",
        "    def sub(self,a,b):\n",
        "        return a-b;\n",
        "\n",
        "class derived(cal,cal2):\n",
        "\tdef mul(self,a,b):\n",
        "\t\treturn a*b\n",
        "\n",
        "n=derived()\n",
        "print(n.add(10,20))\n",
        "print(n.sub(20,15))\n",
        "print(n.mul(10,10))\n"
      ],
      "execution_count": null,
      "outputs": [
        {
          "output_type": "stream",
          "text": [
            "30\n",
            "5\n",
            "100\n"
          ],
          "name": "stdout"
        }
      ]
    },
    {
      "cell_type": "code",
      "metadata": {
        "id": "YvQmioJfPmm6",
        "colab": {
          "base_uri": "https://localhost:8080/",
          "height": 50
        },
        "outputId": "e36012ea-2a0b-478c-d21a-d11e70757b15"
      },
      "source": [
        "class cal:\n",
        "\tdef add(self,a,b):\n",
        "\t\treturn a+b\n",
        "\n",
        "class cal2:\n",
        "    def sub(self,a,b):\n",
        "        return a-b;\n",
        "\n",
        "class derived(cal,cal2):\n",
        "\tdef mul(self,a,b):\n",
        "\t\treturn a*b\n",
        "\n",
        "n=derived()\n",
        "print(issubclass(derived,cal2))\n",
        "print(issubclass(cal,cal2))\n"
      ],
      "execution_count": null,
      "outputs": [
        {
          "output_type": "stream",
          "text": [
            "True\n",
            "False\n"
          ],
          "name": "stdout"
        }
      ]
    },
    {
      "cell_type": "code",
      "metadata": {
        "id": "5b4oTX29QBGY",
        "colab": {
          "base_uri": "https://localhost:8080/",
          "height": 50
        },
        "outputId": "51ab5e46-286f-4eb0-bf34-72b0e3f54bcd"
      },
      "source": [
        "class cal:\n",
        "\tdef add(self,a,b):\n",
        "\t\treturn a+b\n",
        "\n",
        "class cal2:\n",
        "    def sub(self,a,b):\n",
        "        return a-b;\n",
        "\n",
        "class derived(cal,cal2):\n",
        "\tdef mul(self,a,b):\n",
        "\t\treturn a*b\n",
        "\n",
        "n=derived()\n",
        "print(isinstance(n,derived))\n",
        "print(isinstance(n,cal))\n"
      ],
      "execution_count": null,
      "outputs": [
        {
          "output_type": "stream",
          "text": [
            "True\n",
            "True\n"
          ],
          "name": "stdout"
        }
      ]
    },
    {
      "cell_type": "code",
      "metadata": {
        "id": "Ua8bWCHNQ3Mh",
        "colab": {
          "base_uri": "https://localhost:8080/",
          "height": 34
        },
        "outputId": "af96642f-eec5-4e72-f689-bb4d0c747018"
      },
      "source": [
        "class animal:\n",
        "\tdef eat(self):\n",
        "\t\tprint(\"Fish\")\n",
        "\n",
        "class cat(animal):\n",
        "    def eat(self):\n",
        "        print(\"Mutton\")\n",
        "\n",
        "c=cat()\n",
        "c.eat()    "
      ],
      "execution_count": null,
      "outputs": [
        {
          "output_type": "stream",
          "text": [
            "Mutton\n"
          ],
          "name": "stdout"
        }
      ]
    },
    {
      "cell_type": "code",
      "metadata": {
        "id": "vZX3b2FIR6aT",
        "colab": {
          "base_uri": "https://localhost:8080/",
          "height": 67
        },
        "outputId": "6dfc6a3e-e98e-4e45-dfe5-2d5061d5da01"
      },
      "source": [
        "class bank:\n",
        "\tdef add(self):\n",
        "\t\treturn 100;\n",
        "\n",
        "class DBB(bank):\n",
        "    def add(self):\n",
        "       return 70;\n",
        "\n",
        "class IFIC(bank):\n",
        "    def add(self):\n",
        "       return 80;        \t\t\n",
        "\n",
        "b1=bank()\n",
        "b2=DBB()\n",
        "b3=IFIC()\n",
        "\n",
        "print(\"Bank amount->\",b1.add())\n",
        "print(\"DBB amount->\",b2.add())\n",
        "print(\"IFIC amount->\",b3.add())\n"
      ],
      "execution_count": null,
      "outputs": [
        {
          "output_type": "stream",
          "text": [
            "Bank amount-> 100\n",
            "DBB amount-> 70\n",
            "IFIC amount-> 80\n"
          ],
          "name": "stdout"
        }
      ]
    },
    {
      "cell_type": "code",
      "metadata": {
        "id": "usqqmArBTd9B",
        "colab": {
          "base_uri": "https://localhost:8080/",
          "height": 330
        },
        "outputId": "b116b31e-f0c2-4f44-fde5-6bcaf3772e16"
      },
      "source": [
        "class employee:\n",
        "\t def __init__(self,name,sal):\n",
        "\t \tself.name=name\n",
        "\t \tself.__sal=sal\n",
        "\n",
        "\t def show(self):\n",
        "\t    print(\"Name:%s\\n Salary:%s \"%(self.name,self.sal)) \t\n",
        "\n",
        "e=employee(\"Anik\",\"45000\")\n",
        "e.show()\n",
        "\n"
      ],
      "execution_count": null,
      "outputs": [
        {
          "output_type": "error",
          "ename": "AttributeError",
          "evalue": "ignored",
          "traceback": [
            "\u001b[0;31m---------------------------------------------------------------------------\u001b[0m",
            "\u001b[0;31mAttributeError\u001b[0m                            Traceback (most recent call last)",
            "\u001b[0;32m<ipython-input-23-1244679f2fc4>\u001b[0m in \u001b[0;36m<module>\u001b[0;34m()\u001b[0m\n\u001b[1;32m      8\u001b[0m \u001b[0;34m\u001b[0m\u001b[0m\n\u001b[1;32m      9\u001b[0m \u001b[0me\u001b[0m\u001b[0;34m=\u001b[0m\u001b[0memployee\u001b[0m\u001b[0;34m(\u001b[0m\u001b[0;34m\"Anik\"\u001b[0m\u001b[0;34m,\u001b[0m\u001b[0;34m\"45000\"\u001b[0m\u001b[0;34m)\u001b[0m\u001b[0;34m\u001b[0m\u001b[0;34m\u001b[0m\u001b[0m\n\u001b[0;32m---> 10\u001b[0;31m \u001b[0me\u001b[0m\u001b[0;34m.\u001b[0m\u001b[0mshow\u001b[0m\u001b[0;34m(\u001b[0m\u001b[0;34m)\u001b[0m\u001b[0;34m\u001b[0m\u001b[0;34m\u001b[0m\u001b[0m\n\u001b[0m\u001b[1;32m     11\u001b[0m \u001b[0;34m\u001b[0m\u001b[0m\n",
            "\u001b[0;32m<ipython-input-23-1244679f2fc4>\u001b[0m in \u001b[0;36mshow\u001b[0;34m(self)\u001b[0m\n\u001b[1;32m      5\u001b[0m \u001b[0;34m\u001b[0m\u001b[0m\n\u001b[1;32m      6\u001b[0m          \u001b[0;32mdef\u001b[0m \u001b[0mshow\u001b[0m\u001b[0;34m(\u001b[0m\u001b[0mself\u001b[0m\u001b[0;34m)\u001b[0m\u001b[0;34m:\u001b[0m\u001b[0;34m\u001b[0m\u001b[0;34m\u001b[0m\u001b[0m\n\u001b[0;32m----> 7\u001b[0;31m             \u001b[0mprint\u001b[0m\u001b[0;34m(\u001b[0m\u001b[0;34m\"Name:%s\\n Salary:%s \"\u001b[0m\u001b[0;34m%\u001b[0m\u001b[0;34m(\u001b[0m\u001b[0mself\u001b[0m\u001b[0;34m.\u001b[0m\u001b[0mname\u001b[0m\u001b[0;34m,\u001b[0m\u001b[0mself\u001b[0m\u001b[0;34m.\u001b[0m\u001b[0msal\u001b[0m\u001b[0;34m)\u001b[0m\u001b[0;34m)\u001b[0m\u001b[0;34m\u001b[0m\u001b[0;34m\u001b[0m\u001b[0m\n\u001b[0m\u001b[1;32m      8\u001b[0m \u001b[0;34m\u001b[0m\u001b[0m\n\u001b[1;32m      9\u001b[0m \u001b[0me\u001b[0m\u001b[0;34m=\u001b[0m\u001b[0memployee\u001b[0m\u001b[0;34m(\u001b[0m\u001b[0;34m\"Anik\"\u001b[0m\u001b[0;34m,\u001b[0m\u001b[0;34m\"45000\"\u001b[0m\u001b[0;34m)\u001b[0m\u001b[0;34m\u001b[0m\u001b[0;34m\u001b[0m\u001b[0m\n",
            "\u001b[0;31mAttributeError\u001b[0m: 'employee' object has no attribute 'sal'"
          ]
        }
      ]
    },
    {
      "cell_type": "code",
      "metadata": {
        "id": "4RqzQz_AUZ5N",
        "colab": {
          "base_uri": "https://localhost:8080/",
          "height": 313
        },
        "outputId": "0b7aeec8-10e2-4028-c301-b7e1f47293f7"
      },
      "source": [
        "from tkinter import*\n",
        "top=Tk()\n",
        "top.mainloop()"
      ],
      "execution_count": null,
      "outputs": [
        {
          "output_type": "error",
          "ename": "TclError",
          "evalue": "ignored",
          "traceback": [
            "\u001b[0;31m---------------------------------------------------------------------------\u001b[0m",
            "\u001b[0;31mTclError\u001b[0m                                  Traceback (most recent call last)",
            "\u001b[0;32m<ipython-input-24-b9f027a85490>\u001b[0m in \u001b[0;36m<module>\u001b[0;34m()\u001b[0m\n\u001b[1;32m      1\u001b[0m \u001b[0;32mfrom\u001b[0m \u001b[0mtkinter\u001b[0m \u001b[0;32mimport\u001b[0m\u001b[0;34m*\u001b[0m\u001b[0;34m\u001b[0m\u001b[0;34m\u001b[0m\u001b[0m\n\u001b[0;32m----> 2\u001b[0;31m \u001b[0mtop\u001b[0m\u001b[0;34m=\u001b[0m\u001b[0mTk\u001b[0m\u001b[0;34m(\u001b[0m\u001b[0;34m)\u001b[0m\u001b[0;34m\u001b[0m\u001b[0;34m\u001b[0m\u001b[0m\n\u001b[0m\u001b[1;32m      3\u001b[0m \u001b[0mtop\u001b[0m\u001b[0;34m.\u001b[0m\u001b[0mmainloop\u001b[0m\u001b[0;34m(\u001b[0m\u001b[0;34m)\u001b[0m\u001b[0;34m\u001b[0m\u001b[0;34m\u001b[0m\u001b[0m\n",
            "\u001b[0;32m/usr/lib/python3.6/tkinter/__init__.py\u001b[0m in \u001b[0;36m__init__\u001b[0;34m(self, screenName, baseName, className, useTk, sync, use)\u001b[0m\n\u001b[1;32m   2021\u001b[0m                 \u001b[0mbaseName\u001b[0m \u001b[0;34m=\u001b[0m \u001b[0mbaseName\u001b[0m \u001b[0;34m+\u001b[0m \u001b[0mext\u001b[0m\u001b[0;34m\u001b[0m\u001b[0;34m\u001b[0m\u001b[0m\n\u001b[1;32m   2022\u001b[0m         \u001b[0minteractive\u001b[0m \u001b[0;34m=\u001b[0m \u001b[0;36m0\u001b[0m\u001b[0;34m\u001b[0m\u001b[0;34m\u001b[0m\u001b[0m\n\u001b[0;32m-> 2023\u001b[0;31m         \u001b[0mself\u001b[0m\u001b[0;34m.\u001b[0m\u001b[0mtk\u001b[0m \u001b[0;34m=\u001b[0m \u001b[0m_tkinter\u001b[0m\u001b[0;34m.\u001b[0m\u001b[0mcreate\u001b[0m\u001b[0;34m(\u001b[0m\u001b[0mscreenName\u001b[0m\u001b[0;34m,\u001b[0m \u001b[0mbaseName\u001b[0m\u001b[0;34m,\u001b[0m \u001b[0mclassName\u001b[0m\u001b[0;34m,\u001b[0m \u001b[0minteractive\u001b[0m\u001b[0;34m,\u001b[0m \u001b[0mwantobjects\u001b[0m\u001b[0;34m,\u001b[0m \u001b[0museTk\u001b[0m\u001b[0;34m,\u001b[0m \u001b[0msync\u001b[0m\u001b[0;34m,\u001b[0m \u001b[0muse\u001b[0m\u001b[0;34m)\u001b[0m\u001b[0;34m\u001b[0m\u001b[0;34m\u001b[0m\u001b[0m\n\u001b[0m\u001b[1;32m   2024\u001b[0m         \u001b[0;32mif\u001b[0m \u001b[0museTk\u001b[0m\u001b[0;34m:\u001b[0m\u001b[0;34m\u001b[0m\u001b[0;34m\u001b[0m\u001b[0m\n\u001b[1;32m   2025\u001b[0m             \u001b[0mself\u001b[0m\u001b[0;34m.\u001b[0m\u001b[0m_loadtk\u001b[0m\u001b[0;34m(\u001b[0m\u001b[0;34m)\u001b[0m\u001b[0;34m\u001b[0m\u001b[0;34m\u001b[0m\u001b[0m\n",
            "\u001b[0;31mTclError\u001b[0m: no display name and no $DISPLAY environment variable"
          ]
        }
      ]
    },
    {
      "cell_type": "code",
      "metadata": {
        "id": "bGJy0WXWbjWF",
        "colab": {
          "base_uri": "https://localhost:8080/",
          "height": 128
        },
        "outputId": "176732c8-1ed9-43b1-9bc7-2d5009d567eb"
      },
      "source": [
        "class Song:\n",
        "\tdef __init__(self,title,artist,album,track_number):\n",
        "\t\tself.title=title\n",
        "\t\tself.artist=artist\n",
        "\t\tself.album=album\n",
        "\t\tself.track_number=track_number\n",
        "\n",
        "\t\tartist.add_song(self)\n",
        "\n",
        "class Album:\n",
        "    def __init__(self,title,artist,year):\n",
        "       self.title=title\n",
        "       self.artist=artist\n",
        "       self.year=year\n",
        "\n",
        "       self.tarck =[]\t\n",
        "       artist.add_album(self)\n",
        "\n",
        "    def add_tarck(self,title,artist=none):\n",
        "    \tif artist is none:\n",
        "    \t\tartist=self.artist\n",
        "\n",
        "      track_number=len(self.tarck)\n",
        "        \n",
        "      song=Song(title,artist,self,track_number)\n",
        "\n",
        "      self.tarck.append(song)\n",
        "\n",
        "class Artist:\n",
        "\tdef __init__(self,name):\n",
        "\t\tself.name=name\n",
        "\t\tself.albums=[]\n",
        "\t\tself.songs=[]\n",
        "\n",
        "    def add_album(self,album):\n",
        "    \tself.albums.append(album)\n",
        "\n",
        "    def add_song(self,song):\n",
        "        self.songs.append(song)\n",
        "\n",
        "class Playlist:\n",
        "\tdef __init__(self,name):\n",
        "\t\tself.name=name\n",
        "\t\tself.songs=[]\n",
        "\n",
        "\tdef add_song(self,song):\n",
        "\t    self.songs.append(song)\t\n",
        "\n",
        "\n",
        "band=Artist(\"Artcell\")\n",
        "album=Album(\"Poth Chola\",band,2008)\n",
        "album.add_tarck(\"Poth Chola\")\n",
        "album.add_tarck(\"Oniket Pranthor\")\n",
        "album.add_tarck(\"Tomake\")\n",
        "album.add_tarck(\"Doshor somoy\")\n",
        "album.add_tarck(\"Ei bidayee\")\n",
        "\n",
        "playlist=Playlist(\"Favourite Songs\")\n",
        "\n",
        "for i in album.tarck:\n",
        "\tplaylist.add_song(song)\n",
        "\n"
      ],
      "execution_count": null,
      "outputs": [
        {
          "output_type": "error",
          "ename": "IndentationError",
          "evalue": "ignored",
          "traceback": [
            "\u001b[0;36m  File \u001b[0;32m\"<ipython-input-27-f564a6953ff9>\"\u001b[0;36m, line \u001b[0;32m23\u001b[0m\n\u001b[0;31m    track_number=len(self.tarck)\u001b[0m\n\u001b[0m                                ^\u001b[0m\n\u001b[0;31mIndentationError\u001b[0m\u001b[0;31m:\u001b[0m unindent does not match any outer indentation level\n"
          ]
        }
      ]
    },
    {
      "cell_type": "code",
      "metadata": {
        "id": "YvNoue1zbvwr"
      },
      "source": [
        "class Song:\n",
        "\n",
        "    def __init__(self, title, artist, album, track_number):\n",
        "        self.title = title\n",
        "        self.artist = artist\n",
        "        self.album = album\n",
        "        self.track_number = track_number\n",
        "\n",
        "        artist.add_song(self)\n",
        "\n",
        "\n",
        "class Album:\n",
        "\n",
        "    def __init__(self, title, artist, year):\n",
        "        self.title = title\n",
        "        self.artist = artist\n",
        "        self.year = year\n",
        "\n",
        "        self.tracks = []\n",
        "\n",
        "        artist.add_album(self)\n",
        "\n",
        "    def add_track(self, title, artist=None):\n",
        "        if artist is None:\n",
        "            artist = self.artist\n",
        "\n",
        "        track_number = len(self.tracks)\n",
        "\n",
        "        song = Song(title, artist, self, track_number)\n",
        "\n",
        "        self.tracks.append(song)\n",
        "\n",
        "\n",
        "class Artist:\n",
        "    def __init__(self, name):\n",
        "        self.name = name\n",
        "\n",
        "        self.albums = []\n",
        "        self.songs = []\n",
        "\n",
        "    def add_album(self, album):\n",
        "        self.albums.append(album)\n",
        "\n",
        "    def add_song(self, song):\n",
        "        self.songs.append(song)\n",
        "\n",
        "\n",
        "class Playlist:\n",
        "    def __init__(self, name):\n",
        "        self.name = name\n",
        "        self.songs = []\n",
        "\n",
        "    def add_song(self, song):\n",
        "        self.songs.append(song)\n",
        "\n",
        "band = Artist(\"Bob's Awesome Band\")\n",
        "album = Album(\"Bob's First Single\", band, 2013)\n",
        "album.add_track(\"A Ballad about Cheese\")\n",
        "album.add_track(\"A Ballad about Cheese (dance remix)\")\n",
        "album.add_track(\"A Third Song to Use Up the Rest of the Space\")\n",
        "\n",
        "playlist = Playlist(\"My Favourite Songs\")\n",
        "\n",
        "for song in album.tracks:\n",
        "    playlist.add_song(song)"
      ],
      "execution_count": null,
      "outputs": []
    }
  ]
}