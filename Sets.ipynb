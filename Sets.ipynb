{
  "nbformat": 4,
  "nbformat_minor": 0,
  "metadata": {
    "colab": {
      "name": "Sets.ipynb",
      "provenance": [],
      "collapsed_sections": [],
      "authorship_tag": "ABX9TyO3SgwGSLe8uo1wjL3RCZQY",
      "include_colab_link": true
    },
    "kernelspec": {
      "name": "python3",
      "display_name": "Python 3"
    },
    "language_info": {
      "name": "python"
    }
  },
  "cells": [
    {
      "cell_type": "markdown",
      "metadata": {
        "id": "view-in-github",
        "colab_type": "text"
      },
      "source": [
        "<a href=\"https://colab.research.google.com/github/Void-Brain70/Python/blob/master/Sets.ipynb\" target=\"_parent\"><img src=\"https://colab.research.google.com/assets/colab-badge.svg\" alt=\"Open In Colab\"/></a>"
      ]
    },
    {
      "cell_type": "code",
      "metadata": {
        "id": "r8mZYCmYG2Y8"
      },
      "source": [
        "#Python Set Operations\n",
        "\n",
        "#Union of two Sets\n",
        "s1 = {1,2,3,4,5}\n",
        "s2 = {5,6,7}\n",
        "print(s1|s2 )\n",
        "# print(s1.union(s2))"
      ],
      "execution_count": null,
      "outputs": []
    },
    {
      "cell_type": "code",
      "metadata": {
        "id": "HJzzJoCOG3HB"
      },
      "source": [
        "#Intersection of two sets\n",
        "s1 = {1,2,3,4,5}\n",
        "s2 = {5,6,7}\n",
        "print(s1&s2)\n",
        "#print(s1.intersection(s2))"
      ],
      "execution_count": null,
      "outputs": []
    },
    {
      "cell_type": "code",
      "metadata": {
        "id": "Zg4YuUGVG6Rw"
      },
      "source": [
        "#Difference between the two sets\n",
        "s1 = {1,2,3,4,5,6,7}  \n",
        "s2 = {1,2,20,32,5,9} \n",
        "print(s1-s2)\n",
        "#print(s1.difference(s2))"
      ],
      "execution_count": null,
      "outputs": []
    },
    {
      "cell_type": "code",
      "metadata": {
        "id": "vmY69wiNG8Dx"
      },
      "source": [
        "#Symmetric Difference of two sets\n",
        "s1 = {1,2,3,4,5,6}  \n",
        "s2 = {1,2,9,8,10}  \n",
        "print(s1^s2)\n",
        "#print(s1.symmetric_difference(s2))  "
      ],
      "execution_count": null,
      "outputs": []
    },
    {
      "cell_type": "code",
      "metadata": {
        "id": "9dwM-w1vG9-p"
      },
      "source": [
        "#Demonstrate set operations on unique letters from two words\n",
        "a = set('abracadabra')\n",
        "b = set('alacazam')\n",
        "a    "
      ],
      "execution_count": null,
      "outputs": []
    },
    {
      "cell_type": "code",
      "metadata": {
        "id": "BCZc5E75IjU5"
      },
      "source": [
        "#Set comparisons\n",
        "s1 = {\"CSE\",\"EEE\",\"ME\",\"TE\",\"CE\"}\n",
        "s2 = {\"ME\",\"TE\",\"CE\"}\n",
        "s3 = {\"CE\",\"BBA\",\"ARC\"}\n",
        "\n",
        "#s1 is the superset of s2 hence it will print true.\n",
        "print(s1>s2)\n",
        "\n",
        "#prints false since s1 is not the subset of s2     \n",
        "print(s1<s2)    \n",
        "    \n",
        "#prints false since s2 and s3 are not equivalent     \n",
        "print(s2==s3)   "
      ],
      "execution_count": null,
      "outputs": []
    },
    {
      "cell_type": "code",
      "metadata": {
        "id": "_gCd2UVkIpsU"
      },
      "source": [
        "#FrozenSets\n",
        "#The frozen sets are the immutable form of the normal sets\n",
        "F = frozenset([1,2,3,4,5])     \n",
        "print(type(F))    \n",
        "print(\"\\nThe content of frozen set:\")    \n",
        "for i in F:    \n",
        "    print(i);    \n",
        "# Frozenset.add(6)"
      ],
      "execution_count": null,
      "outputs": []
    }
  ]
}