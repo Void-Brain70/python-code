{
  "nbformat": 4,
  "nbformat_minor": 0,
  "metadata": {
    "colab": {
      "name": "abstract_class.ipynb",
      "provenance": [],
      "collapsed_sections": [],
      "authorship_tag": "ABX9TyONpGatldPkdeqRT7leryyS",
      "include_colab_link": true
    },
    "kernelspec": {
      "name": "python3",
      "display_name": "Python 3"
    }
  },
  "cells": [
    {
      "cell_type": "markdown",
      "metadata": {
        "id": "view-in-github",
        "colab_type": "text"
      },
      "source": [
        "<a href=\"https://colab.research.google.com/github/Void-Brain70/Python/blob/master/abstract_class.ipynb\" target=\"_parent\"><img src=\"https://colab.research.google.com/assets/colab-badge.svg\" alt=\"Open In Colab\"/></a>"
      ]
    },
    {
      "cell_type": "code",
      "metadata": {
        "id": "U4gV4NpfEr7L"
      },
      "source": [
        "from abc import ABC,abstractmethod\n",
        "class Mobile(ABC):\n",
        "  def name(self):\n",
        "    print('i am a mobile')\n",
        "\n",
        "  @abstractmethod\n",
        "  def category(self):\n",
        "    pass\n",
        "\n",
        "\n",
        "class Samsung(Mobile):\n",
        "  def category(self):\n",
        "    print('i am a samsung mobile')\n",
        "\n",
        "class Apple(Mobile):\n",
        "  def category(self):\n",
        "    print('i am a apple mobile')              "
      ],
      "execution_count": null,
      "outputs": []
    },
    {
      "cell_type": "code",
      "metadata": {
        "id": "MRC0F-KfFvn3",
        "colab": {
          "base_uri": "https://localhost:8080/",
          "height": 50
        },
        "outputId": "7c71e98e-85f8-4e26-8f1b-5a210e196a3d"
      },
      "source": [
        "obj = Samsung()\n",
        "obj.name()\n",
        "obj.category()"
      ],
      "execution_count": null,
      "outputs": [
        {
          "output_type": "stream",
          "text": [
            "i am a mobile\n",
            "i am a samsung mobile\n"
          ],
          "name": "stdout"
        }
      ]
    },
    {
      "cell_type": "code",
      "metadata": {
        "id": "fG7Ck1G3F8WF",
        "colab": {
          "base_uri": "https://localhost:8080/",
          "height": 50
        },
        "outputId": "96894603-c44a-4e59-8334-fa2c313fb21a"
      },
      "source": [
        "obj = Apple()\n",
        "obj.name()\n",
        "obj.category()"
      ],
      "execution_count": null,
      "outputs": [
        {
          "output_type": "stream",
          "text": [
            "i am a mobile\n",
            "i am a apple mobile\n"
          ],
          "name": "stdout"
        }
      ]
    },
    {
      "cell_type": "markdown",
      "metadata": {
        "id": "M36fi0NmsBQY"
      },
      "source": [
        "Abstraction"
      ]
    },
    {
      "cell_type": "code",
      "metadata": {
        "id": "Ef3HywpWsEL5"
      },
      "source": [
        "from abc import ABC,abstractmethod\n",
        "class Payment(ABC):\n",
        "  def slip(self,amount):\n",
        "    print('Purchase of amount->',amount)\n",
        "\n",
        "  @abstractmethod\n",
        "  def payment(self,amount):\n",
        "    pass\n",
        "\n",
        "class Card(Payment):\n",
        "  def payment(self,amount):\n",
        "    print('Credit Card Payment->',amount)\n",
        "\n",
        "class Cash(Payment):\n",
        "  def payment(self,amount):\n",
        "    print('Cash on payment->',amount)             "
      ],
      "execution_count": null,
      "outputs": []
    },
    {
      "cell_type": "code",
      "metadata": {
        "id": "AbjMVR3ws_xU",
        "colab": {
          "base_uri": "https://localhost:8080/",
          "height": 118
        },
        "outputId": "90bd80b6-d34d-4903-a863-6e8227eaecd9"
      },
      "source": [
        "obj=Card()\n",
        "obj.payment(200)\n",
        "obj.slip(200)\n",
        "print(isinstance(obj,Payment))\n",
        "\n",
        "\n",
        "obj=Cash()\n",
        "obj.payment(200)\n",
        "obj.slip(200)\n",
        "print(isinstance(obj,Payment))"
      ],
      "execution_count": null,
      "outputs": [
        {
          "output_type": "stream",
          "text": [
            "Credit Card Payment-> 200\n",
            "Purchase of amount-> 200\n",
            "True\n",
            "Cash on payment-> 200\n",
            "Purchase of amount-> 200\n",
            "True\n"
          ],
          "name": "stdout"
        }
      ]
    },
    {
      "cell_type": "markdown",
      "metadata": {
        "id": "6tMT03g2uBMg"
      },
      "source": [
        "Interface"
      ]
    },
    {
      "cell_type": "code",
      "metadata": {
        "id": "-NUfX1-RuCrJ"
      },
      "source": [
        "class Chip:\n",
        "  def model(self):\n",
        "    print('Qualcomm Snapdragon')\n",
        "\n",
        "class Camera:\n",
        "  def model(self):\n",
        "    print('sony')\n",
        "\n",
        "class Display:\n",
        "  def model(self):\n",
        "    print('LED')  \n",
        "\n",
        "\n",
        "class Samsung:\n",
        "  def invoke(self,obj):\n",
        "    obj.model()              "
      ],
      "execution_count": null,
      "outputs": []
    },
    {
      "cell_type": "code",
      "metadata": {
        "id": "pcB9dcn2vuic",
        "colab": {
          "base_uri": "https://localhost:8080/",
          "height": 67
        },
        "outputId": "27a4a6b9-b52f-4b53-b1a9-760447e944d3"
      },
      "source": [
        "s= Samsung()\n",
        "obj=Chip()\n",
        "s.invoke(obj)\n",
        "obj=Camera()\n",
        "s.invoke(obj)\n",
        "obj=Display()\n",
        "s.invoke(obj)"
      ],
      "execution_count": null,
      "outputs": [
        {
          "output_type": "stream",
          "text": [
            "Qualcomm Snapdragon\n",
            "sony\n",
            "LED\n"
          ],
          "name": "stdout"
        }
      ]
    },
    {
      "cell_type": "markdown",
      "metadata": {
        "id": "1E4axV-CzaWB"
      },
      "source": [
        "Class Object"
      ]
    },
    {
      "cell_type": "code",
      "metadata": {
        "id": "k5vcvtkWzcSo"
      },
      "source": [
        "class Rectangle:\n",
        "  pass"
      ],
      "execution_count": null,
      "outputs": []
    },
    {
      "cell_type": "code",
      "metadata": {
        "id": "qwz6WEThznRX",
        "colab": {
          "base_uri": "https://localhost:8080/",
          "height": 50
        },
        "outputId": "390f9958-594e-42dd-82f5-ec2c76a1c781"
      },
      "source": [
        "r1= Rectangle()\n",
        "r2= Rectangle()\n",
        "\n",
        "r1.height=20\n",
        "r2.height=30\n",
        "\n",
        "r1.width=10\n",
        "r2.width=20\n",
        "\n",
        "print(r1.height*r1.width)\n",
        "print(r2.height*r2.width)"
      ],
      "execution_count": null,
      "outputs": [
        {
          "output_type": "stream",
          "text": [
            "200\n",
            "600\n"
          ],
          "name": "stdout"
        }
      ]
    },
    {
      "cell_type": "markdown",
      "metadata": {
        "id": "-QzGTEFf1DTr"
      },
      "source": [
        "Composition"
      ]
    },
    {
      "cell_type": "code",
      "metadata": {
        "id": "GN2FYGvu1G0v"
      },
      "source": [
        "class Salary:\n",
        "  def __init__(self,pay,bonus):\n",
        "    self.pay=pay\n",
        "    self.bonus=bonus\n",
        "  def annual_salary(self):\n",
        "    return(self.pay*12)+self.bonus\n",
        "\n",
        "class Employee:\n",
        "  def __init__(self,name,age,pay,bonus):\n",
        "    self.name=name\n",
        "    self.age=age\n",
        "    self.obj=Salary(pay,bonus)\n",
        "\n",
        "  def total_salary(self):\n",
        "    return self.obj.annual_salary()\n",
        "      \n"
      ],
      "execution_count": null,
      "outputs": []
    },
    {
      "cell_type": "code",
      "metadata": {
        "id": "ytLqJxxO1ycQ",
        "colab": {
          "base_uri": "https://localhost:8080/",
          "height": 34
        },
        "outputId": "95143bcd-f219-48a1-90e7-dc05d6d1eeaa"
      },
      "source": [
        "e=Employee('anik',22,20000,10000)\n",
        "print(e.total_salary())"
      ],
      "execution_count": null,
      "outputs": [
        {
          "output_type": "stream",
          "text": [
            "250000\n"
          ],
          "name": "stdout"
        }
      ]
    },
    {
      "cell_type": "markdown",
      "metadata": {
        "id": "x_V9GAwq2klr"
      },
      "source": [
        "Aggregation"
      ]
    },
    {
      "cell_type": "code",
      "metadata": {
        "id": "ZckM_0OM2rgv"
      },
      "source": [
        "class Salary:\n",
        "  def __init__(self,pay,bonus):\n",
        "    self.pay=pay\n",
        "    self.bonus=bonus\n",
        "  def annual_salary(self):\n",
        "    return(self.pay*12)+self.bonus\n",
        "\n",
        "class Employee:\n",
        "  def __init__(self,name,age,salary):\n",
        "    self.name=name\n",
        "    self.age=age\n",
        "    self.obj=salary\n",
        "\n",
        "  def total_salary(self):\n",
        "    return self.obj.annual_salary()"
      ],
      "execution_count": null,
      "outputs": []
    },
    {
      "cell_type": "code",
      "metadata": {
        "id": "lt-d7-br3jOP",
        "colab": {
          "base_uri": "https://localhost:8080/",
          "height": 34
        },
        "outputId": "6970780b-9dba-4cc4-a1e6-08631cd11c30"
      },
      "source": [
        "s=Salary(20000,15000)\n",
        "e=Employee('anik',22,s)\n",
        "print(e.total_salary())"
      ],
      "execution_count": null,
      "outputs": [
        {
          "output_type": "stream",
          "text": [
            "255000\n"
          ],
          "name": "stdout"
        }
      ]
    }
  ]
}