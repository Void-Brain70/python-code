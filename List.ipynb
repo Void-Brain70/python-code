{
  "nbformat": 4,
  "nbformat_minor": 0,
  "metadata": {
    "colab": {
      "name": "List.ipynb",
      "provenance": [],
      "collapsed_sections": [],
      "authorship_tag": "ABX9TyPzw0yp0C5bo/rw0OAJ43LR",
      "include_colab_link": true
    },
    "kernelspec": {
      "name": "python3",
      "display_name": "Python 3"
    },
    "language_info": {
      "name": "python"
    }
  },
  "cells": [
    {
      "cell_type": "markdown",
      "metadata": {
        "id": "view-in-github",
        "colab_type": "text"
      },
      "source": [
        "<a href=\"https://colab.research.google.com/github/Void-Brain70/Python/blob/master/List.ipynb\" target=\"_parent\"><img src=\"https://colab.research.google.com/assets/colab-badge.svg\" alt=\"Open In Colab\"/></a>"
      ]
    },
    {
      "cell_type": "markdown",
      "metadata": {
        "id": "1ALezDGS5Ks2"
      },
      "source": [
        "List"
      ]
    },
    {
      "cell_type": "code",
      "metadata": {
        "colab": {
          "base_uri": "https://localhost:8080/"
        },
        "id": "zM6yn0Li5A2r",
        "outputId": "4d312375-d11c-4f8f-b838-169b6c5dd7f7"
      },
      "source": [
        "#Create a List:\n",
        "l = [\"apple\", \"banana\", \"cherry\"]\n",
        "print(l)"
      ],
      "execution_count": 8,
      "outputs": [
        {
          "output_type": "stream",
          "text": [
            "['apple', 'banana', 'cherry']\n"
          ],
          "name": "stdout"
        }
      ]
    },
    {
      "cell_type": "code",
      "metadata": {
        "colab": {
          "base_uri": "https://localhost:8080/"
        },
        "id": "Hom0KSpiCCHE",
        "outputId": "14d95a22-1243-4497-835f-b0f99148030a"
      },
      "source": [
        "#Lists allow duplicate values:\n",
        "l = [\"apple\", \"banana\", \"cherry\", \"apple\", \"cherry\"]\n",
        "print(l)"
      ],
      "execution_count": 18,
      "outputs": [
        {
          "output_type": "stream",
          "text": [
            "['apple', 'banana', 'cherry', 'apple', 'cherry']\n"
          ],
          "name": "stdout"
        }
      ]
    },
    {
      "cell_type": "code",
      "metadata": {
        "colab": {
          "base_uri": "https://localhost:8080/"
        },
        "id": "LVzzU0CmDNLc",
        "outputId": "bf1784db-ea68-4d8e-8e1f-48e51ab7b82e"
      },
      "source": [
        "#Print the number of items in the list:\n",
        "l = [\"CSE\",\"EEE\",\"ME\",\"TE\",\"IPE\",\"BBA\"]\n",
        "print(len(l))"
      ],
      "execution_count": 19,
      "outputs": [
        {
          "output_type": "stream",
          "text": [
            "6\n"
          ],
          "name": "stdout"
        }
      ]
    },
    {
      "cell_type": "code",
      "metadata": {
        "colab": {
          "base_uri": "https://localhost:8080/"
        },
        "id": "8ZgRjoaUDkI0",
        "outputId": "9fd718a3-650e-4a3f-e2d5-c6855f5caa80"
      },
      "source": [
        "#A list with strings, integers and boolean values:\n",
        "l=[\"Anik\",70,True,\"CSE\"]\n",
        "print(l)"
      ],
      "execution_count": 20,
      "outputs": [
        {
          "output_type": "stream",
          "text": [
            "['Anik', 70, True, 'CSE']\n"
          ],
          "name": "stdout"
        }
      ]
    },
    {
      "cell_type": "code",
      "metadata": {
        "colab": {
          "base_uri": "https://localhost:8080/"
        },
        "id": "BO07mEDtDwXs",
        "outputId": "7a369404-d110-43ce-d519-ee7dd23ca285"
      },
      "source": [
        "#What is the data type of a list?\n",
        "l = [\"CSE\",\"EEE\",\"ME\",\"TE\",\"IPE\",\"BBA\"]\n",
        "print(type(l))"
      ],
      "execution_count": 21,
      "outputs": [
        {
          "output_type": "stream",
          "text": [
            "<class 'list'>\n"
          ],
          "name": "stdout"
        }
      ]
    },
    {
      "cell_type": "code",
      "metadata": {
        "colab": {
          "base_uri": "https://localhost:8080/"
        },
        "id": "VFOZj4WBEEp1",
        "outputId": "63dba651-b90f-48eb-8c40-3cc8238f0825"
      },
      "source": [
        "#Access List Items 0 to 5\n",
        "l = [\"CSE\",\"EEE\",\"ME\",\"TE\",\"IPE\",\"BBA\"]\n",
        "print(l[1])\n",
        "print(l[-1]) #Negative Indexing\n",
        "print(l[2:5]) #Range of Indexes\n",
        "print(l[2:])\n",
        "print(l[:4])\n",
        "print(l[-3:-2])"
      ],
      "execution_count": 28,
      "outputs": [
        {
          "output_type": "stream",
          "text": [
            "EEE\n",
            "BBA\n",
            "['ME', 'TE', 'IPE']\n",
            "['ME', 'TE', 'IPE', 'BBA']\n",
            "['CSE', 'EEE', 'ME', 'TE']\n",
            "['TE']\n"
          ],
          "name": "stdout"
        }
      ]
    },
    {
      "cell_type": "code",
      "metadata": {
        "colab": {
          "base_uri": "https://localhost:8080/"
        },
        "id": "93kqLnZzFJET",
        "outputId": "a070aa2e-9541-44fa-8fab-2e6621b8debe"
      },
      "source": [
        "#Change List Items\n",
        "l = [\"CSE\",\"EEE\",\"ME\",\"TE\",\"IPE\",\"BBA\"]\n",
        "l[3]=\"Pharmacy\"\n",
        "print(l)\n",
        "\n",
        "l.insert(4,\"TE\")\n",
        "print(l)\n",
        "\n",
        "l.append(\"LAW\")\n",
        "print(l)"
      ],
      "execution_count": 32,
      "outputs": [
        {
          "output_type": "stream",
          "text": [
            "['CSE', 'EEE', 'ME', 'Pharmacy', 'IPE', 'BBA']\n",
            "['CSE', 'EEE', 'ME', 'Pharmacy', 'TE', 'IPE', 'BBA']\n",
            "['CSE', 'EEE', 'ME', 'Pharmacy', 'TE', 'IPE', 'BBA', 'LAW']\n"
          ],
          "name": "stdout"
        }
      ]
    },
    {
      "cell_type": "code",
      "metadata": {
        "colab": {
          "base_uri": "https://localhost:8080/"
        },
        "id": "7dWZ9IxTF2dl",
        "outputId": "b6c6bd98-90f5-4312-c3aa-1d31e9617433"
      },
      "source": [
        "#Extend List\n",
        "l1 = [\"CSE\",\"EEE\",\"ME\",\"TE\",\"IPE\",\"BBA\"]\n",
        "l2 = [\"UAP\",\"DIU\",\"AIUB\",\"UIU\",\"NSU\",\"IUB\"]\n",
        "l1.extend(l2)\n",
        "print(l1)"
      ],
      "execution_count": 33,
      "outputs": [
        {
          "output_type": "stream",
          "text": [
            "['CSE', 'EEE', 'ME', 'TE', 'IPE', 'BBA', 'UAP', 'DIU', 'AIUB', 'UIU', 'NSU', 'IUB']\n"
          ],
          "name": "stdout"
        }
      ]
    },
    {
      "cell_type": "code",
      "metadata": {
        "colab": {
          "base_uri": "https://localhost:8080/"
        },
        "id": "VAGlKQeaGXD9",
        "outputId": "dfb011ef-0e2d-4ae2-bc8d-b633e16c5274"
      },
      "source": [
        "#Remove List Items\n",
        "l = [\"UAP\",\"DIU\",\"AIUB\",\"UIU\",\"NSU\",\"IUB\"]\n",
        "l.remove(\"UAP\")\n",
        "print(l)\n",
        "\n",
        "l1 = [\"UAP\",\"DIU\",\"AIUB\",\"UIU\",\"NSU\",\"IUB\"]\n",
        "l1.pop() #pop() Remove the last item\n",
        "print(l1)\n",
        "\n",
        "l2 = [\"UAP\",\"DIU\",\"AIUB\",\"UIU\",\"NSU\",\"IUB\"]\n",
        "del l2[0] #del() Remove the first item\n",
        "print(l2)\n",
        "\n",
        "l3 = [\"UAP\",\"DIU\",\"AIUB\",\"UIU\",\"NSU\",\"IUB\"]\n",
        "l3.clear()\n",
        "print(l3)"
      ],
      "execution_count": 43,
      "outputs": [
        {
          "output_type": "stream",
          "text": [
            "['DIU', 'AIUB', 'UIU', 'NSU', 'IUB']\n",
            "['UAP', 'DIU', 'AIUB', 'UIU', 'NSU']\n",
            "['DIU', 'AIUB', 'UIU', 'NSU', 'IUB']\n",
            "[]\n"
          ],
          "name": "stdout"
        }
      ]
    },
    {
      "cell_type": "code",
      "metadata": {
        "colab": {
          "base_uri": "https://localhost:8080/"
        },
        "id": "2k_sMTYcHsSv",
        "outputId": "16695a4b-a269-42d7-c62e-08be23481904"
      },
      "source": [
        "#Loop Lists\n",
        "l = [\"CSE\",\"EEE\",\"ME\",\"TE\",\"IPE\",\"BBA\"]\n",
        "for i in l:\n",
        "  print(i)\n",
        "\n",
        "l1 = [\"CSE\",\"EEE\",\"ME\",\"TE\",\"IPE\",\"BBA\"]\n",
        "for i in range(len(l1)):\n",
        "  print(l[i])\n"
      ],
      "execution_count": 48,
      "outputs": [
        {
          "output_type": "stream",
          "text": [
            "CSE\n",
            "EEE\n",
            "ME\n",
            "TE\n",
            "IPE\n",
            "BBA\n",
            "CSE\n",
            "EEE\n",
            "ME\n",
            "TE\n",
            "IPE\n",
            "BBA\n"
          ],
          "name": "stdout"
        }
      ]
    },
    {
      "cell_type": "code",
      "metadata": {
        "colab": {
          "base_uri": "https://localhost:8080/"
        },
        "id": "mus1RxMDIkye",
        "outputId": "6fd27e65-0a5a-4b43-9d1e-0eadea465132"
      },
      "source": [
        "#List Comprehension\n",
        "l = [\"CSE\",\"EEE\",\"ME\",\"TE\",\"IPE\",\"BBA\"]\n",
        "new = []\n",
        "\n",
        "for i in l:\n",
        "  if 'E' in i:\n",
        "    new.append(i)\n",
        "\n",
        "print(new)"
      ],
      "execution_count": 49,
      "outputs": [
        {
          "output_type": "stream",
          "text": [
            "['CSE', 'EEE', 'ME', 'TE', 'IPE']\n"
          ],
          "name": "stdout"
        }
      ]
    },
    {
      "cell_type": "code",
      "metadata": {
        "colab": {
          "base_uri": "https://localhost:8080/"
        },
        "id": "bwnCFt4QJF48",
        "outputId": "22e4604f-a3d3-4255-b46b-695dfce5fe17"
      },
      "source": [
        "#Sort Lists\n",
        "l = [\"CSE\",\"EEE\",\"ME\",\"TE\",\"IPE\",\"BBA\"]\n",
        "l.sort()\n",
        "print(l)\n",
        "\n",
        "l1 = [100, 50, 65, 82, 23]\n",
        "l1.sort()\n",
        "print(l1)\n",
        "\n",
        "l2 = [100, 50, 65, 82, 23]\n",
        "l2.sort(reverse = True)\n",
        "print(l2)\n",
        "\n",
        "l3 = [\"CSE\",\"EEE\",\"ME\",\"TE\",\"IPE\",\"BBA\"]\n",
        "l3.reverse()\n",
        "print(l3)\n"
      ],
      "execution_count": 53,
      "outputs": [
        {
          "output_type": "stream",
          "text": [
            "['BBA', 'CSE', 'EEE', 'IPE', 'ME', 'TE']\n",
            "[23, 50, 65, 82, 100]\n",
            "[100, 82, 65, 50, 23]\n",
            "['BBA', 'IPE', 'TE', 'ME', 'EEE', 'CSE']\n"
          ],
          "name": "stdout"
        }
      ]
    },
    {
      "cell_type": "code",
      "metadata": {
        "colab": {
          "base_uri": "https://localhost:8080/"
        },
        "id": "EHrX4YWGKEBm",
        "outputId": "073f7fe5-f3e4-4b9c-9aba-6c2d83b95174"
      },
      "source": [
        "#Copy a List\n",
        "l = [\"CSE\",\"EEE\",\"ME\",\"TE\",\"IPE\",\"BBA\"]\n",
        "new = l.copy()\n",
        "print(new)"
      ],
      "execution_count": 54,
      "outputs": [
        {
          "output_type": "stream",
          "text": [
            "['CSE', 'EEE', 'ME', 'TE', 'IPE', 'BBA']\n"
          ],
          "name": "stdout"
        }
      ]
    },
    {
      "cell_type": "code",
      "metadata": {
        "colab": {
          "base_uri": "https://localhost:8080/"
        },
        "id": "V_3EKQOmKV70",
        "outputId": "ce8ac143-1e3f-42c0-92fd-6baa76b88fc0"
      },
      "source": [
        "#Join Two Lists\n",
        "food = ['bread','pasta','fruits']\n",
        "car = ['BMW','AUDI','VOLVO']\n",
        "l = food+car\n",
        "print(l)"
      ],
      "execution_count": 55,
      "outputs": [
        {
          "output_type": "stream",
          "text": [
            "['bread', 'pasta', 'fruits', 'BMW', 'AUDI', 'VOLVO']\n"
          ],
          "name": "stdout"
        }
      ]
    },
    {
      "cell_type": "code",
      "metadata": {
        "colab": {
          "base_uri": "https://localhost:8080/",
          "height": 35
        },
        "id": "xZPEGiWj5uYw",
        "outputId": "f40f2164-354f-46c6-868f-398e34c3d669"
      },
      "source": [
        "l[0]\n",
        "l[2]"
      ],
      "execution_count": 3,
      "outputs": [
        {
          "output_type": "execute_result",
          "data": {
            "application/vnd.google.colaboratory.intrinsic+json": {
              "type": "string"
            },
            "text/plain": [
              "'cherry'"
            ]
          },
          "metadata": {
            "tags": []
          },
          "execution_count": 3
        }
      ]
    },
    {
      "cell_type": "code",
      "metadata": {
        "colab": {
          "base_uri": "https://localhost:8080/"
        },
        "id": "WTGke91056cN",
        "outputId": "95fbafd9-a247-4e3c-994f-ad362dc6030a"
      },
      "source": [
        "l[0]=\"Mango\"\n",
        "print(l)"
      ],
      "execution_count": 4,
      "outputs": [
        {
          "output_type": "stream",
          "text": [
            "['Mango', 'banana', 'cherry']\n"
          ],
          "name": "stdout"
        }
      ]
    },
    {
      "cell_type": "code",
      "metadata": {
        "colab": {
          "base_uri": "https://localhost:8080/"
        },
        "id": "7Xykd6pc6A0l",
        "outputId": "e30cfa0f-7b4f-4a11-ee08-2e71d3480d52"
      },
      "source": [
        "l[0:2]"
      ],
      "execution_count": 6,
      "outputs": [
        {
          "output_type": "execute_result",
          "data": {
            "text/plain": [
              "['Mango', 'banana']"
            ]
          },
          "metadata": {
            "tags": []
          },
          "execution_count": 6
        }
      ]
    },
    {
      "cell_type": "code",
      "metadata": {
        "colab": {
          "base_uri": "https://localhost:8080/",
          "height": 35
        },
        "id": "wG7RPFHX6K1H",
        "outputId": "fa63ab85-0ff0-44a0-bc73-431e1ec47b65"
      },
      "source": [
        "l[-1]"
      ],
      "execution_count": 7,
      "outputs": [
        {
          "output_type": "execute_result",
          "data": {
            "application/vnd.google.colaboratory.intrinsic+json": {
              "type": "string"
            },
            "text/plain": [
              "'cherry'"
            ]
          },
          "metadata": {
            "tags": []
          },
          "execution_count": 7
        }
      ]
    },
    {
      "cell_type": "code",
      "metadata": {
        "colab": {
          "base_uri": "https://localhost:8080/"
        },
        "id": "dUSoFZVq6YED",
        "outputId": "43a2b831-0660-49d7-81b9-6bbf13e5765f"
      },
      "source": [
        "l.append(\"mango\")\n",
        "print(l)"
      ],
      "execution_count": 9,
      "outputs": [
        {
          "output_type": "stream",
          "text": [
            "['apple', 'banana', 'cherry', 'mango']\n"
          ],
          "name": "stdout"
        }
      ]
    },
    {
      "cell_type": "code",
      "metadata": {
        "colab": {
          "base_uri": "https://localhost:8080/"
        },
        "id": "a5ZpH1MK6ji8",
        "outputId": "b4493cc4-a2c4-4adb-e462-b7d32e03b48b"
      },
      "source": [
        "l.insert(0,'pineapple')\n",
        "print(l)"
      ],
      "execution_count": 11,
      "outputs": [
        {
          "output_type": "stream",
          "text": [
            "['pineapple', 'apple', 'pineapple', 'banana', 'cherry', 'mango']\n"
          ],
          "name": "stdout"
        }
      ]
    },
    {
      "cell_type": "code",
      "metadata": {
        "colab": {
          "base_uri": "https://localhost:8080/"
        },
        "id": "ZsIiMwP87eOY",
        "outputId": "ed672bab-0a57-4f9a-c434-fa35fb08ce7f"
      },
      "source": [
        "len(l)"
      ],
      "execution_count": 13,
      "outputs": [
        {
          "output_type": "execute_result",
          "data": {
            "text/plain": [
              "6"
            ]
          },
          "metadata": {
            "tags": []
          },
          "execution_count": 13
        }
      ]
    },
    {
      "cell_type": "code",
      "metadata": {
        "colab": {
          "base_uri": "https://localhost:8080/"
        },
        "id": "uxZeDMEo72Yn",
        "outputId": "0ab8a922-5173-4466-9008-ba5fac47c97c"
      },
      "source": [
        "\"BMW\" in l"
      ],
      "execution_count": 14,
      "outputs": [
        {
          "output_type": "execute_result",
          "data": {
            "text/plain": [
              "True"
            ]
          },
          "metadata": {
            "tags": []
          },
          "execution_count": 14
        }
      ]
    },
    {
      "cell_type": "code",
      "metadata": {
        "colab": {
          "base_uri": "https://localhost:8080/"
        },
        "id": "48YOgQ-9763X",
        "outputId": "8de6abf8-25d8-4ec2-9a7d-27a454ff7423"
      },
      "source": [
        "\"TATA\" in l"
      ],
      "execution_count": 15,
      "outputs": [
        {
          "output_type": "execute_result",
          "data": {
            "text/plain": [
              "False"
            ]
          },
          "metadata": {
            "tags": []
          },
          "execution_count": 15
        }
      ]
    },
    {
      "cell_type": "code",
      "metadata": {
        "colab": {
          "base_uri": "https://localhost:8080/"
        },
        "id": "7U3OqZ4m7_oO",
        "outputId": "7342d685-b0b0-41ca-ed63-8323d5a54177"
      },
      "source": [
        "\"TATA\" not in l"
      ],
      "execution_count": 16,
      "outputs": [
        {
          "output_type": "execute_result",
          "data": {
            "text/plain": [
              "True"
            ]
          },
          "metadata": {
            "tags": []
          },
          "execution_count": 16
        }
      ]
    }
  ]
}