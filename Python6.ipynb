{
  "nbformat": 4,
  "nbformat_minor": 0,
  "metadata": {
    "colab": {
      "name": "Python6.ipynb",
      "provenance": [],
      "collapsed_sections": [],
      "authorship_tag": "ABX9TyO2yud2ZwbWlzorVIhgYfrj",
      "include_colab_link": true
    },
    "kernelspec": {
      "name": "python3",
      "display_name": "Python 3"
    }
  },
  "cells": [
    {
      "cell_type": "markdown",
      "metadata": {
        "id": "view-in-github",
        "colab_type": "text"
      },
      "source": [
        "<a href=\"https://colab.research.google.com/github/Void-Brain70/Python/blob/master/Python6.ipynb\" target=\"_parent\"><img src=\"https://colab.research.google.com/assets/colab-badge.svg\" alt=\"Open In Colab\"/></a>"
      ]
    },
    {
      "cell_type": "code",
      "metadata": {
        "id": "VpMqZSjV0AKj",
        "colab": {
          "base_uri": "https://localhost:8080/",
          "height": 134
        },
        "outputId": "b6947af5-de59-442b-cb7d-f29848d5e13c"
      },
      "source": [
        "s=\"PYTHON\"\n",
        "print(s[0])\n",
        "print(s[5])\n",
        "print(s[:])\n",
        "print(s[0:])\n",
        "print(s[:4])\n",
        "print(s[1:3])\n",
        "print(s[2:5])\n"
      ],
      "execution_count": null,
      "outputs": [
        {
          "output_type": "stream",
          "text": [
            "P\n",
            "N\n",
            "PYTHON\n",
            "PYTHON\n",
            "PYTH\n",
            "YT\n",
            "THO\n"
          ],
          "name": "stdout"
        }
      ]
    },
    {
      "cell_type": "code",
      "metadata": {
        "id": "e-qV3YeI2IkO",
        "colab": {
          "base_uri": "https://localhost:8080/",
          "height": 118
        },
        "outputId": "606fdd81-c7d9-4dd7-be4b-713b5e13786f"
      },
      "source": [
        "s=\"PYTHON\"\n",
        "print(s[-6])\n",
        "print(s[-0])\n",
        "print(s[-3:-1])\n",
        "print(s[-4:-1])\n",
        "print(s[-6:])\n",
        "print(s[::-1])"
      ],
      "execution_count": null,
      "outputs": [
        {
          "output_type": "stream",
          "text": [
            "P\n",
            "P\n",
            "HO\n",
            "THO\n",
            "PYTHON\n",
            "NOHTYP\n"
          ],
          "name": "stdout"
        }
      ]
    },
    {
      "cell_type": "code",
      "metadata": {
        "id": "HefszDl94guf",
        "colab": {
          "base_uri": "https://localhost:8080/",
          "height": 34
        },
        "outputId": "d91f9789-8304-4610-fd23-8d9f78c05aba"
      },
      "source": [
        "id=70\n",
        "s=\"Anik Das {}\"\n",
        "print(s.format(id))\n"
      ],
      "execution_count": null,
      "outputs": [
        {
          "output_type": "stream",
          "text": [
            "Anik Das 70\n"
          ],
          "name": "stdout"
        }
      ]
    },
    {
      "cell_type": "code",
      "metadata": {
        "id": "OGlqSJVT4-Lg",
        "colab": {
          "base_uri": "https://localhost:8080/",
          "height": 34
        },
        "outputId": "50c1634a-6a5e-4a63-fcc2-a6a7de378c16"
      },
      "source": [
        "s=\"my name is anik my id is \\\"70\\\" CSE.\"\n",
        "print(s)"
      ],
      "execution_count": null,
      "outputs": [
        {
          "output_type": "stream",
          "text": [
            "my name is anik my id is \"70\" CSE.\n"
          ],
          "name": "stdout"
        }
      ]
    },
    {
      "cell_type": "code",
      "metadata": {
        "id": "Z5DOGNgK_Ji9",
        "colab": {
          "base_uri": "https://localhost:8080/",
          "height": 84
        },
        "outputId": "571b180a-1edb-4b1b-a313-400306143895"
      },
      "source": [
        "l=[1,2,3,4,5]\n",
        "print(l[0:6])\n",
        "print(l[1:2])\n",
        "print(l[1:3])\n",
        "print(l[2:4])"
      ],
      "execution_count": null,
      "outputs": [
        {
          "output_type": "stream",
          "text": [
            "[1, 2, 3, 4, 5]\n",
            "[2]\n",
            "[2, 3]\n",
            "[3, 4]\n"
          ],
          "name": "stdout"
        }
      ]
    },
    {
      "cell_type": "code",
      "metadata": {
        "id": "IiNrhO1ECABM",
        "colab": {
          "base_uri": "https://localhost:8080/",
          "height": 34
        },
        "outputId": "9b1a0ab9-a316-4da3-f752-fd1b092b2b05"
      },
      "source": [
        "a =10\n",
        "if a>10:\n",
        "   print(a)\n",
        "if a<10:\n",
        "   print(a)\n",
        "else:\n",
        "  print(20)"
      ],
      "execution_count": null,
      "outputs": [
        {
          "output_type": "stream",
          "text": [
            "20\n"
          ],
          "name": "stdout"
        }
      ]
    },
    {
      "cell_type": "markdown",
      "metadata": {
        "id": "ip6cadpb5MBS"
      },
      "source": [
        ""
      ]
    }
  ]
}