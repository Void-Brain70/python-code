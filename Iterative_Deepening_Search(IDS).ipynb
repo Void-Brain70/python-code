{
  "nbformat": 4,
  "nbformat_minor": 0,
  "metadata": {
    "colab": {
      "name": "Iterative_Deepening_Search(IDS).ipynb",
      "provenance": [],
      "authorship_tag": "ABX9TyOUqkS9OrAWCx9vNsHJV323",
      "include_colab_link": true
    },
    "kernelspec": {
      "name": "python3",
      "display_name": "Python 3"
    },
    "language_info": {
      "name": "python"
    }
  },
  "cells": [
    {
      "cell_type": "markdown",
      "metadata": {
        "id": "view-in-github",
        "colab_type": "text"
      },
      "source": [
        "<a href=\"https://colab.research.google.com/github/Void-Brain70/Python/blob/master/Iterative_Deepening_Search(IDS).ipynb\" target=\"_parent\"><img src=\"https://colab.research.google.com/assets/colab-badge.svg\" alt=\"Open In Colab\"/></a>"
      ]
    },
    {
      "cell_type": "code",
      "metadata": {
        "colab": {
          "base_uri": "https://localhost:8080/"
        },
        "id": "nluIHlReCY5K",
        "outputId": "e7ffd5ea-c751-4c68-a187-bfed7dcb9516"
      },
      "source": [
        "graph = {\n",
        "  'A' : ['B','C'],\n",
        "  'B' : ['D', 'E'],\n",
        "  'D' : ['H','I'],\n",
        "  'H' : [],\n",
        "  'I' : [],\n",
        "  'E' : ['J','K'],\n",
        "  'J' : [],\n",
        "  'K' : [],\n",
        "  'C' : ['F','G'],\n",
        "  'F' : ['L','M'],\n",
        "  'L' : [],\n",
        "  'M' : [],\n",
        "  'G' : ['N','O'],\n",
        "  'N' : [],\n",
        "  'O' : []\n",
        "}\n",
        "path = list()\n",
        "\n",
        "def DFS(currentNode,destination,graph,maxDepth,curList):\n",
        "  print(\"Checking for destination\",currentNode)\n",
        "  curList.append(currentNode)\n",
        "  if currentNode==destination:\n",
        "    return True\n",
        "  if maxDepth<=0:\n",
        "    path.append(curList)\n",
        "    return False\n",
        "  for node in graph[currentNode]:\n",
        "    if DFS(node,destination,graph,maxDepth-1,curList):\n",
        "      return True\n",
        "    else:\n",
        "      curList.pop()\n",
        "  return False\n",
        "\n",
        "def iterativeDDFS(currentNode,destination,graph,maxDepth):\n",
        "  for i in range(maxDepth):\n",
        "    curList = list()\n",
        "    if DFS(currentNode,destination,graph,i,curList):\n",
        "      return True\n",
        "  return False\n",
        "\n",
        "if not iterativeDDFS('A','O',graph,4):\n",
        "  print(\"Path is not available\")\n",
        "else:\n",
        "  print(\"A path exists\")\n",
        "  print(path.pop())"
      ],
      "execution_count": 4,
      "outputs": [
        {
          "output_type": "stream",
          "text": [
            "Checking for destination A\n",
            "Checking for destination A\n",
            "Checking for destination B\n",
            "Checking for destination C\n",
            "Checking for destination A\n",
            "Checking for destination B\n",
            "Checking for destination D\n",
            "Checking for destination E\n",
            "Checking for destination C\n",
            "Checking for destination F\n",
            "Checking for destination G\n",
            "Checking for destination A\n",
            "Checking for destination B\n",
            "Checking for destination D\n",
            "Checking for destination H\n",
            "Checking for destination I\n",
            "Checking for destination E\n",
            "Checking for destination J\n",
            "Checking for destination K\n",
            "Checking for destination C\n",
            "Checking for destination F\n",
            "Checking for destination L\n",
            "Checking for destination M\n",
            "Checking for destination G\n",
            "Checking for destination N\n",
            "Checking for destination O\n",
            "A path exists\n",
            "['A', 'C', 'G', 'O']\n"
          ],
          "name": "stdout"
        }
      ]
    }
  ]
}