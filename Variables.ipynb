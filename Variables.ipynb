{
  "nbformat": 4,
  "nbformat_minor": 0,
  "metadata": {
    "colab": {
      "name": "Variables.ipynb",
      "provenance": [],
      "authorship_tag": "ABX9TyMErvePS9yg1qyBeT5IbQfY",
      "include_colab_link": true
    },
    "kernelspec": {
      "name": "python3",
      "display_name": "Python 3"
    },
    "language_info": {
      "name": "python"
    }
  },
  "cells": [
    {
      "cell_type": "markdown",
      "metadata": {
        "id": "view-in-github",
        "colab_type": "text"
      },
      "source": [
        "<a href=\"https://colab.research.google.com/github/Void-Brain70/Python/blob/master/Variables.ipynb\" target=\"_parent\"><img src=\"https://colab.research.google.com/assets/colab-badge.svg\" alt=\"Open In Colab\"/></a>"
      ]
    },
    {
      "cell_type": "markdown",
      "metadata": {
        "id": "8Z39wbbybWxK"
      },
      "source": [
        "Creating Variables"
      ]
    },
    {
      "cell_type": "code",
      "metadata": {
        "colab": {
          "base_uri": "https://localhost:8080/"
        },
        "id": "BCkV0_EuYK0-",
        "outputId": "17282c95-0fae-4106-ebe0-f72195ee7525"
      },
      "source": [
        "rent=1500\n",
        "gas=300.50\n",
        "goods=550\n",
        "#rent =1600\n",
        "print(gas)\n",
        "\n",
        "print(rent)\n",
        "\n",
        "cost = rent+gas+goods\n",
        "\n",
        "print(cost) "
      ],
      "execution_count": 4,
      "outputs": [
        {
          "output_type": "stream",
          "text": [
            "300.5\n",
            "1500\n",
            "2350.5\n"
          ],
          "name": "stdout"
        }
      ]
    },
    {
      "cell_type": "code",
      "metadata": {
        "colab": {
          "base_uri": "https://localhost:8080/"
        },
        "id": "9gtCkHJpauqf",
        "outputId": "3f45655b-12f7-4db3-f4dd-e487cabf4034"
      },
      "source": [
        "s1=\"Anik\"\n",
        "s2=\"UAP\"\n",
        "s3=\"CSE\"\n",
        "\n",
        "print(\"Info->\",s1,s2,s3)"
      ],
      "execution_count": 5,
      "outputs": [
        {
          "output_type": "stream",
          "text": [
            "Info-> Anik UAP CSE\n"
          ],
          "name": "stdout"
        }
      ]
    },
    {
      "cell_type": "markdown",
      "metadata": {
        "id": "_3C8j_gpbbXc"
      },
      "source": [
        "Type Casting"
      ]
    },
    {
      "cell_type": "code",
      "metadata": {
        "colab": {
          "base_uri": "https://localhost:8080/"
        },
        "id": "DM-kwOjlbfBl",
        "outputId": "8fbd3440-27b1-45b5-f3f3-4461491e9b49"
      },
      "source": [
        "x = str(70)\n",
        "y = int(3.50)\n",
        "z = float(4)\n",
        "\n",
        "print(x)\n",
        "print(y)\n",
        "print(z)\n",
        "\n",
        "print(type(x))\n",
        "print(type(y))\n",
        "print(type(z))"
      ],
      "execution_count": 8,
      "outputs": [
        {
          "output_type": "stream",
          "text": [
            "70\n",
            "3\n",
            "4.0\n",
            "<class 'str'>\n",
            "<class 'int'>\n",
            "<class 'float'>\n"
          ],
          "name": "stdout"
        }
      ]
    },
    {
      "cell_type": "markdown",
      "metadata": {
        "id": "Fwcrt95dcKbd"
      },
      "source": [
        "Case-Sensitive"
      ]
    },
    {
      "cell_type": "code",
      "metadata": {
        "colab": {
          "base_uri": "https://localhost:8080/"
        },
        "id": "0HGoHSgdcOwN",
        "outputId": "46c590df-3684-4e3c-8545-3659327c814b"
      },
      "source": [
        "a = 4\n",
        "A = \"Sally\"\n",
        "#A will not overwrite a\n",
        "\n",
        "print(a)\n",
        "print(A)"
      ],
      "execution_count": 9,
      "outputs": [
        {
          "output_type": "stream",
          "text": [
            "4\n",
            "Sally\n"
          ],
          "name": "stdout"
        }
      ]
    }
  ]
}