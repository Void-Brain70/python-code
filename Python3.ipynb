{
  "nbformat": 4,
  "nbformat_minor": 0,
  "metadata": {
    "colab": {
      "name": "Python3.ipynb",
      "provenance": [],
      "collapsed_sections": [],
      "authorship_tag": "ABX9TyNqLlnOeCjfPPbs8G2QH6oj",
      "include_colab_link": true
    },
    "kernelspec": {
      "name": "python3",
      "display_name": "Python 3"
    }
  },
  "cells": [
    {
      "cell_type": "markdown",
      "metadata": {
        "id": "view-in-github",
        "colab_type": "text"
      },
      "source": [
        "<a href=\"https://colab.research.google.com/github/Void-Brain70/Python/blob/master/Python3.ipynb\" target=\"_parent\"><img src=\"https://colab.research.google.com/assets/colab-badge.svg\" alt=\"Open In Colab\"/></a>"
      ]
    },
    {
      "cell_type": "code",
      "metadata": {
        "id": "4LA11Q2LtK5M"
      },
      "source": [
        "for i in reversed(range(100)):\n",
        "  print(i)"
      ],
      "execution_count": null,
      "outputs": []
    },
    {
      "cell_type": "code",
      "metadata": {
        "id": "BmukDsU7-DMs",
        "colab": {
          "base_uri": "https://localhost:8080/",
          "height": 34
        },
        "outputId": "be1a06a0-85c9-41de-fc2a-4b730ddc2194"
      },
      "source": [
        "for i in range(0,11):\n",
        "  print(i,end=\" \")"
      ],
      "execution_count": null,
      "outputs": [
        {
          "output_type": "stream",
          "text": [
            "0 1 2 3 4 5 6 7 8 9 10 "
          ],
          "name": "stdout"
        }
      ]
    },
    {
      "cell_type": "code",
      "metadata": {
        "id": "se-hZRcr-pHz",
        "colab": {
          "base_uri": "https://localhost:8080/",
          "height": 54
        },
        "outputId": "b6c52481-f056-41db-bf56-4960243ba766"
      },
      "source": [
        "i=1\n",
        "while i<=100:\n",
        "  print(i,end=\"+\")\n",
        "  i+=1"
      ],
      "execution_count": null,
      "outputs": [
        {
          "output_type": "stream",
          "text": [
            "1+2+3+4+5+6+7+8+9+10+11+12+13+14+15+16+17+18+19+20+21+22+23+24+25+26+27+28+29+30+31+32+33+34+35+36+37+38+39+40+41+42+43+44+45+46+47+48+49+50+51+52+53+54+55+56+57+58+59+60+61+62+63+64+65+66+67+68+69+70+71+72+73+74+75+76+77+78+79+80+81+82+83+84+85+86+87+88+89+90+91+92+93+94+95+96+97+98+99+"
          ],
          "name": "stdout"
        }
      ]
    },
    {
      "cell_type": "code",
      "metadata": {
        "id": "bswSriwC_wJc",
        "colab": {
          "base_uri": "https://localhost:8080/",
          "height": 50
        },
        "outputId": "7d5977c7-6db2-4a6b-c674-65c077abca73"
      },
      "source": [
        "n=int(input(\"Enter a number->\"))\n",
        "sum=0\n",
        "i=1\n",
        "while i<=n:\n",
        "  if i==n:\n",
        "    print(i,end=\" \")\n",
        "  else:  \n",
        "    print(i,\"+\",end=\" \")\n",
        "  sum=sum+i\n",
        "  i+=1\n",
        "print(\"=\",sum)\n"
      ],
      "execution_count": null,
      "outputs": [
        {
          "output_type": "stream",
          "text": [
            "Enter a number->5\n",
            "1 + 2 + 3 + 4 + 5 = 15\n"
          ],
          "name": "stdout"
        }
      ]
    },
    {
      "cell_type": "code",
      "metadata": {
        "id": "vVtOXZwRCh40",
        "colab": {
          "base_uri": "https://localhost:8080/",
          "height": 50
        },
        "outputId": "0a6e8bd6-60ca-4a63-fdfa-15e02a613972"
      },
      "source": [
        "n=int(input(\"Enter a number->\"))\n",
        "sum = 0\n",
        "for i in range(1, n+1, 2):\n",
        "  if i==n:\n",
        "    print(i,end=\" \")\n",
        "  else:\n",
        "    print(i,\"+\",end=\" \") \n",
        "  sum = sum+i\n",
        "print(\"=\",sum)"
      ],
      "execution_count": null,
      "outputs": [
        {
          "output_type": "stream",
          "text": [
            "Enter a number->10\n",
            "1 + 3 + 5 + 7 + 9 + = 25\n"
          ],
          "name": "stdout"
        }
      ]
    },
    {
      "cell_type": "code",
      "metadata": {
        "id": "jvvPTAGMEU33",
        "colab": {
          "base_uri": "https://localhost:8080/",
          "height": 101
        },
        "outputId": "572eb220-8f9a-4f79-96d0-f062e6ed9cb3"
      },
      "source": [
        "l=[1,2,3,4,5]\n",
        "la=len(l)\n",
        "i=0\n",
        "while i<la:\n",
        "  print(l[i])\n",
        "  i+=1"
      ],
      "execution_count": null,
      "outputs": [
        {
          "output_type": "stream",
          "text": [
            "1\n",
            "2\n",
            "3\n",
            "4\n",
            "5\n"
          ],
          "name": "stdout"
        }
      ]
    },
    {
      "cell_type": "code",
      "metadata": {
        "id": "jQZtNCO9F8R9",
        "colab": {
          "base_uri": "https://localhost:8080/",
          "height": 34
        },
        "outputId": "fe15eb45-be65-434d-9aa1-fa660e0135b0"
      },
      "source": [
        "a,b,c=1,2,4\n",
        "print(a,b,c)"
      ],
      "execution_count": null,
      "outputs": [
        {
          "output_type": "stream",
          "text": [
            "1 2 4\n"
          ],
          "name": "stdout"
        }
      ]
    }
  ]
}