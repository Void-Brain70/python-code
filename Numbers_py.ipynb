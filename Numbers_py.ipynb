{
  "nbformat": 4,
  "nbformat_minor": 0,
  "metadata": {
    "colab": {
      "name": "Numbers.py",
      "provenance": [],
      "collapsed_sections": [],
      "authorship_tag": "ABX9TyNgbbe593GdpLxbZ5i5Cmiv",
      "include_colab_link": true
    },
    "kernelspec": {
      "name": "python3",
      "display_name": "Python 3"
    },
    "language_info": {
      "name": "python"
    }
  },
  "cells": [
    {
      "cell_type": "markdown",
      "metadata": {
        "id": "view-in-github",
        "colab_type": "text"
      },
      "source": [
        "<a href=\"https://colab.research.google.com/github/Void-Brain70/Python/blob/master/Numbers_py.ipynb\" target=\"_parent\"><img src=\"https://colab.research.google.com/assets/colab-badge.svg\" alt=\"Open In Colab\"/></a>"
      ]
    },
    {
      "cell_type": "markdown",
      "metadata": {
        "id": "hnmLQfxIge_I"
      },
      "source": [
        ""
      ]
    },
    {
      "cell_type": "code",
      "metadata": {
        "id": "Nov32nsNe95A"
      },
      "source": [
        "2 + 2"
      ],
      "execution_count": null,
      "outputs": []
    },
    {
      "cell_type": "code",
      "metadata": {
        "id": "rjK2XO3qfHfY"
      },
      "source": [
        "50 - 5*6"
      ],
      "execution_count": null,
      "outputs": []
    },
    {
      "cell_type": "code",
      "metadata": {
        "id": "IQi6BlNpfO43"
      },
      "source": [
        "(50-5*6)/4"
      ],
      "execution_count": null,
      "outputs": []
    },
    {
      "cell_type": "code",
      "metadata": {
        "id": "d9fKYI47fSEo"
      },
      "source": [
        "8/5 #division always returns a floating point number,\n",
        "#classic division returns a float"
      ],
      "execution_count": null,
      "outputs": []
    },
    {
      "cell_type": "code",
      "metadata": {
        "id": "d6nDlGOQfdpA"
      },
      "source": [
        "17 // 3  # floor division discards the fractional part"
      ],
      "execution_count": null,
      "outputs": []
    },
    {
      "cell_type": "code",
      "metadata": {
        "id": "NLHsiy5ifnzn"
      },
      "source": [
        "17 % 3  # the % operator returns the remainder of the division"
      ],
      "execution_count": null,
      "outputs": []
    },
    {
      "cell_type": "code",
      "metadata": {
        "id": "rIXJmlVrfx4g"
      },
      "source": [
        "5 * 3 + 2  # floored quotient * divisor + remainder"
      ],
      "execution_count": null,
      "outputs": []
    },
    {
      "cell_type": "markdown",
      "metadata": {
        "id": "TbrJWPMggbpp"
      },
      "source": [
        "Variables"
      ]
    },
    {
      "cell_type": "markdown",
      "metadata": {
        "id": "bC9GQHykdNnd"
      },
      "source": [
        "Python Numbers:\n",
        "int,\n",
        "float,\n",
        "complex\n"
      ]
    },
    {
      "cell_type": "code",
      "metadata": {
        "colab": {
          "base_uri": "https://localhost:8080/"
        },
        "id": "JVm6DaIjdMhG",
        "outputId": "8b325eee-a1c1-45a4-ebc7-8526b1049959"
      },
      "source": [
        "#Integers:\n",
        "\n",
        "x = 70\n",
        "y = 35656222554887711\n",
        "z = -70\n",
        "\n",
        "print(type(x))\n",
        "print(type(y))\n",
        "print(type(z))\n",
        "\n",
        "print(x)\n",
        "print(y)\n",
        "print(z)"
      ],
      "execution_count": null,
      "outputs": [
        {
          "output_type": "stream",
          "text": [
            "<class 'int'>\n",
            "<class 'int'>\n",
            "<class 'int'>\n",
            "70\n",
            "35656222554887711\n",
            "-70\n"
          ],
          "name": "stdout"
        }
      ]
    },
    {
      "cell_type": "code",
      "metadata": {
        "colab": {
          "base_uri": "https://localhost:8080/"
        },
        "id": "_88AWw1YdxTt",
        "outputId": "53ad5937-d557-4947-c7a3-0bf4cbd3f5dd"
      },
      "source": [
        "#Floats:\n",
        "\n",
        "x = 70.00\n",
        "y = 1.0\n",
        "z = -70.07\n",
        "e = -87.7e100\n",
        "\n",
        "print(type(x))\n",
        "print(type(y))\n",
        "print(type(z))\n",
        "print(type(e))\n",
        "\n",
        "print(x)\n",
        "print(y)\n",
        "print(z)\n",
        "print(e)"
      ],
      "execution_count": null,
      "outputs": [
        {
          "output_type": "stream",
          "text": [
            "<class 'float'>\n",
            "<class 'float'>\n",
            "<class 'float'>\n",
            "<class 'float'>\n",
            "70.0\n",
            "1.0\n",
            "-70.07\n",
            "-8.77e+101\n"
          ],
          "name": "stdout"
        }
      ]
    },
    {
      "cell_type": "code",
      "metadata": {
        "colab": {
          "base_uri": "https://localhost:8080/"
        },
        "id": "dhHGKXZeeN0F",
        "outputId": "8a607b76-6e58-42b7-8838-7eec71bd15a7"
      },
      "source": [
        "#Complex:\n",
        "x = 3+5j\n",
        "y = 5j\n",
        "z = -5j\n",
        "\n",
        "print(type(x))\n",
        "print(type(y))\n",
        "print(type(z))\n",
        "\n",
        "print(x)\n",
        "print(y)\n",
        "print(z)\n"
      ],
      "execution_count": null,
      "outputs": [
        {
          "output_type": "stream",
          "text": [
            "<class 'complex'>\n",
            "<class 'complex'>\n",
            "<class 'complex'>\n",
            "(3+5j)\n",
            "5j\n",
            "(-0-5j)\n"
          ],
          "name": "stdout"
        }
      ]
    },
    {
      "cell_type": "code",
      "metadata": {
        "colab": {
          "base_uri": "https://localhost:8080/"
        },
        "id": "Xgqy8mpYee89",
        "outputId": "614c1593-a386-4c53-9c76-47da6d0cc045"
      },
      "source": [
        "#Convert from one type to another:\n",
        "\n",
        "x = 70    # int\n",
        "y = 70.8  # float\n",
        "z = 1j   # complex\n",
        "\n",
        "#convert from int to float:\n",
        "a = float(x)\n",
        "\n",
        "#convert from float to int:\n",
        "b = int(y)\n",
        "\n",
        "#convert from int to complex:\n",
        "c = complex(x)\n",
        "\n",
        "print(a)\n",
        "print(b)\n",
        "print(c)\n",
        "\n",
        "print(type(a))\n",
        "print(type(b))\n",
        "print(type(c))"
      ],
      "execution_count": null,
      "outputs": [
        {
          "output_type": "stream",
          "text": [
            "70.0\n",
            "70\n",
            "(70+0j)\n",
            "<class 'float'>\n",
            "<class 'int'>\n",
            "<class 'complex'>\n"
          ],
          "name": "stdout"
        }
      ]
    },
    {
      "cell_type": "code",
      "metadata": {
        "colab": {
          "base_uri": "https://localhost:8080/"
        },
        "id": "FVFhkfGBexQd",
        "outputId": "2fb117ea-7a4b-453a-eecc-434323ce2d9b"
      },
      "source": [
        "#Random Number\n",
        "\n",
        "import random\n",
        "print(random.randrange(1,100))"
      ],
      "execution_count": null,
      "outputs": [
        {
          "output_type": "stream",
          "text": [
            "22\n"
          ],
          "name": "stdout"
        }
      ]
    },
    {
      "cell_type": "markdown",
      "metadata": {
        "id": "RukpnTVrgxLt"
      },
      "source": [
        "Exercise"
      ]
    },
    {
      "cell_type": "code",
      "metadata": {
        "colab": {
          "base_uri": "https://localhost:8080/"
        },
        "id": "CdO19Gj-fk_2",
        "outputId": "e8c54656-0808-441e-bc30-732ef73e6674"
      },
      "source": [
        "a = 10+10\n",
        "b = 20-10\n",
        "c = 10*10\n",
        "d = 100/10 #division always returns a floating point number,\n",
        "#classic division returns a float\n",
        "e = 11%2\n",
        "#\n",
        "f = 17 // 3  # floor division discards the fractional part\n",
        "\n",
        "g = 4**2\n",
        "\n",
        "print(a)\n",
        "print(b)\n",
        "print(c)\n",
        "print(d)\n",
        "print(e)\n",
        "print(f)\n",
        "print(g)"
      ],
      "execution_count": null,
      "outputs": [
        {
          "output_type": "stream",
          "text": [
            "20\n",
            "10\n",
            "100\n",
            "10.0\n",
            "1\n",
            "16\n"
          ],
          "name": "stdout"
        }
      ]
    },
    {
      "cell_type": "code",
      "metadata": {
        "colab": {
          "base_uri": "https://localhost:8080/"
        },
        "id": "DZkJAIM6cu1P",
        "outputId": "d1a3dc2a-48b0-488f-826d-1bf3febcd098"
      },
      "source": [
        "#Now some advanced case\n",
        "2+2\n",
        "(50-5*6)/4"
      ],
      "execution_count": null,
      "outputs": [
        {
          "output_type": "execute_result",
          "data": {
            "text/plain": [
              "5.0"
            ]
          },
          "metadata": {
            "tags": []
          },
          "execution_count": 2
        }
      ]
    },
    {
      "cell_type": "code",
      "metadata": {
        "id": "DSdycdH2dPEn"
      },
      "source": [
        "a = 50-5*6\n",
        "print(a)\n",
        "b = (50-2)*6\n",
        "print(b)\n",
        "c = (50-5*6)/4\n",
        "print(c)"
      ],
      "execution_count": null,
      "outputs": []
    },
    {
      "cell_type": "code",
      "metadata": {
        "colab": {
          "base_uri": "https://localhost:8080/"
        },
        "id": "piKHxU3dgOwo",
        "outputId": "81d30493-8329-4ce8-9e10-ae767d3613ee"
      },
      "source": [
        "dhaka = 120\n",
        "khulna = 220\n",
        "total_dis = dhaka + khulna\n",
        "print(total_dis)"
      ],
      "execution_count": null,
      "outputs": [
        {
          "output_type": "stream",
          "text": [
            "340\n"
          ],
          "name": "stdout"
        }
      ]
    },
    {
      "cell_type": "code",
      "metadata": {
        "colab": {
          "base_uri": "https://localhost:8080/"
        },
        "id": "xJrLI4RZggqP",
        "outputId": "a345453d-6433-49b7-9d37-13feee854a6c"
      },
      "source": [
        "speed = 65\n",
        "time = total_dis/speed\n",
        "print(time)\n",
        "round(time,3)"
      ],
      "execution_count": null,
      "outputs": [
        {
          "output_type": "stream",
          "text": [
            "5.230769230769231\n"
          ],
          "name": "stdout"
        },
        {
          "output_type": "execute_result",
          "data": {
            "text/plain": [
              "5.231"
            ]
          },
          "metadata": {
            "tags": []
          },
          "execution_count": 15
        }
      ]
    },
    {
      "cell_type": "code",
      "metadata": {
        "colab": {
          "base_uri": "https://localhost:8080/"
        },
        "id": "WZsnYM8BiM7K",
        "outputId": "e7448d2d-3a15-4ae8-bbde-1b78e0bb38e5"
      },
      "source": [
        "round((6-5.7),2)"
      ],
      "execution_count": null,
      "outputs": [
        {
          "output_type": "execute_result",
          "data": {
            "text/plain": [
              "0.3"
            ]
          },
          "metadata": {
            "tags": []
          },
          "execution_count": 21
        }
      ]
    }
  ]
}