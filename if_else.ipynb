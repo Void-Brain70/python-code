{
  "nbformat": 4,
  "nbformat_minor": 0,
  "metadata": {
    "colab": {
      "name": "if_else.ipynb",
      "provenance": [],
      "authorship_tag": "ABX9TyN7+nViBSR2KLpYxjNUdpI0",
      "include_colab_link": true
    },
    "kernelspec": {
      "name": "python3",
      "display_name": "Python 3"
    },
    "language_info": {
      "name": "python"
    }
  },
  "cells": [
    {
      "cell_type": "markdown",
      "metadata": {
        "id": "view-in-github",
        "colab_type": "text"
      },
      "source": [
        "<a href=\"https://colab.research.google.com/github/Void-Brain70/Python/blob/master/if_else.ipynb\" target=\"_parent\"><img src=\"https://colab.research.google.com/assets/colab-badge.svg\" alt=\"Open In Colab\"/></a>"
      ]
    },
    {
      "cell_type": "markdown",
      "metadata": {
        "id": "WxNirHjZRW_1"
      },
      "source": [
        "if-else"
      ]
    },
    {
      "cell_type": "code",
      "metadata": {
        "colab": {
          "base_uri": "https://localhost:8080/"
        },
        "id": "Mlbep4QIRV_u",
        "outputId": "bf8499df-fc60-44ca-8bdf-11eb690c4c46"
      },
      "source": [
        "a = input(\"Enter a number->\")\n",
        "n = int(a)\n",
        "if n%2==0:\n",
        "  print(\"Even\")\n",
        "else:\n",
        "  print(\"Odd\")  \n"
      ],
      "execution_count": 2,
      "outputs": [
        {
          "output_type": "stream",
          "text": [
            "Enter a number->4\n",
            "Even\n"
          ],
          "name": "stdout"
        }
      ]
    },
    {
      "cell_type": "code",
      "metadata": {
        "colab": {
          "base_uri": "https://localhost:8080/"
        },
        "id": "5vqaK1rzRgF9",
        "outputId": "25998939-5385-4d95-e0ab-63f64b7cb52a"
      },
      "source": [
        "bd=['samosa','daal','naan']\n",
        "chinese = [\"egg role\",'pot sticker','fried rice']\n",
        "italian=['pizza','pasta','risotto']\n",
        "\n",
        "dish = input(\"Enter a dish name->\")\n",
        "\n",
        "if dish in bd:\n",
        "  print(\"bd\")\n",
        "elif dish in chinese:\n",
        "  print(\"chinese\")\n",
        "elif dish in italian:\n",
        "  print(\"italian\")    \n",
        "else:\n",
        "  print(\"Not Found\")\n",
        " \n",
        "\n"
      ],
      "execution_count": 3,
      "outputs": [
        {
          "output_type": "stream",
          "text": [
            "Enter a dish name->pizza\n",
            "italian\n"
          ],
          "name": "stdout"
        }
      ]
    },
    {
      "cell_type": "code",
      "metadata": {
        "colab": {
          "base_uri": "https://localhost:8080/"
        },
        "id": "Uglp0KVqUuHT",
        "outputId": "e35d2448-a0e3-41ab-a296-404bcbee316b"
      },
      "source": [
        "a = int(input(\"Enter 1st number->\"));  \n",
        "b = int(input(\"Enter 2nd number-> \"));  \n",
        "c = int(input(\"Enter 3rd number-> \"));  \n",
        "if a>b and a>c:  \n",
        "    print(\"1st number is largest\");  \n",
        "if b>a and b>c:  \n",
        "    print(\"2nd number is largest\");  \n",
        "if c>a and c>b:  \n",
        "    print(\"3rd number is largest\"); "
      ],
      "execution_count": 4,
      "outputs": [
        {
          "output_type": "stream",
          "text": [
            "Enter 1st number->10\n",
            "Enter 2nd number-> 23\n",
            "Enter 3rd number-> 5\n",
            "2nd number is largest\n"
          ],
          "name": "stdout"
        }
      ]
    },
    {
      "cell_type": "code",
      "metadata": {
        "colab": {
          "base_uri": "https://localhost:8080/"
        },
        "id": "5mUm_VvHVFTz",
        "outputId": "6c63b9ae-996b-495b-d9fe-95102d31d26e"
      },
      "source": [
        "age = int (input(\"Enter your age->\"))  \n",
        "if age>=18:  \n",
        "    print(\"You are eligible to vote..!\");  \n",
        "else:  \n",
        "    print(\"Sorry! you have to wait...!\");"
      ],
      "execution_count": 5,
      "outputs": [
        {
          "output_type": "stream",
          "text": [
            "Enter your age->23\n",
            "You are eligible to vote..!\n"
          ],
          "name": "stdout"
        }
      ]
    }
  ]
}