{
  "nbformat": 4,
  "nbformat_minor": 0,
  "metadata": {
    "colab": {
      "name": "Python10.ipynb",
      "provenance": [],
      "collapsed_sections": [],
      "authorship_tag": "ABX9TyOZDkXAOidJHWRh6QYqZkHq",
      "include_colab_link": true
    },
    "kernelspec": {
      "name": "python3",
      "display_name": "Python 3"
    }
  },
  "cells": [
    {
      "cell_type": "markdown",
      "metadata": {
        "id": "view-in-github",
        "colab_type": "text"
      },
      "source": [
        "<a href=\"https://colab.research.google.com/github/Void-Brain70/Python/blob/master/Python10.ipynb\" target=\"_parent\"><img src=\"https://colab.research.google.com/assets/colab-badge.svg\" alt=\"Open In Colab\"/></a>"
      ]
    },
    {
      "cell_type": "code",
      "metadata": {
        "id": "rTJy7_gpiJdi"
      },
      "source": [
        "class Sports:\n",
        "\tdef __init__(self,name):\n",
        "\t\tself.name=name\n",
        "\t\tprint(\"This is Sports\")\n",
        "\n",
        "\tdef\tgetname(self):\n",
        "\t\treturn self.name\n",
        "\n",
        "\tdef issports(self):\n",
        "\t    return False"
      ],
      "execution_count": null,
      "outputs": []
    },
    {
      "cell_type": "code",
      "metadata": {
        "id": "uqoBIMZfiPRK",
        "colab": {
          "base_uri": "https://localhost:8080/",
          "height": 128
        },
        "outputId": "aa7b73c6-b0b9-4516-f6ad-358aaea5cf69"
      },
      "source": [
        "class Cricket(Sports):\n",
        "\tdef __init__(self):\n",
        "\t\tprint(\"Cricket palyed man and woman both\")\n",
        "    Sports.__init__(self,name)\n",
        "\t\n",
        "  def issports(self):\n",
        "\t  return True  \t\n"
      ],
      "execution_count": null,
      "outputs": [
        {
          "output_type": "error",
          "ename": "IndentationError",
          "evalue": "ignored",
          "traceback": [
            "\u001b[0;36m  File \u001b[0;32m\"<ipython-input-67-39020fe4bf96>\"\u001b[0;36m, line \u001b[0;32m4\u001b[0m\n\u001b[0;31m    Sports.__init__(self,name)\u001b[0m\n\u001b[0m                              ^\u001b[0m\n\u001b[0;31mIndentationError\u001b[0m\u001b[0;31m:\u001b[0m unindent does not match any outer indentation level\n"
          ]
        }
      ]
    }
  ]
}