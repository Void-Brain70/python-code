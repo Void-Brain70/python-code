{
  "nbformat": 4,
  "nbformat_minor": 0,
  "metadata": {
    "colab": {
      "name": "Class_Object.ipynb",
      "provenance": [],
      "authorship_tag": "ABX9TyNh55CJ7I3+eS/rxP9L2DFN",
      "include_colab_link": true
    },
    "kernelspec": {
      "name": "python3",
      "display_name": "Python 3"
    },
    "language_info": {
      "name": "python"
    }
  },
  "cells": [
    {
      "cell_type": "markdown",
      "metadata": {
        "id": "view-in-github",
        "colab_type": "text"
      },
      "source": [
        "<a href=\"https://colab.research.google.com/github/Void-Brain70/Python/blob/master/Class_Object.ipynb\" target=\"_parent\"><img src=\"https://colab.research.google.com/assets/colab-badge.svg\" alt=\"Open In Colab\"/></a>"
      ]
    },
    {
      "cell_type": "code",
      "metadata": {
        "colab": {
          "base_uri": "https://localhost:8080/"
        },
        "id": "SRxHTaswOoxW",
        "outputId": "8ade289c-906a-48b6-831b-40bfe016d4da"
      },
      "source": [
        "class Human:\n",
        "  def __init__(self,name,occupation):\n",
        "    self.name = name\n",
        "    self.occupation = occupation\n",
        "\n",
        "  def work(self):\n",
        "    if self.occupation == \"Football player\":\n",
        "      print(self.name,\"play football\")\n",
        "    elif self.occupation == \"Actor\":\n",
        "      print(self.name,\"Works in Dollywood film industry\") \n",
        "\n",
        "  def speaks(self):\n",
        "    print(self.name,\"Say hi..!\")\n",
        "\n",
        "o = Human(\"Messi\",\"Football player\")   \n",
        "o.work()\n",
        "o.speaks()   \n",
        "\n",
        "o1 = Human(\"Chanchal Chowdhury\",\"Actor\")   \n",
        "o1.work()\n",
        "o1.speaks()   "
      ],
      "execution_count": null,
      "outputs": [
        {
          "output_type": "stream",
          "text": [
            "Messi play football\n",
            "Messi Say hi..!\n",
            "Chanchal Chowdhury Works in Dollywood film industry\n",
            "Chanchal Chowdhury Say hi..!\n"
          ],
          "name": "stdout"
        }
      ]
    },
    {
      "cell_type": "code",
      "metadata": {
        "colab": {
          "base_uri": "https://localhost:8080/"
        },
        "id": "W_Nsqx4oQh5r",
        "outputId": "12c95565-31c6-4279-e287-0e5062454a93"
      },
      "source": [
        "class Car:\n",
        "  def display(a):\n",
        "    print(a.name,a.model)\n",
        "\n",
        "c1 = Car()\n",
        "c1.name = \"Audi\"\n",
        "c1.model = \"RS Q8\" \n",
        "c1.display()   "
      ],
      "execution_count": 2,
      "outputs": [
        {
          "output_type": "stream",
          "text": [
            "Audi RS Q8\n"
          ],
          "name": "stdout"
        }
      ]
    },
    {
      "cell_type": "code",
      "metadata": {
        "colab": {
          "base_uri": "https://localhost:8080/"
        },
        "id": "HXBARYoNRLpa",
        "outputId": "3e78b0e4-c4bb-40fa-ca6b-745ba6b22099"
      },
      "source": [
        "class Car:\n",
        "  def set_value(self,name,model):\n",
        "    self.name = name\n",
        "    self.model = model\n",
        "\n",
        "  def show(self):\n",
        "    print(\"Car name->\",self.name,\"Car model->\",self.model)\n",
        "\n",
        "c1 = Car()\n",
        "c1.set_value(\"Audi\",\"RS Q8\")\n",
        "c1.show()    "
      ],
      "execution_count": 9,
      "outputs": [
        {
          "output_type": "stream",
          "text": [
            "Car name-> Audi Car model-> RS Q8\n"
          ],
          "name": "stdout"
        }
      ]
    },
    {
      "cell_type": "code",
      "metadata": {
        "colab": {
          "base_uri": "https://localhost:8080/"
        },
        "id": "_uU1kHYRR321",
        "outputId": "398d0803-ebef-49ac-ab3a-ccd1a457b80f"
      },
      "source": [
        "class Car:\n",
        "  def __init__(self,n,m):\n",
        "    self.name = n\n",
        "    self.model = m\n",
        "\n",
        "  def show(self):\n",
        "    print(\"Car name->\",self.name,\"Car model->\",self.model)\n",
        "\n",
        "c1 = Car(\"Audi\",\"RS Q8\")\n",
        "c1.show()"
      ],
      "execution_count": 6,
      "outputs": [
        {
          "output_type": "stream",
          "text": [
            "Car name-> Audi Car model-> RS Q8\n"
          ],
          "name": "stdout"
        }
      ]
    }
  ]
}