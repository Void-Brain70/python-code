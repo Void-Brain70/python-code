{
  "nbformat": 4,
  "nbformat_minor": 0,
  "metadata": {
    "colab": {
      "name": "Class_Object.ipynb",
      "provenance": [],
      "authorship_tag": "ABX9TyNBlVm+so4jCMyi5Tuo2NmN",
      "include_colab_link": true
    },
    "kernelspec": {
      "name": "python3",
      "display_name": "Python 3"
    },
    "language_info": {
      "name": "python"
    }
  },
  "cells": [
    {
      "cell_type": "markdown",
      "metadata": {
        "id": "view-in-github",
        "colab_type": "text"
      },
      "source": [
        "<a href=\"https://colab.research.google.com/github/Void-Brain70/Python/blob/master/Class_Object.ipynb\" target=\"_parent\"><img src=\"https://colab.research.google.com/assets/colab-badge.svg\" alt=\"Open In Colab\"/></a>"
      ]
    },
    {
      "cell_type": "code",
      "metadata": {
        "colab": {
          "base_uri": "https://localhost:8080/"
        },
        "id": "SRxHTaswOoxW",
        "outputId": "8ade289c-906a-48b6-831b-40bfe016d4da"
      },
      "source": [
        "class Human:\n",
        "  def __init__(self,name,occupation):\n",
        "    self.name = name\n",
        "    self.occupation = occupation\n",
        "\n",
        "  def work(self):\n",
        "    if self.occupation == \"Football player\":\n",
        "      print(self.name,\"play football\")\n",
        "    elif self.occupation == \"Actor\":\n",
        "      print(self.name,\"Works in Dollywood film industry\") \n",
        "\n",
        "  def speaks(self):\n",
        "    print(self.name,\"Say hi..!\")\n",
        "\n",
        "o = Human(\"Messi\",\"Football player\")   \n",
        "o.work()\n",
        "o.speaks()   \n",
        "\n",
        "o1 = Human(\"Chanchal Chowdhury\",\"Actor\")   \n",
        "o1.work()\n",
        "o1.speaks()   "
      ],
      "execution_count": 5,
      "outputs": [
        {
          "output_type": "stream",
          "text": [
            "Messi play football\n",
            "Messi Say hi..!\n",
            "Chanchal Chowdhury Works in Dollywood film industry\n",
            "Chanchal Chowdhury Say hi..!\n"
          ],
          "name": "stdout"
        }
      ]
    }
  ]
}