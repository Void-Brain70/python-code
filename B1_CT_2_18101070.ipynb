{
  "nbformat": 4,
  "nbformat_minor": 0,
  "metadata": {
    "colab": {
      "name": "B1_CT_2_18101070.ipynb",
      "provenance": [],
      "collapsed_sections": [],
      "authorship_tag": "ABX9TyN3kYcgZeoxOx10u7BCl+61",
      "include_colab_link": true
    },
    "kernelspec": {
      "name": "python3",
      "display_name": "Python 3"
    }
  },
  "cells": [
    {
      "cell_type": "markdown",
      "metadata": {
        "id": "view-in-github",
        "colab_type": "text"
      },
      "source": [
        "<a href=\"https://colab.research.google.com/github/Void-Brain70/Python/blob/master/B1_CT_2_18101070.ipynb\" target=\"_parent\"><img src=\"https://colab.research.google.com/assets/colab-badge.svg\" alt=\"Open In Colab\"/></a>"
      ]
    },
    {
      "cell_type": "code",
      "metadata": {
        "id": "lZljm9-B8Qw6",
        "colab": {
          "base_uri": "https://localhost:8080/",
          "height": 84
        },
        "outputId": "0f20dde4-1d7e-4b18-903b-dbdd911511a4"
      },
      "source": [
        " a=float(input())\n",
        " b=float(input())\n",
        " c=float(input())\n",
        " if a<=b and a<=c:\n",
        "  print(\"Output:\",round(a))\n",
        " if b<=a and b<=c:\n",
        "     print(\"Output:\",round(b))\n",
        " if c<=a and c<=b:\n",
        "     print(\"Output:\",round(c))    "
      ],
      "execution_count": null,
      "outputs": [
        {
          "output_type": "stream",
          "text": [
            "10\n",
            "20\n",
            "5\n",
            "Output: 5\n"
          ],
          "name": "stdout"
        }
      ]
    },
    {
      "cell_type": "code",
      "metadata": {
        "id": "OA2MAu15QbLW",
        "colab": {
          "base_uri": "https://localhost:8080/",
          "height": 50
        },
        "outputId": "ce3f1309-478b-41fa-e66f-d322b1442fba"
      },
      "source": [
        "n=float(input(\"Enter marks->\"))\n",
        "if n>=80 and n<=100:\n",
        "  print(\"A+\")\n",
        "elif n>=75 and n<=79:\n",
        "  print(\"A\")\n",
        "elif n>=70 and n<=74:\n",
        "  print(\"A-\")\n",
        "elif n>=65 and n<=69:\n",
        "  print(\"B+\")\n",
        "elif n>=60 and n<=64:\n",
        "  print(\"B\")  \n",
        "elif n>=55 and n<=59:\n",
        "   print(\"B-\")\n",
        "elif n>=50 and n<=54:\n",
        "  print(\"C+\")\n",
        "elif n>=45 and n<=49: \n",
        "  print(\"C\")\n",
        "elif n>=40 and n<=44:\n",
        "  print(\"D\")\n",
        "else:\n",
        "  print(\"Fail\")  \n"
      ],
      "execution_count": null,
      "outputs": [
        {
          "output_type": "stream",
          "text": [
            "Enter marks->74\n",
            "A-\n"
          ],
          "name": "stdout"
        }
      ]
    },
    {
      "cell_type": "code",
      "metadata": {
        "id": "9BAkhftDdCmy",
        "colab": {
          "base_uri": "https://localhost:8080/",
          "height": 151
        },
        "outputId": "aca03be1-68f8-4842-e885-6ce5ad2bbbd7"
      },
      "source": [
        "a=input(\"Element 1->\")\n",
        "b=input(\"Element 2->\")\n",
        "c=input(\"Element 3->\")\n",
        "d=input(\"Element 4->\")\n",
        "e=input(\"Element 5->\")\n",
        "\n",
        "n=int(input(\"Index 1->\"))\n",
        "m=int(input(\"Index 2->\"))\n",
        "\n",
        "list=[a,b,c,d,e]\n",
        "\n",
        "temp=list[n]\n",
        "list[n]=list[m]\n",
        "list[m]=temp\n",
        "\n",
        "print(list)\n",
        "\n"
      ],
      "execution_count": null,
      "outputs": [
        {
          "output_type": "stream",
          "text": [
            "Element 1->10\n",
            "Element 2->5\n",
            "Element 3->100\n",
            "Element 4->4\n",
            "Element 5->6\n",
            "Index 1->2\n",
            "Index 2->4\n",
            "[10, 5, 6, 4, 100]\n"
          ],
          "name": "stdout"
        }
      ]
    },
    {
      "cell_type": "code",
      "metadata": {
        "id": "Nnri9Mm9W36j",
        "colab": {
          "base_uri": "https://localhost:8080/",
          "height": 121
        },
        "outputId": "ec5a87cb-b085-4c59-8b86-b70e7bfeeb08"
      },
      "source": [
        "d={    \n",
        "  \"d1\":{\n",
        "      \"EmpID\":\"77920\",\n",
        "      \"LastName\":\"Jackson\",\n",
        "      \"FirstName\":\"Stephen\",\n",
        "      \"HireDate\":\"11-29-1997\"\n",
        "     },\n",
        "   \"d2\":{\n",
        "    \"EmpID\":\"77921\",\n",
        "    \"LastName\":\"Reynolds\",\n",
        "    \"FirstName\":\"Sandy\",\n",
        "    \"HireDate\":\"01-04-1993\"\n",
        "    },\n",
        "   \"d3\":{\n",
        "    \"EmpID\":\"77922\",\n",
        "    \"LastName\":\"Armstrong\",\n",
        "    \"FirstName\":\"Stephen\",\n",
        "    \"HireDate\":\"09-16-1989\"\n",
        "    },\n",
        "   \"d4\":{\n",
        "    \"EmpID\":\"77823\",\n",
        "    \"LastName\":\"Jackson\",\n",
        "    \"FirstName\":\"Linda\",\n",
        "    \"HireDate\":\"10-09-1996\"\n",
        "    }\n",
        "}\n",
        "\n",
        "print(d)\n",
        "print(d[\"d1\"])\n",
        "print(d[\"d2\"])\n",
        "print(d[\"d3\"])\n",
        "print(d[\"d4\"])"
      ],
      "execution_count": null,
      "outputs": [
        {
          "output_type": "stream",
          "text": [
            "{'d1': {'EmpID': '77920', 'LastName': 'Jackson', 'FirstName': 'Stephen', 'HireDate': '11-29-1997'}, 'd2': {'EmpID': '77921', 'LastName': 'Reynolds', 'FirstName': 'Sandy', 'HireDate': '01-04-1993'}, 'd3': {'EmpID': '77922', 'LastName': 'Armstrong', 'FirstName': 'Stephen', 'HireDate': '09-16-1989'}, 'd4': {'EmpID': '77823', 'LastName': 'Jackson', 'FirstName': 'Linda', 'HireDate': '10-09-1996'}}\n",
            "{'EmpID': '77920', 'LastName': 'Jackson', 'FirstName': 'Stephen', 'HireDate': '11-29-1997'}\n",
            "{'EmpID': '77921', 'LastName': 'Reynolds', 'FirstName': 'Sandy', 'HireDate': '01-04-1993'}\n",
            "{'EmpID': '77922', 'LastName': 'Armstrong', 'FirstName': 'Stephen', 'HireDate': '09-16-1989'}\n",
            "{'EmpID': '77823', 'LastName': 'Jackson', 'FirstName': 'Linda', 'HireDate': '10-09-1996'}\n"
          ],
          "name": "stdout"
        }
      ]
    },
    {
      "cell_type": "code",
      "metadata": {
        "id": "2Cne8_O4bHqd"
      },
      "source": [
        ""
      ],
      "execution_count": null,
      "outputs": []
    }
  ]
}