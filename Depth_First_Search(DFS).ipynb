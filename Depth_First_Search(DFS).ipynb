{
  "nbformat": 4,
  "nbformat_minor": 0,
  "metadata": {
    "colab": {
      "name": "Depth_First_Search(DFS).ipynb",
      "provenance": [],
      "collapsed_sections": [],
      "authorship_tag": "ABX9TyOngcq0ATpF7tKGoTV96QbG",
      "include_colab_link": true
    },
    "kernelspec": {
      "name": "python3",
      "display_name": "Python 3"
    },
    "language_info": {
      "name": "python"
    }
  },
  "cells": [
    {
      "cell_type": "markdown",
      "metadata": {
        "id": "view-in-github",
        "colab_type": "text"
      },
      "source": [
        "<a href=\"https://colab.research.google.com/github/Void-Brain70/Python/blob/master/Depth_First_Search(DFS).ipynb\" target=\"_parent\"><img src=\"https://colab.research.google.com/assets/colab-badge.svg\" alt=\"Open In Colab\"/></a>"
      ]
    },
    {
      "cell_type": "markdown",
      "metadata": {
        "id": "-7Pqpuw8Ei02"
      },
      "source": [
        "Pre_Order"
      ]
    },
    {
      "cell_type": "code",
      "metadata": {
        "colab": {
          "base_uri": "https://localhost:8080/"
        },
        "id": "l0LCjeETDqAT",
        "outputId": "cc290e38-a327-4f8c-9495-1c0cad6fef52"
      },
      "source": [
        "# Using a Python dictionary to act as an adjacency list\n",
        "graph = {\n",
        "  'A' : ['B','C'],\n",
        "  'B' : ['D', 'E'],\n",
        "  'D' : ['H','I'],\n",
        "  'H' : [],\n",
        "  'I' : [],\n",
        "  'E' : ['J','K'],\n",
        "  'J' : [],\n",
        "  'K' : [],\n",
        "  'C' : ['F','G'],\n",
        "  'F' : ['L','M'],\n",
        "  'L' : [],\n",
        "  'M' : [],\n",
        "  'G' : ['N','O'],\n",
        "  'N' : [],\n",
        "  'O' : []\n",
        "}\n",
        "\n",
        "visited = set() # Set to keep track of visited nodes of graph.\n",
        "\n",
        "def dfs(visited, graph, node):  #function for dfs \n",
        "    if node not in visited:\n",
        "        print (node,end=\" \")\n",
        "        visited.add(node)\n",
        "        for neighbour in graph[node]:\n",
        "            dfs(visited, graph, neighbour)\n",
        "\n",
        "# Driver Code\n",
        "print(\"Following is the Depth-First Search\")\n",
        "dfs(visited, graph, 'A')"
      ],
      "execution_count": 2,
      "outputs": [
        {
          "output_type": "stream",
          "text": [
            "Following is the Depth-First Search\n",
            "A B D H I E J K C F L M G N O "
          ],
          "name": "stdout"
        }
      ]
    },
    {
      "cell_type": "markdown",
      "metadata": {
        "id": "aKBHRtYjHgyD"
      },
      "source": [
        "Post_Order"
      ]
    },
    {
      "cell_type": "code",
      "metadata": {
        "colab": {
          "base_uri": "https://localhost:8080/"
        },
        "id": "Mwi5TpauF8Ng",
        "outputId": "d53096ab-6473-4a86-9b59-7a4638d35d41"
      },
      "source": [
        "# Data structure to store a binary tree node\n",
        "class Node:\n",
        "  def __init__(self, data=None, left=None, right=None):\n",
        "    self.data = data\n",
        "    self.left = left\n",
        "    self.right = right\n",
        " \n",
        " \n",
        "# Recursive function to perform postorder traversal on the tree\n",
        "def postorder(root):\n",
        "  # return if the current node is empty\n",
        "  if root is None:\n",
        "    return\n",
        " \n",
        "  # Traverse the left subtree\n",
        "  postorder(root.left)\n",
        " \n",
        "  # Traverse the right subtree\n",
        "  postorder(root.right)\n",
        " \n",
        "  # Display the data part of the root (or current node)\n",
        "  print(root.data, end=' ')\n",
        " \n",
        " \n",
        "if __name__ == '__main__':\n",
        "  root = Node('A')\n",
        "  root.left = Node('B')\n",
        "  root.right = Node('C')\n",
        "  root.left.left = Node('D')\n",
        "  root.left.right = Node('E')\n",
        "  root.left.left.left = Node('H')\n",
        "  root.left.left.right = Node('I')\n",
        "  root.left.right.left = Node('J')\n",
        "  root.left.right.right = Node('K')\n",
        "  root.right.left = Node('F')\n",
        "  root.right.right = Node('G')\n",
        "  root.right.left.left = Node('L')\n",
        "  root.right.left.right = Node('M')\n",
        "  root.right.right.left = Node('N')\n",
        "  root.right.right.right = Node('O')\n",
        " \n",
        "  postorder(root)\n",
        " "
      ],
      "execution_count": 5,
      "outputs": [
        {
          "output_type": "stream",
          "text": [
            "H I D J K E B L M F N O G C A "
          ],
          "name": "stdout"
        }
      ]
    },
    {
      "cell_type": "markdown",
      "metadata": {
        "id": "_rNt-iqEI8pf"
      },
      "source": [
        "In_Order"
      ]
    },
    {
      "cell_type": "code",
      "metadata": {
        "colab": {
          "base_uri": "https://localhost:8080/"
        },
        "id": "OWUFzETDH349",
        "outputId": "111a331a-bc16-4340-bd86-7bc0ac031eed"
      },
      "source": [
        "# Data structure to store a binary tree node\n",
        "class Node:\n",
        "  def __init__(self, data=None, left=None, right=None):\n",
        "    self.data = data\n",
        "    self.left = left\n",
        "    self.right = right\n",
        " \n",
        " \n",
        "# Recursive function to perform inorder traversal on the tree\n",
        "def inorder(root):\n",
        "  if root is None:\n",
        "    return\n",
        " \n",
        "  # Traverse the left subtree\n",
        "  inorder(root.left)\n",
        " \n",
        "  # Display the data part of the root (or current node)\n",
        "  print(root.data, end=' ')\n",
        " \n",
        "  # Traverse the right subtree\n",
        "  inorder(root.right)\n",
        " \n",
        " \n",
        "if __name__ == '__main__':\n",
        "  root = Node('A')\n",
        "  root.left = Node('B')\n",
        "  root.right = Node('C')\n",
        "  root.left.left = Node('D')\n",
        "  root.left.right = Node('E')\n",
        "  root.left.left.left = Node('H')\n",
        "  root.left.left.right = Node('I')\n",
        "  root.left.right.left = Node('J')\n",
        "  root.left.right.right = Node('K')\n",
        "  root.right.left = Node('F')\n",
        "  root.right.right = Node('G')\n",
        "  root.right.left.left = Node('L')\n",
        "  root.right.left.right = Node('M')\n",
        "  root.right.right.left = Node('N')\n",
        "  root.right.right.right = Node('O')\n",
        "   \n",
        "  inorder(root)"
      ],
      "execution_count": 4,
      "outputs": [
        {
          "output_type": "stream",
          "text": [
            "H D I B J E K A L F M C N G O "
          ],
          "name": "stdout"
        }
      ]
    }
  ]
}