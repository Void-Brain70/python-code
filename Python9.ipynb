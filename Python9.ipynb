{
  "nbformat": 4,
  "nbformat_minor": 0,
  "metadata": {
    "colab": {
      "name": "Python9.ipynb",
      "provenance": [],
      "collapsed_sections": [],
      "authorship_tag": "ABX9TyNDz2MTKYcy8DUU4s/m7g6p",
      "include_colab_link": true
    },
    "kernelspec": {
      "name": "python3",
      "display_name": "Python 3"
    }
  },
  "cells": [
    {
      "cell_type": "markdown",
      "metadata": {
        "id": "view-in-github",
        "colab_type": "text"
      },
      "source": [
        "<a href=\"https://colab.research.google.com/github/Void-Brain70/Python/blob/master/Python9.ipynb\" target=\"_parent\"><img src=\"https://colab.research.google.com/assets/colab-badge.svg\" alt=\"Open In Colab\"/></a>"
      ]
    },
    {
      "cell_type": "code",
      "metadata": {
        "id": "nsYdub3daFVd"
      },
      "source": [
        "class Animal:\n",
        "\tdef __init__(self,food_habit):\n",
        "\t\tself.food_habit=food_habit\n",
        "\t\tprint(\"Animal is being born...!\")\n",
        "\n",
        "\tdef eat(self,food):\n",
        "\t\tprint(\"Eating..\",food)\n",
        "\n",
        "\n",
        "class Lion(Animal):\n",
        "\tdef hunt(self,pray):\n",
        "\t\tprint(\"Hunting..\",pray)\n",
        "\n",
        "\tdef join_group(self):\n",
        "\t    print(\"I am in group\")"
      ],
      "execution_count": null,
      "outputs": []
    },
    {
      "cell_type": "code",
      "metadata": {
        "id": "0CtgCG79aTg3",
        "colab": {
          "base_uri": "https://localhost:8080/",
          "height": 34
        },
        "outputId": "cdde4671-22d4-4f2d-fdea-02548fd4c723"
      },
      "source": [
        "african_lion=Lion(\"Carnivours\")"
      ],
      "execution_count": null,
      "outputs": [
        {
          "output_type": "stream",
          "text": [
            "Animal is being born...!\n"
          ],
          "name": "stdout"
        }
      ]
    },
    {
      "cell_type": "code",
      "metadata": {
        "id": "F5pbxaLuaW6r",
        "colab": {
          "base_uri": "https://localhost:8080/",
          "height": 67
        },
        "outputId": "7f56e2ee-aec8-445c-e3c3-ad2847b3a685"
      },
      "source": [
        "african_lion.hunt(\"Deer\")\n",
        "african_lion.eat(\"Deer\")\n",
        "african_lion.join_group()"
      ],
      "execution_count": null,
      "outputs": [
        {
          "output_type": "stream",
          "text": [
            "Hunting.. Deer\n",
            "Eating.. Deer\n",
            "I am in group\n"
          ],
          "name": "stdout"
        }
      ]
    },
    {
      "cell_type": "code",
      "metadata": {
        "id": "Q6kDCbLQc8bU"
      },
      "source": [
        "class Educational_Institution:\n",
        "\tdef __init__(self,code):\n",
        "\t\tself.code=code\n",
        "\t\tprint(\"This is Educational_Institution..!\")\n",
        "  \n",
        "class School(Educational_Institution):\n",
        "\tdef s_name(self,name):\n",
        "\t\tprint(\"School name is->\",name)\n",
        "\n",
        "class College(Educational_Institution):\n",
        "\tdef c_name(self,name):\n",
        "\t\tprint(\"College name is->\",name)\n",
        "\n",
        "class University(Educational_Institution):\n",
        "  def u_name(self,name):\n",
        "    print(\"University name is->\",name)\t\t\n",
        "\t\t"
      ],
      "execution_count": null,
      "outputs": []
    },
    {
      "cell_type": "code",
      "metadata": {
        "id": "RVqQh8sleeC2",
        "colab": {
          "base_uri": "https://localhost:8080/",
          "height": 50
        },
        "outputId": "54758568-9358-4dd7-85c6-7e0215809d0c"
      },
      "source": [
        "s=School(\"DMHS\")\n",
        "s.s_name(\"DMSH\")"
      ],
      "execution_count": null,
      "outputs": [
        {
          "output_type": "stream",
          "text": [
            "This is Educational_Institution..!\n",
            "School name is-> DMSH\n"
          ],
          "name": "stdout"
        }
      ]
    },
    {
      "cell_type": "code",
      "metadata": {
        "id": "WbGUUM1RexZn",
        "colab": {
          "base_uri": "https://localhost:8080/",
          "height": 50
        },
        "outputId": "adbab4f2-c9b7-4e63-9c95-d395f904ed86"
      },
      "source": [
        "c=College(\"GSC\")\n",
        "c.c_name(\"Govt Science College\")"
      ],
      "execution_count": null,
      "outputs": [
        {
          "output_type": "stream",
          "text": [
            "This is Educational_Institution..!\n",
            "College name is-> Govt Science College\n"
          ],
          "name": "stdout"
        }
      ]
    },
    {
      "cell_type": "code",
      "metadata": {
        "id": "kyFKnaqSe8ks",
        "colab": {
          "base_uri": "https://localhost:8080/",
          "height": 50
        },
        "outputId": "e8023543-7a98-42f8-b510-90d5aaba5bef"
      },
      "source": [
        "u=University(\"UAP\")\n",
        "u.u_name(\"University of Asia Pacific\")"
      ],
      "execution_count": null,
      "outputs": [
        {
          "output_type": "stream",
          "text": [
            "This is Educational_Institution..!\n",
            "University name is-> University of Asia Pacific\n"
          ],
          "name": "stdout"
        }
      ]
    },
    {
      "cell_type": "code",
      "metadata": {
        "id": "wTB7j13ug4H1",
        "colab": {
          "base_uri": "https://localhost:8080/",
          "height": 128
        },
        "outputId": "5f6c99eb-1e28-4834-c719-bbcdf8a0d2c0"
      },
      "source": [
        "class Educational_Institution:\n",
        "\tdef __init__(self,code):\n",
        "\t\tself.code=\"10\"\n",
        "\t\tprint(\"This is Educational_Institution..!\")\n",
        "\n",
        "\n",
        "class University(Educational_Institution):\n",
        "  def __init__(self,name):\n",
        "    print(\"This is university\")\n",
        "    self.name=\"uap\"\n",
        "    Educational_Institution.__init__(self)\n",
        "  \n",
        "  def u_name(self,name):\n",
        "    print(\"University name is->\",name)\n",
        "\n",
        "class Private(University):\n",
        "\tdef __init__(self):\n",
        "\t\tprint(\"This is private\")\n",
        "    University.__init__(self)\n"
      ],
      "execution_count": null,
      "outputs": [
        {
          "output_type": "error",
          "ename": "IndentationError",
          "evalue": "ignored",
          "traceback": [
            "\u001b[0;36m  File \u001b[0;32m\"<ipython-input-54-43b3cbd2ca5b>\"\u001b[0;36m, line \u001b[0;32m19\u001b[0m\n\u001b[0;31m    University.__init__(self)\u001b[0m\n\u001b[0m                             ^\u001b[0m\n\u001b[0;31mIndentationError\u001b[0m\u001b[0;31m:\u001b[0m unindent does not match any outer indentation level\n"
          ]
        }
      ]
    },
    {
      "cell_type": "code",
      "metadata": {
        "id": "VYHi8sE0hDAl"
      },
      "source": [
        ""
      ],
      "execution_count": null,
      "outputs": []
    },
    {
      "cell_type": "code",
      "metadata": {
        "id": "5tOIcC88hDC6",
        "colab": {
          "base_uri": "https://localhost:8080/",
          "height": 330
        },
        "outputId": "2dc062a1-74fb-4a2e-b44e-ad685e02f0b8"
      },
      "source": [
        "#p=Private()\n",
        "#p.identity(\"Private university\")\n",
        "#p.u_name(\"Uap\")"
      ],
      "execution_count": null,
      "outputs": [
        {
          "output_type": "stream",
          "text": [
            "This is university\n"
          ],
          "name": "stdout"
        },
        {
          "output_type": "error",
          "ename": "TypeError",
          "evalue": "ignored",
          "traceback": [
            "\u001b[0;31m---------------------------------------------------------------------------\u001b[0m",
            "\u001b[0;31mTypeError\u001b[0m                                 Traceback (most recent call last)",
            "\u001b[0;32m<ipython-input-41-c73387fc4492>\u001b[0m in \u001b[0;36m<module>\u001b[0;34m()\u001b[0m\n\u001b[0;32m----> 1\u001b[0;31m \u001b[0mp\u001b[0m\u001b[0;34m=\u001b[0m\u001b[0mPrivate\u001b[0m\u001b[0;34m(\u001b[0m\u001b[0;34m\"private\"\u001b[0m\u001b[0;34m)\u001b[0m\u001b[0;34m\u001b[0m\u001b[0;34m\u001b[0m\u001b[0m\n\u001b[0m\u001b[1;32m      2\u001b[0m \u001b[0;31m#p.identity(\"Private university\")\u001b[0m\u001b[0;34m\u001b[0m\u001b[0;34m\u001b[0m\u001b[0;34m\u001b[0m\u001b[0m\n\u001b[1;32m      3\u001b[0m \u001b[0;31m#p.u_name(\"Uap\")\u001b[0m\u001b[0;34m\u001b[0m\u001b[0;34m\u001b[0m\u001b[0;34m\u001b[0m\u001b[0m\n",
            "\u001b[0;32m<ipython-input-40-44e599eb73c6>\u001b[0m in \u001b[0;36m__init__\u001b[0;34m(self, uname)\u001b[0m\n\u001b[1;32m      9\u001b[0m     \u001b[0mself\u001b[0m\u001b[0;34m.\u001b[0m\u001b[0muname\u001b[0m\u001b[0;34m=\u001b[0m\u001b[0muname\u001b[0m\u001b[0;34m\u001b[0m\u001b[0;34m\u001b[0m\u001b[0m\n\u001b[1;32m     10\u001b[0m     \u001b[0mprint\u001b[0m\u001b[0;34m(\u001b[0m\u001b[0;34m\"This is university\"\u001b[0m\u001b[0;34m)\u001b[0m\u001b[0;34m\u001b[0m\u001b[0;34m\u001b[0m\u001b[0m\n\u001b[0;32m---> 11\u001b[0;31m     \u001b[0mEducational_Institution\u001b[0m\u001b[0;34m.\u001b[0m\u001b[0m__init__\u001b[0m\u001b[0;34m(\u001b[0m\u001b[0mself\u001b[0m\u001b[0;34m)\u001b[0m\u001b[0;34m\u001b[0m\u001b[0;34m\u001b[0m\u001b[0m\n\u001b[0m\u001b[1;32m     12\u001b[0m   \u001b[0;32mdef\u001b[0m \u001b[0mu_name\u001b[0m\u001b[0;34m(\u001b[0m\u001b[0mself\u001b[0m\u001b[0;34m,\u001b[0m\u001b[0mname\u001b[0m\u001b[0;34m)\u001b[0m\u001b[0;34m:\u001b[0m\u001b[0;34m\u001b[0m\u001b[0;34m\u001b[0m\u001b[0m\n\u001b[1;32m     13\u001b[0m     \u001b[0mprint\u001b[0m\u001b[0;34m(\u001b[0m\u001b[0;34m\"University name is->\"\u001b[0m\u001b[0;34m,\u001b[0m\u001b[0mname\u001b[0m\u001b[0;34m)\u001b[0m\u001b[0;34m\u001b[0m\u001b[0;34m\u001b[0m\u001b[0m\n",
            "\u001b[0;31mTypeError\u001b[0m: __init__() missing 1 required positional argument: 'code'"
          ]
        }
      ]
    },
    {
      "cell_type": "code",
      "metadata": {
        "id": "YZO0DQfrh_bJ",
        "colab": {
          "base_uri": "https://localhost:8080/",
          "height": 162
        },
        "outputId": "dec00c7d-2b53-43e4-a9f3-d6fd048e7d40"
      },
      "source": [
        "u1=University()\n"
      ],
      "execution_count": null,
      "outputs": [
        {
          "output_type": "error",
          "ename": "TypeError",
          "evalue": "ignored",
          "traceback": [
            "\u001b[0;31m---------------------------------------------------------------------------\u001b[0m",
            "\u001b[0;31mTypeError\u001b[0m                                 Traceback (most recent call last)",
            "\u001b[0;32m<ipython-input-52-6135f2862cec>\u001b[0m in \u001b[0;36m<module>\u001b[0;34m()\u001b[0m\n\u001b[0;32m----> 1\u001b[0;31m \u001b[0mu1\u001b[0m\u001b[0;34m=\u001b[0m\u001b[0mUniversity\u001b[0m\u001b[0;34m(\u001b[0m\u001b[0;34m)\u001b[0m\u001b[0;34m\u001b[0m\u001b[0;34m\u001b[0m\u001b[0m\n\u001b[0m",
            "\u001b[0;31mTypeError\u001b[0m: __init__() missing 1 required positional argument: 'name'"
          ]
        }
      ]
    }
  ]
}