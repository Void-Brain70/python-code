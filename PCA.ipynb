{
  "nbformat": 4,
  "nbformat_minor": 0,
  "metadata": {
    "colab": {
      "name": "PCA.ipynb",
      "provenance": [],
      "collapsed_sections": [],
      "authorship_tag": "ABX9TyOl6lKhVvPYCcd3Nx7b3fMX",
      "include_colab_link": true
    },
    "kernelspec": {
      "name": "python3",
      "display_name": "Python 3"
    },
    "language_info": {
      "name": "python"
    }
  },
  "cells": [
    {
      "cell_type": "markdown",
      "metadata": {
        "id": "view-in-github",
        "colab_type": "text"
      },
      "source": [
        "<a href=\"https://colab.research.google.com/github/Void-Brain70/Python/blob/master/PCA.ipynb\" target=\"_parent\"><img src=\"https://colab.research.google.com/assets/colab-badge.svg\" alt=\"Open In Colab\"/></a>"
      ]
    },
    {
      "cell_type": "code",
      "metadata": {
        "id": "rBcncGR3L7DJ"
      },
      "source": [
        "from numpy import array\n",
        "from numpy import mean\n",
        "from numpy import cov\n",
        "from numpy.linalg import eig"
      ],
      "execution_count": 4,
      "outputs": []
    },
    {
      "cell_type": "code",
      "metadata": {
        "id": "DVNxbsteNthj"
      },
      "source": [
        "# Dataset\n",
        "D = array([[4,11],[8,4],[13,5],[7,14]])"
      ],
      "execution_count": 5,
      "outputs": []
    },
    {
      "cell_type": "code",
      "metadata": {
        "colab": {
          "base_uri": "https://localhost:8080/"
        },
        "id": "1_WDnKvDN3zi",
        "outputId": "0e1e1233-bb2d-476b-9bfd-1c2caeb61427"
      },
      "source": [
        "print(D)"
      ],
      "execution_count": 6,
      "outputs": [
        {
          "output_type": "stream",
          "text": [
            "[[ 4 11]\n",
            " [ 8  4]\n",
            " [13  5]\n",
            " [ 7 14]]\n"
          ],
          "name": "stdout"
        }
      ]
    },
    {
      "cell_type": "code",
      "metadata": {
        "colab": {
          "base_uri": "https://localhost:8080/"
        },
        "id": "c7G4tzAJOQBa",
        "outputId": "d9dcdaa3-3691-4b1f-e4ce-048ab82e4397"
      },
      "source": [
        "# Transpose\n",
        "print(D.T)"
      ],
      "execution_count": 7,
      "outputs": [
        {
          "output_type": "stream",
          "text": [
            "[[ 4  8 13  7]\n",
            " [11  4  5 14]]\n"
          ],
          "name": "stdout"
        }
      ]
    },
    {
      "cell_type": "code",
      "metadata": {
        "colab": {
          "base_uri": "https://localhost:8080/"
        },
        "id": "tsuhN9jVN6zr",
        "outputId": "d2f19b2b-3b99-41a8-d858-499c3a618408"
      },
      "source": [
        "# Mean calculation\n",
        "M = mean(D.T,axis=1)\n",
        "print(M)"
      ],
      "execution_count": 8,
      "outputs": [
        {
          "output_type": "stream",
          "text": [
            "[8.  8.5]\n"
          ],
          "name": "stdout"
        }
      ]
    },
    {
      "cell_type": "code",
      "metadata": {
        "colab": {
          "base_uri": "https://localhost:8080/"
        },
        "id": "duo_GupjOu5o",
        "outputId": "26d1bed2-1801-4d62-ec8a-49f522a700de"
      },
      "source": [
        "A = D - M\n",
        "print(A)"
      ],
      "execution_count": 9,
      "outputs": [
        {
          "output_type": "stream",
          "text": [
            "[[-4.   2.5]\n",
            " [ 0.  -4.5]\n",
            " [ 5.  -3.5]\n",
            " [-1.   5.5]]\n"
          ],
          "name": "stdout"
        }
      ]
    },
    {
      "cell_type": "code",
      "metadata": {
        "colab": {
          "base_uri": "https://localhost:8080/"
        },
        "id": "1APw_rv4PHqg",
        "outputId": "a305b9c5-65b6-4801-d13b-47e35683e01f"
      },
      "source": [
        "# Covariance Matrix\n",
        "C = cov(A.T)\n",
        "print(C)"
      ],
      "execution_count": 10,
      "outputs": [
        {
          "output_type": "stream",
          "text": [
            "[[ 14. -11.]\n",
            " [-11.  23.]]\n"
          ],
          "name": "stdout"
        }
      ]
    },
    {
      "cell_type": "code",
      "metadata": {
        "id": "d9IZkIK_PVRw"
      },
      "source": [
        "# Calculating eigenvalues\n",
        "values ,vectors = eig(C)"
      ],
      "execution_count": 12,
      "outputs": []
    },
    {
      "cell_type": "code",
      "metadata": {
        "colab": {
          "base_uri": "https://localhost:8080/"
        },
        "id": "MftgdSmjPqL3",
        "outputId": "542f8026-895e-4ddb-b82a-6a0082b6b049"
      },
      "source": [
        "print(values)"
      ],
      "execution_count": 13,
      "outputs": [
        {
          "output_type": "stream",
          "text": [
            "[ 6.61513568 30.38486432]\n"
          ],
          "name": "stdout"
        }
      ]
    },
    {
      "cell_type": "code",
      "metadata": {
        "colab": {
          "base_uri": "https://localhost:8080/"
        },
        "id": "lAzOCIY-Pyw3",
        "outputId": "77ad23a8-0629-493e-dce9-4cfb7164e688"
      },
      "source": [
        "print(vectors)"
      ],
      "execution_count": 14,
      "outputs": [
        {
          "output_type": "stream",
          "text": [
            "[[-0.83025082  0.55738997]\n",
            " [-0.55738997 -0.83025082]]\n"
          ],
          "name": "stdout"
        }
      ]
    },
    {
      "cell_type": "code",
      "metadata": {
        "colab": {
          "base_uri": "https://localhost:8080/"
        },
        "id": "viJSEUVAP9q9",
        "outputId": "9640cfde-fdb7-480b-c2c1-ca6dc84e65ba"
      },
      "source": [
        "# Calculating principle component\n",
        "pca = vectors.T.dot(A.T)\n",
        "\n",
        "print(pca)\n"
      ],
      "execution_count": 15,
      "outputs": [
        {
          "output_type": "stream",
          "text": [
            "[[ 1.92752836  2.50825486 -2.20038921 -2.23539401]\n",
            " [-4.30518692  3.73612869  5.69282771 -5.12376947]]\n"
          ],
          "name": "stdout"
        }
      ]
    }
  ]
}