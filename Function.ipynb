{
  "nbformat": 4,
  "nbformat_minor": 0,
  "metadata": {
    "colab": {
      "name": "Function.ipynb",
      "provenance": [],
      "collapsed_sections": [],
      "authorship_tag": "ABX9TyOPW2HxypLLUjpgCl9v74Vl",
      "include_colab_link": true
    },
    "kernelspec": {
      "name": "python3",
      "display_name": "Python 3"
    },
    "language_info": {
      "name": "python"
    }
  },
  "cells": [
    {
      "cell_type": "markdown",
      "metadata": {
        "id": "view-in-github",
        "colab_type": "text"
      },
      "source": [
        "<a href=\"https://colab.research.google.com/github/Void-Brain70/Python/blob/master/Function.ipynb\" target=\"_parent\"><img src=\"https://colab.research.google.com/assets/colab-badge.svg\" alt=\"Open In Colab\"/></a>"
      ]
    },
    {
      "cell_type": "markdown",
      "metadata": {
        "id": "6H0AWz3uZj-b"
      },
      "source": [
        "Function"
      ]
    },
    {
      "cell_type": "code",
      "metadata": {
        "colab": {
          "base_uri": "https://localhost:8080/"
        },
        "id": "xQnATkqadVlZ",
        "outputId": "9a3d2f8d-0fe1-4edb-e298-7bf4c877e1c7"
      },
      "source": [
        "#Creating a Function\n",
        "def Fun():\n",
        "  print(\"Welcome to function\")\n",
        "#Calling a Function\n",
        "Fun()"
      ],
      "execution_count": 8,
      "outputs": [
        {
          "output_type": "stream",
          "text": [
            "Welcome to function\n"
          ],
          "name": "stdout"
        }
      ]
    },
    {
      "cell_type": "code",
      "metadata": {
        "colab": {
          "base_uri": "https://localhost:8080/"
        },
        "id": "lzOWKzOxd_tI",
        "outputId": "9b7e30e0-ca59-432b-d549-c16ba677cdce"
      },
      "source": [
        "#Information can be passed into functions as arguments\n",
        "#passing a arguments\n",
        "def Fun(id):\n",
        "  print(\"UAP \" + id)\n",
        "Fun(\"18101070\")\n",
        "\n",
        "#passing a parameter\n",
        "l1 = [\"Anik\",\"18101070\",\"CSE\"]\n",
        "def Info(l):\n",
        "  print(\"Information->\",l)\n",
        "\n",
        "Info(l1)    "
      ],
      "execution_count": 13,
      "outputs": [
        {
          "output_type": "stream",
          "text": [
            "UAP 18101070\n",
            "Information-> ['Anik', '18101070', 'CSE']\n"
          ],
          "name": "stdout"
        }
      ]
    },
    {
      "cell_type": "code",
      "metadata": {
        "colab": {
          "base_uri": "https://localhost:8080/"
        },
        "id": "Cm_PtCrRfklZ",
        "outputId": "2d2a07e4-8373-45f6-a67b-071c0a6b1f63"
      },
      "source": [
        "#Multiple Argument passing \n",
        "def Sub(a=0,b=0):\n",
        "  s=a-b\n",
        "  return s\n",
        "#Sub(4,6)\n",
        "#Sub(5)\n",
        "Sub()"
      ],
      "execution_count": 19,
      "outputs": [
        {
          "output_type": "execute_result",
          "data": {
            "text/plain": [
              "0"
            ]
          },
          "metadata": {
            "tags": []
          },
          "execution_count": 19
        }
      ]
    },
    {
      "cell_type": "code",
      "metadata": {
        "colab": {
          "base_uri": "https://localhost:8080/"
        },
        "id": "UzXsGo6ChxOa",
        "outputId": "ebb6506a-218f-4728-b68f-fcc84b12eb5b"
      },
      "source": [
        "#Arbitrary Arguments, *args\n",
        "def func(*id):\n",
        " print(\"Id is->\"+id[1])\n",
        "\n",
        "func(\"CSE\",\"EEE\",\"ME\")\n"
      ],
      "execution_count": 28,
      "outputs": [
        {
          "output_type": "stream",
          "text": [
            "Id is->EEE\n"
          ],
          "name": "stdout"
        }
      ]
    },
    {
      "cell_type": "code",
      "metadata": {
        "colab": {
          "base_uri": "https://localhost:8080/"
        },
        "id": "c3AnBQCUjY1q",
        "outputId": "262f8fe6-8735-46f4-fad6-78f3d731bd96"
      },
      "source": [
        "#Keyword Arguments\n",
        "def func(f1,f2,f3):\n",
        " print(\"Id is->\",f1,f2,f3)\n",
        "\n",
        "func(f1='A',f2='B',f3='C') "
      ],
      "execution_count": 29,
      "outputs": [
        {
          "output_type": "stream",
          "text": [
            "Id is-> A B C\n"
          ],
          "name": "stdout"
        }
      ]
    },
    {
      "cell_type": "code",
      "metadata": {
        "colab": {
          "base_uri": "https://localhost:8080/"
        },
        "id": "BDV8hJdujFz7",
        "outputId": "8a2ae5d4-be6a-47e9-95b8-f0851bff15ff"
      },
      "source": [
        "#Arbitrary Keyword Arguments, **kwargs\n",
        "\n",
        "def func(**name):\n",
        " print(\"Name is\",name)\n",
        "\n",
        "func(fname=\"Anik\",lname=\"Das\") \n"
      ],
      "execution_count": 30,
      "outputs": [
        {
          "output_type": "stream",
          "text": [
            "Name is {'fname': 'Anik', 'lname': 'Das'}\n"
          ],
          "name": "stdout"
        }
      ]
    },
    {
      "cell_type": "code",
      "metadata": {
        "colab": {
          "base_uri": "https://localhost:8080/"
        },
        "id": "SB9SyB5Ejhni",
        "outputId": "66781f12-93e7-45e5-ae96-724deeaca9f6"
      },
      "source": [
        "#Default Parameter Value\n",
        "\n",
        "def func(city=\"Dhaka\"):\n",
        " print(\"My city is->\"+city)\n",
        "\n",
        "func(\"Narayanganj\")\n",
        "func(\"Gazipur\")\n",
        "func()"
      ],
      "execution_count": 31,
      "outputs": [
        {
          "output_type": "stream",
          "text": [
            "My city is->Narayanganj\n",
            "My city is->Gazipur\n",
            "My city is->Dhaka\n"
          ],
          "name": "stdout"
        }
      ]
    },
    {
      "cell_type": "code",
      "metadata": {
        "colab": {
          "base_uri": "https://localhost:8080/"
        },
        "id": "kzEINo2WjsUS",
        "outputId": "98702faf-0eca-4ee0-e3dc-5d1c54cadb2a"
      },
      "source": [
        "#Passing a List as an Argument\n",
        "def func(li):\n",
        " for i in li:\n",
        "  print(i)\n",
        "\n",
        "li=[\"CSE\",\"EEE\",\"ME\"]\n",
        "func(li)"
      ],
      "execution_count": 34,
      "outputs": [
        {
          "output_type": "stream",
          "text": [
            "CSE\n",
            "EEE\n",
            "ME\n"
          ],
          "name": "stdout"
        }
      ]
    },
    {
      "cell_type": "code",
      "metadata": {
        "colab": {
          "base_uri": "https://localhost:8080/"
        },
        "id": "NTnP9i7Gj1_K",
        "outputId": "d393b65f-918c-4655-92bd-78c81e51dc43"
      },
      "source": [
        "#Return Values\n",
        "def func(x):\n",
        " return 5*x\n",
        "\n",
        "print(func(3))\n",
        "print(func(3))\n",
        "print(func(3))"
      ],
      "execution_count": 35,
      "outputs": [
        {
          "output_type": "stream",
          "text": [
            "15\n",
            "15\n",
            "15\n"
          ],
          "name": "stdout"
        }
      ]
    },
    {
      "cell_type": "code",
      "metadata": {
        "id": "Idh3NzGBj6hz"
      },
      "source": [
        "#The pass Statement\n",
        "def myfunction():\n",
        "  pass"
      ],
      "execution_count": 36,
      "outputs": []
    },
    {
      "cell_type": "code",
      "metadata": {
        "colab": {
          "base_uri": "https://localhost:8080/"
        },
        "id": "qzLwB0u1kEya",
        "outputId": "13b2e78b-5f69-4691-9595-740df41704fb"
      },
      "source": [
        "#Problem find a even or odd number\n",
        "def Even_ODD(n):\n",
        "  if (i%2==0):\n",
        "    print(\"Even number\")\n",
        "  else:\n",
        "    print(\"Odd number\")\n",
        "\n",
        "n = int(input(\"Enter a number->\"))\n",
        "Even_ODD(n)"
      ],
      "execution_count": 38,
      "outputs": [
        {
          "output_type": "stream",
          "text": [
            "Enter a number->4\n",
            "Even number\n"
          ],
          "name": "stdout"
        }
      ]
    },
    {
      "cell_type": "code",
      "metadata": {
        "colab": {
          "base_uri": "https://localhost:8080/"
        },
        "id": "ZAYxgvFqkstb",
        "outputId": "203beec3-dbe1-40e7-ef39-5b61a87f4336"
      },
      "source": [
        "#Swap number\n",
        "def swap(n,m):\n",
        " temp=n\n",
        " n=m\n",
        " m=temp\n",
        " print(\"After Swapping two Number: n = {0} and m = {1}\".format(n, m))\n",
        "\n",
        "a =int(input(\"Enter a number->\"))\n",
        "b =int(input(\"Enter a number->\"))\n",
        "print(\"Before Swapping two Number: a = {0} and b = {1}\".format(a, b))\n",
        "swap(a,b)"
      ],
      "execution_count": 42,
      "outputs": [
        {
          "output_type": "stream",
          "text": [
            "Enter a number->5\n",
            "Enter a number->7\n",
            "Before Swapping two Number: a = 5 and b = 7\n",
            "After Swapping two Number: n = 7 and m = 5\n"
          ],
          "name": "stdout"
        }
      ]
    },
    {
      "cell_type": "code",
      "metadata": {
        "colab": {
          "base_uri": "https://localhost:8080/"
        },
        "id": "yHd-27aeZfyU",
        "outputId": "32a48d71-7757-4b2b-f132-ac7cb3469a64"
      },
      "source": [
        "#Example-1\n",
        "\n",
        "l1 = [100,200,300]\n",
        "l2 = [344,555,333]\n",
        "\n",
        "# t = 0\n",
        "# for i in l1:\n",
        "#   t = t+i;\n",
        "# print(\"Total cost l1->\",t)  \n",
        "\n",
        "def Total(l):\n",
        "  t = 0\n",
        "  for i in l:\n",
        "    t = t+i\n",
        "  return t\n",
        "\n",
        "l1_cost = Total(l1) \n",
        "l2_cost = Total(l2)\n",
        "\n",
        "print(\"Total cost l1->\",l1_cost)\n",
        "print(\"Total cost l2->\",l2_cost)\n"
      ],
      "execution_count": 2,
      "outputs": [
        {
          "output_type": "stream",
          "text": [
            "Total cost l1-> 600\n",
            "Total cost l2-> 1232\n"
          ],
          "name": "stdout"
        }
      ]
    },
    {
      "cell_type": "code",
      "metadata": {
        "colab": {
          "base_uri": "https://localhost:8080/"
        },
        "id": "XlP3jn2mbEjh",
        "outputId": "6d060aa5-663d-4d6e-f5f0-85fbffb0c6fc"
      },
      "source": [
        "#Example-2\n",
        "\n",
        "def Sum(a=0,b=0):\n",
        "  s=a+b\n",
        "  return s\n",
        "\n",
        "n = int(input(\"Enter 1st number->\")) \n",
        "m = int(input(\"Enter 2nd number->\"))\n",
        "\n",
        "r = Sum(n,m)\n",
        "\n",
        "print(\"Result:\",r)"
      ],
      "execution_count": 5,
      "outputs": [
        {
          "output_type": "stream",
          "text": [
            "Enter 1st number->0\n",
            "Enter 2nd number->0\n",
            "Result: 0\n"
          ],
          "name": "stdout"
        }
      ]
    },
    {
      "cell_type": "markdown",
      "metadata": {
        "id": "m4usY-HInA17"
      },
      "source": [
        "Lambda Function\n",
        "(A lambda function is a small anonymous function.)"
      ]
    },
    {
      "cell_type": "code",
      "metadata": {
        "colab": {
          "base_uri": "https://localhost:8080/"
        },
        "id": "ZAeTO915bmCm",
        "outputId": "bfe41bff-b602-457f-d057-ab759721afb4"
      },
      "source": [
        "#Example\n",
        "\n",
        "x = lambda a:a+10\n",
        "print(x(5))\n",
        "\n",
        "a = lambda n,m:n*m\n",
        "print(a(5,5))\n",
        "\n",
        "b = lambda a,b,c:a+b+c\n",
        "print(b(2,2,2))\n",
        "\n",
        "def fun(n):\n",
        "  return lambda a:a*n\n",
        "\n",
        "x = fun(5)\n",
        "print(x(5))"
      ],
      "execution_count": 47,
      "outputs": [
        {
          "output_type": "stream",
          "text": [
            "15\n",
            "25\n",
            "6\n",
            "25\n"
          ],
          "name": "stdout"
        }
      ]
    },
    {
      "cell_type": "code",
      "metadata": {
        "id": "VksRwJfmnGvx"
      },
      "source": [
        ""
      ],
      "execution_count": null,
      "outputs": []
    }
  ]
}