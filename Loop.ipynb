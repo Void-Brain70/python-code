{
  "nbformat": 4,
  "nbformat_minor": 0,
  "metadata": {
    "colab": {
      "name": "Loop.ipynb",
      "provenance": [],
      "collapsed_sections": [],
      "authorship_tag": "ABX9TyOOyYdJFqpy7YBu2/6aYsxj",
      "include_colab_link": true
    },
    "kernelspec": {
      "name": "python3",
      "display_name": "Python 3"
    },
    "language_info": {
      "name": "python"
    }
  },
  "cells": [
    {
      "cell_type": "markdown",
      "metadata": {
        "id": "view-in-github",
        "colab_type": "text"
      },
      "source": [
        "<a href=\"https://colab.research.google.com/github/Void-Brain70/Python/blob/master/Loop.ipynb\" target=\"_parent\"><img src=\"https://colab.research.google.com/assets/colab-badge.svg\" alt=\"Open In Colab\"/></a>"
      ]
    },
    {
      "cell_type": "markdown",
      "metadata": {
        "id": "vWimW7aDqwXJ"
      },
      "source": [
        "For Loop"
      ]
    },
    {
      "cell_type": "code",
      "metadata": {
        "colab": {
          "base_uri": "https://localhost:8080/"
        },
        "id": "Qkn2lzGuyznB",
        "outputId": "088d4df4-b00f-4f7c-a6c1-e4643a755da5"
      },
      "source": [
        "s = \"Python\"  \n",
        "for i in s:  \n",
        "    print(i)"
      ],
      "execution_count": null,
      "outputs": [
        {
          "output_type": "stream",
          "text": [
            "P\n",
            "y\n",
            "t\n",
            "h\n",
            "o\n",
            "n\n"
          ],
          "name": "stdout"
        }
      ]
    },
    {
      "cell_type": "code",
      "metadata": {
        "colab": {
          "base_uri": "https://localhost:8080/"
        },
        "id": "D90bPES-zZMx",
        "outputId": "9ec8527e-32a3-4dce-9b19-0b37b0d61fa1"
      },
      "source": [
        "l = [1,2,3,4,5,6,7,8,9,10]  \n",
        "n = int(input(\"Enter a number->\"))  \n",
        "for i in l:  \n",
        "  c = n*i  \n",
        "  print(c)"
      ],
      "execution_count": null,
      "outputs": [
        {
          "output_type": "stream",
          "text": [
            "Enter a number->6\n",
            "6\n",
            "12\n",
            "18\n",
            "24\n",
            "30\n",
            "36\n",
            "42\n",
            "48\n",
            "54\n",
            "60\n"
          ],
          "name": "stdout"
        }
      ]
    },
    {
      "cell_type": "code",
      "metadata": {
        "colab": {
          "base_uri": "https://localhost:8080/"
        },
        "id": "4f25VnmKz_1p",
        "outputId": "0853d533-f38c-4936-f046-c6465688432d"
      },
      "source": [
        "for i in range(1,11):  \n",
        "    print(i,end = ' ')  "
      ],
      "execution_count": null,
      "outputs": [
        {
          "output_type": "stream",
          "text": [
            "1 2 3 4 5 6 7 8 9 10 "
          ],
          "name": "stdout"
        }
      ]
    },
    {
      "cell_type": "code",
      "metadata": {
        "colab": {
          "base_uri": "https://localhost:8080/"
        },
        "id": "oqDnt3X20KO5",
        "outputId": "2a1f63af-e262-4b95-dfc3-a07777db5b9d"
      },
      "source": [
        "n = int(input(\"Enter the number->\"))  \n",
        "for i in range(1,11):  \n",
        "    c = n*i  \n",
        "    print(n,\"*\",i,\"=\",c) "
      ],
      "execution_count": null,
      "outputs": [
        {
          "output_type": "stream",
          "text": [
            "Enter the number->5\n",
            "5 * 1 = 5\n",
            "5 * 2 = 10\n",
            "5 * 3 = 15\n",
            "5 * 4 = 20\n",
            "5 * 5 = 25\n",
            "5 * 6 = 30\n",
            "5 * 7 = 35\n",
            "5 * 8 = 40\n",
            "5 * 9 = 45\n",
            "5 * 10 = 50\n"
          ],
          "name": "stdout"
        }
      ]
    },
    {
      "cell_type": "code",
      "metadata": {
        "colab": {
          "base_uri": "https://localhost:8080/"
        },
        "id": "dwcLjdzK0cX4",
        "outputId": "12a10f2c-674d-499f-bd95-a3c4e11bda4d"
      },
      "source": [
        "n = int(input(\"Enter the number->\"))  \n",
        "for i in range(0,n,2):  \n",
        "    print(i) "
      ],
      "execution_count": null,
      "outputs": [
        {
          "output_type": "stream",
          "text": [
            "Enter the number->11\n",
            "0\n",
            "2\n",
            "4\n",
            "6\n",
            "8\n",
            "10\n"
          ],
          "name": "stdout"
        }
      ]
    },
    {
      "cell_type": "code",
      "metadata": {
        "colab": {
          "base_uri": "https://localhost:8080/"
        },
        "id": "N-zm4ro00o0R",
        "outputId": "a9f2a1c4-41d2-44b7-8091-562008b867cb"
      },
      "source": [
        "n = int(input(\"Enter the number->\"))  \n",
        "for i in range(1,n,2):  \n",
        "    print(i) "
      ],
      "execution_count": null,
      "outputs": [
        {
          "output_type": "stream",
          "text": [
            "Enter the number->10\n",
            "1\n",
            "3\n",
            "5\n",
            "7\n",
            "9\n"
          ],
          "name": "stdout"
        }
      ]
    },
    {
      "cell_type": "code",
      "metadata": {
        "colab": {
          "base_uri": "https://localhost:8080/"
        },
        "id": "SyjPIt3y08aH",
        "outputId": "3c5564e6-e011-4bb2-9249-dcd9830b675b"
      },
      "source": [
        "r = int(input(\"Enter the number->\"))\n",
        "for i in range(0,r+1):\n",
        "  for j in range(i):\n",
        "    print(\"@\",end=\" \")\n",
        "  print(\"\")  "
      ],
      "execution_count": null,
      "outputs": [
        {
          "output_type": "stream",
          "text": [
            "Enter the row->5\n",
            "\n",
            "@ \n",
            "@ @ \n",
            "@ @ @ \n",
            "@ @ @ @ \n",
            "@ @ @ @ @ \n"
          ],
          "name": "stdout"
        }
      ]
    },
    {
      "cell_type": "code",
      "metadata": {
        "colab": {
          "base_uri": "https://localhost:8080/"
        },
        "id": "ecIaBTWy1WmB",
        "outputId": "a5771a83-3026-40e0-93f5-983ffbec40ea"
      },
      "source": [
        "r = int(input(\"Enter the number->\"))  \n",
        "for i in range(0,r+1):  \n",
        "  for j in range(i):  \n",
        "    print(i,end = '')  \n",
        "  print()"
      ],
      "execution_count": null,
      "outputs": [
        {
          "output_type": "stream",
          "text": [
            "Enter the number->5\n",
            "\n",
            "1\n",
            "22\n",
            "333\n",
            "4444\n",
            "55555\n"
          ],
          "name": "stdout"
        }
      ]
    },
    {
      "cell_type": "code",
      "metadata": {
        "colab": {
          "base_uri": "https://localhost:8080/"
        },
        "id": "Qpfb3G02qoxO",
        "outputId": "7949ae6b-9e7c-4ef3-f80e-47e8f518f5b9"
      },
      "source": [
        "l = [120,110,230,550,440,50,]\n",
        "t=0\n",
        "for i in l:\n",
        "  t = t+i\n",
        "print(\"cost->\",t)  \n",
        "  "
      ],
      "execution_count": null,
      "outputs": [
        {
          "output_type": "stream",
          "text": [
            "cost-> 1500\n"
          ],
          "name": "stdout"
        }
      ]
    },
    {
      "cell_type": "code",
      "metadata": {
        "colab": {
          "base_uri": "https://localhost:8080/"
        },
        "id": "-16rbMC0sTgy",
        "outputId": "063f31e1-7acb-4cc3-dadc-d650a0b4b41f"
      },
      "source": [
        "for i in range(1,11):\n",
        "  print(i)"
      ],
      "execution_count": null,
      "outputs": [
        {
          "output_type": "stream",
          "text": [
            "1\n",
            "2\n",
            "3\n",
            "4\n",
            "5\n",
            "6\n",
            "7\n",
            "8\n",
            "9\n",
            "10\n"
          ],
          "name": "stdout"
        }
      ]
    },
    {
      "cell_type": "code",
      "metadata": {
        "colab": {
          "base_uri": "https://localhost:8080/"
        },
        "id": "5zG_d1m1sVnm",
        "outputId": "72bd4b2c-83d9-453d-fa6c-da76c4b1be22"
      },
      "source": [
        "for i in range(1,11):\n",
        "  print(i*i)"
      ],
      "execution_count": null,
      "outputs": [
        {
          "output_type": "stream",
          "text": [
            "1\n",
            "4\n",
            "9\n",
            "16\n",
            "25\n",
            "36\n",
            "49\n",
            "64\n",
            "81\n",
            "100\n"
          ],
          "name": "stdout"
        }
      ]
    },
    {
      "cell_type": "code",
      "metadata": {
        "colab": {
          "base_uri": "https://localhost:8080/"
        },
        "id": "OKZ7Ipels4Wa",
        "outputId": "a2fad481-600c-45e8-cc71-62600261d10c"
      },
      "source": [
        "l = [120,110,230,550,440,50,]\n",
        "t=0\n",
        "for i in range(len(l)): #for i in range(0,5):\n",
        "  print('Cost->',(i+1),'List->',l[i])\n",
        "  t = t+l[i]\n",
        "print(\"Total cost->\",t) "
      ],
      "execution_count": null,
      "outputs": [
        {
          "output_type": "stream",
          "text": [
            "Cost-> 1 List-> 120\n",
            "Cost-> 2 List-> 110\n",
            "Cost-> 3 List-> 230\n",
            "Cost-> 4 List-> 550\n",
            "Cost-> 5 List-> 440\n",
            "Cost-> 6 List-> 50\n",
            "Total cost-> 1500\n"
          ],
          "name": "stdout"
        }
      ]
    },
    {
      "cell_type": "code",
      "metadata": {
        "colab": {
          "base_uri": "https://localhost:8080/"
        },
        "id": "wzvL2ecsusZe",
        "outputId": "8aa2aedc-b3b5-4e86-d4d2-86661584df2e"
      },
      "source": [
        "key_location = \"chair\"\n",
        "locations = ['garage','living room','chair','closet']\n",
        "for i in locations:\n",
        "  if i==key_location:\n",
        "    print(\"key is found in \",i)\n",
        "    break;\n",
        "  else:\n",
        "    print(\"Not Found \",i)  "
      ],
      "execution_count": null,
      "outputs": [
        {
          "output_type": "stream",
          "text": [
            "Not Found  garage\n",
            "Not Found  living room\n",
            "key is found in  chair\n"
          ],
          "name": "stdout"
        }
      ]
    },
    {
      "cell_type": "code",
      "metadata": {
        "colab": {
          "base_uri": "https://localhost:8080/"
        },
        "id": "C_xn1siTv11R",
        "outputId": "d4cafb25-ef91-40e8-fa3c-fa3dec506ddc"
      },
      "source": [
        "key_location = \"chair\"\n",
        "locations = ['garage','living room','chair','closet']\n",
        "for i in locations:\n",
        "  if i==key_location:\n",
        "    print(\"key is found in \",i)\n",
        "    continue;\n",
        "  else:\n",
        "    print(\"Not Found \",i)"
      ],
      "execution_count": null,
      "outputs": [
        {
          "output_type": "stream",
          "text": [
            "Not Found  garage\n",
            "Not Found  living room\n",
            "key is found in  chair\n",
            "Not Found  closet\n"
          ],
          "name": "stdout"
        }
      ]
    },
    {
      "cell_type": "code",
      "metadata": {
        "colab": {
          "base_uri": "https://localhost:8080/"
        },
        "id": "DSyEc3xNv6Q6",
        "outputId": "40b0f152-5584-4f11-cf00-5fac3387536a"
      },
      "source": [
        "for i in range(1,6):\n",
        "  if i%2==0:\n",
        "    continue;\n",
        "  print(i*i)"
      ],
      "execution_count": null,
      "outputs": [
        {
          "output_type": "stream",
          "text": [
            "1\n",
            "9\n",
            "25\n"
          ],
          "name": "stdout"
        }
      ]
    },
    {
      "cell_type": "code",
      "metadata": {
        "colab": {
          "base_uri": "https://localhost:8080/"
        },
        "id": "O4zSpxD_wUTy",
        "outputId": "96b5678b-0ba8-4bbb-a0c0-56fd4826bd61"
      },
      "source": [
        "i=1\n",
        "while i<=5:\n",
        "  print(i)\n",
        "  i=i+1"
      ],
      "execution_count": null,
      "outputs": [
        {
          "output_type": "stream",
          "text": [
            "1\n",
            "2\n",
            "3\n",
            "4\n",
            "5\n"
          ],
          "name": "stdout"
        }
      ]
    }
  ]
}