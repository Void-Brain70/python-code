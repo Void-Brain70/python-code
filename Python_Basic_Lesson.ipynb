{
  "nbformat": 4,
  "nbformat_minor": 0,
  "metadata": {
    "colab": {
      "name": "Python_Basic_Lesson.ipynb",
      "provenance": [],
      "collapsed_sections": [],
      "authorship_tag": "ABX9TyPYsI5QARTlaVfibuJ+OxrB",
      "include_colab_link": true
    },
    "kernelspec": {
      "name": "python3",
      "display_name": "Python 3"
    },
    "language_info": {
      "name": "python"
    }
  },
  "cells": [
    {
      "cell_type": "markdown",
      "metadata": {
        "id": "view-in-github",
        "colab_type": "text"
      },
      "source": [
        "<a href=\"https://colab.research.google.com/github/Void-Brain70/Python/blob/master/Python_Basic_Lesson.ipynb\" target=\"_parent\"><img src=\"https://colab.research.google.com/assets/colab-badge.svg\" alt=\"Open In Colab\"/></a>"
      ]
    },
    {
      "cell_type": "markdown",
      "metadata": {
        "id": "u8vk6U1Fgyg4"
      },
      "source": [
        "Numbers"
      ]
    },
    {
      "cell_type": "code",
      "metadata": {
        "id": "kzes5od6gq9q"
      },
      "source": [
        "2 + 2"
      ],
      "execution_count": null,
      "outputs": []
    },
    {
      "cell_type": "code",
      "metadata": {
        "id": "TdOC9Q4Ig0ft"
      },
      "source": [
        "50 - 5*6"
      ],
      "execution_count": null,
      "outputs": []
    },
    {
      "cell_type": "code",
      "metadata": {
        "id": "PNUOMt77g5x-"
      },
      "source": [
        "(50-5*6)/4"
      ],
      "execution_count": null,
      "outputs": []
    },
    {
      "cell_type": "code",
      "metadata": {
        "id": "5x7Qlcnag7eF"
      },
      "source": [
        "8/5 #division always returns a floating point number,\n",
        "#classic division returns a float"
      ],
      "execution_count": null,
      "outputs": []
    },
    {
      "cell_type": "code",
      "metadata": {
        "id": "Wbwjpz2fg9a9"
      },
      "source": [
        "17 // 3  # floor division discards the fractional part"
      ],
      "execution_count": null,
      "outputs": []
    },
    {
      "cell_type": "code",
      "metadata": {
        "id": "--2Xe86ng_zu"
      },
      "source": [
        "17 % 3  # the % operator returns the remainder of the division"
      ],
      "execution_count": null,
      "outputs": []
    },
    {
      "cell_type": "code",
      "metadata": {
        "id": "r76ZB6_ChCFu"
      },
      "source": [
        "5 * 3 + 2  # floored quotient * divisor + remainder"
      ],
      "execution_count": null,
      "outputs": []
    },
    {
      "cell_type": "markdown",
      "metadata": {
        "id": "ULEXc8SvhGwX"
      },
      "source": [
        "Variables"
      ]
    },
    {
      "cell_type": "code",
      "metadata": {
        "id": "bOKMg9cZhI6G"
      },
      "source": [
        "width = 20  #  width variable contains 20"
      ],
      "execution_count": null,
      "outputs": []
    },
    {
      "cell_type": "code",
      "metadata": {
        "id": "NWcvw_zShV5O"
      },
      "source": [
        "height = 5 * 9"
      ],
      "execution_count": null,
      "outputs": []
    },
    {
      "cell_type": "code",
      "metadata": {
        "id": "CBeApOgxnJ8X"
      },
      "source": [
        "width * height   #obtain reusability of height expression"
      ],
      "execution_count": null,
      "outputs": []
    },
    {
      "cell_type": "code",
      "metadata": {
        "id": "e6XcWqp9nvWe"
      },
      "source": [
        "width = 30 #casecade previous value 20"
      ],
      "execution_count": null,
      "outputs": []
    },
    {
      "cell_type": "code",
      "metadata": {
        "id": "aEcDpbson3GW"
      },
      "source": [
        "n  # try to access an undefined variable"
      ],
      "execution_count": null,
      "outputs": []
    },
    {
      "cell_type": "code",
      "metadata": {
        "id": "HObDExINn5oX"
      },
      "source": [
        "multiple_word_variable = None  # underscore separated multiple word variable"
      ],
      "execution_count": null,
      "outputs": []
    },
    {
      "cell_type": "markdown",
      "metadata": {
        "id": "cfvp2glhoDpn"
      },
      "source": [
        "Numbers and variables"
      ]
    },
    {
      "cell_type": "code",
      "metadata": {
        "id": "PbT4-XOsoJbu"
      },
      "source": [
        "#Python Numbers: int, float, complex,randorm\n",
        "\n",
        "#Integers:\n",
        "x = 70\n",
        "print(type(x))\n",
        "print(x)\n",
        "\n",
        "#Floats:\n",
        "x = -70.07\n",
        "print(type(x))\n",
        "print(x)\n",
        "\n",
        "#Complex:\n",
        "x = 3+5j\n",
        "print(type(x))\n",
        "print(x)\n",
        "\n",
        "#Random Number\n",
        "import random\n",
        "print(random.randrange(1,100))"
      ],
      "execution_count": null,
      "outputs": []
    },
    {
      "cell_type": "code",
      "metadata": {
        "id": "3FRzoe3MpD0G"
      },
      "source": [
        "#Convert from one type to another:\n",
        "\n",
        "x = 70    # int\n",
        "y = 70.8  # float\n",
        "z = 1j   # complex\n",
        "\n",
        "#convert from int to float:\n",
        "a = float(x)\n",
        "\n",
        "#convert from float to int:\n",
        "b = int(y)\n",
        "\n",
        "#convert from int to complex:\n",
        "c = complex(x)\n",
        "\n",
        "print(a)\n",
        "print(b)\n",
        "print(c)\n",
        "\n",
        "print(type(a))\n",
        "print(type(b))\n",
        "print(type(c))"
      ],
      "execution_count": null,
      "outputs": []
    },
    {
      "cell_type": "code",
      "metadata": {
        "id": "owAG_7mFp9Z_"
      },
      "source": [
        "s1=\"Anik\"\n",
        "s2=\"UAP\"\n",
        "s3= 70\n",
        "print(\"Info->\",s1,s2,s3)\n",
        "\n",
        "#Type casting\n",
        "x = str(70)\n",
        "y = int(3.50)\n",
        "z = float(4)\n",
        "\n",
        "print(x)\n",
        "print(y)\n",
        "print(z)\n",
        "\n",
        "print(type(x))\n",
        "print(type(y))\n",
        "print(type(z))"
      ],
      "execution_count": null,
      "outputs": []
    },
    {
      "cell_type": "markdown",
      "metadata": {
        "id": "1KjRuBuIql0o"
      },
      "source": [
        "String"
      ]
    },
    {
      "cell_type": "code",
      "metadata": {
        "id": "CubEW_gsri0H"
      },
      "source": [
        "#declared a string\n",
        "a = \"Python\"\n",
        "print(a)"
      ],
      "execution_count": null,
      "outputs": []
    },
    {
      "cell_type": "code",
      "metadata": {
        "id": "v9A6kI7Arqf4"
      },
      "source": [
        "#Array of String\n",
        "a = \"Python\"\n",
        "print(a[5])"
      ],
      "execution_count": null,
      "outputs": []
    },
    {
      "cell_type": "code",
      "metadata": {
        "id": "F8L7MGkfrsa2"
      },
      "source": [
        "for i in 'Python':\n",
        "  print(i)"
      ],
      "execution_count": null,
      "outputs": []
    },
    {
      "cell_type": "code",
      "metadata": {
        "id": "mmd0OrmWrwDO"
      },
      "source": [
        "#Length of String\n",
        "a = \"Python\"\n",
        "print(len(a))"
      ],
      "execution_count": null,
      "outputs": []
    },
    {
      "cell_type": "code",
      "metadata": {
        "id": "ckRNvgXLrx1u"
      },
      "source": [
        "#Check String\n",
        "a = 'Welcome to Python programming language..!'\n",
        "c = \"Python\" in a;\n",
        "print(c)"
      ],
      "execution_count": null,
      "outputs": []
    },
    {
      "cell_type": "code",
      "metadata": {
        "id": "LCAEFvPbr11u"
      },
      "source": [
        "#Check String\n",
        "a = 'Welcome to Python programming language..!'\n",
        "if \"Python\" in a:\n",
        "  print(\"YES\")\n",
        "else:\n",
        "  print(\"NO\")"
      ],
      "execution_count": null,
      "outputs": []
    },
    {
      "cell_type": "code",
      "metadata": {
        "id": "bS65OefHr4K4"
      },
      "source": [
        "#Check if NOT\n",
        "a = 'Welcome to Python programming language..!'\n",
        "c = \"JavaScript\" not in a;\n",
        "print(c)"
      ],
      "execution_count": null,
      "outputs": []
    },
    {
      "cell_type": "code",
      "metadata": {
        "id": "uXtGm9KXsBK-"
      },
      "source": [
        "#Check String\n",
        "a = 'Welcome to Python programming language..!'\n",
        "if \"Python\" not in a:\n",
        "  print(\"YES\")\n",
        "else:\n",
        "  print(\"NO\")"
      ],
      "execution_count": null,
      "outputs": []
    },
    {
      "cell_type": "code",
      "metadata": {
        "id": "wW07un1vsDjv"
      },
      "source": [
        "#String slicing with indexing\n",
        "\n",
        "'''\n",
        "...  +---+---+---+---+---+---+\n",
        "...  | P | y | t | h | o | n |\n",
        "...  +---+---+---+---+---+---+\n",
        "...  0   1   2   3   4   5   6\n",
        "... -7  -6  -5  -4  -3  -2  -1\n",
        "'''\n",
        "v = 'Hello World'\n",
        "v[0:5]  #  divide the string from index 0 to 4\n",
        "v[0::2]  #  extract all the odd character\n",
        "v[-1::-1]  #  reverse the string\n",
        "\n",
        "\n",
        "s = \"ice cream\"\n",
        "s[0]\n",
        "s[0:3] #s[:3]\n",
        "s[4:9] #s[4:]\n",
        "\n",
        "b = \"Python\"\n",
        "print(b[-5:-2])"
      ],
      "execution_count": null,
      "outputs": []
    },
    {
      "cell_type": "code",
      "metadata": {
        "id": "Mzw-jmE3sPhe"
      },
      "source": [
        "#Method of string\n",
        "a = \"Python\"\n",
        "print(a.upper())\n",
        "\n",
        "a = \"PYTHON\"\n",
        "print(a.lower())\n",
        "\n",
        "#Remove Whitespace\n",
        "\n",
        "a = \"Python is a popular language!  \"\n",
        "print(a.strip())\n",
        "\n",
        "a  = \"Anik Das\"\n",
        "print(a.replace('D','d'))\n",
        "\n",
        "\n",
        "#String Concatenation\n",
        "\n",
        "a = \"UAP\"\n",
        "b = \"CSE\"\n",
        "\n",
        "c= a+ \" \" +b\n",
        "print(c)"
      ],
      "execution_count": null,
      "outputs": []
    },
    {
      "cell_type": "code",
      "metadata": {
        "id": "2sefPbwfshI3"
      },
      "source": [
        "#Format - Strings\n",
        "id = 70\n",
        "msg = \"My id is-> {}\"\n",
        "print(msg.format(id))\n",
        "\n",
        "quantity = 3\n",
        "itemno = 567\n",
        "price = 49.95\n",
        "myorder = \"I want {} pieces of item {} for {} dollars.\"\n",
        "print(myorder.format(quantity, itemno, price))\n"
      ],
      "execution_count": null,
      "outputs": []
    },
    {
      "cell_type": "code",
      "metadata": {
        "id": "VBppbCiwskKO"
      },
      "source": [
        "quantity = 3\n",
        "itemno = 567\n",
        "price = 49.95\n",
        "myorder = \"I want to pay {2} dollars for {0} pieces of item {1}.\"\n",
        "print(myorder.format(quantity, itemno, price))"
      ],
      "execution_count": null,
      "outputs": []
    },
    {
      "cell_type": "markdown",
      "metadata": {
        "id": "BhBRNM1EtCeW"
      },
      "source": [
        "Some String Methodology"
      ]
    },
    {
      "cell_type": "code",
      "metadata": {
        "id": "8OWdpFDmqnTf"
      },
      "source": [
        "'spam eggs'  # single quotes"
      ],
      "execution_count": null,
      "outputs": []
    },
    {
      "cell_type": "code",
      "metadata": {
        "id": "xxeBMQOVtBc3"
      },
      "source": [
        "'doesn\\'t'  # use \\' to escape the single quote..."
      ],
      "execution_count": null,
      "outputs": []
    },
    {
      "cell_type": "code",
      "metadata": {
        "id": "_aDesg8RtI6-"
      },
      "source": [
        "\"doesn't\"  # ...or use double quotes instead"
      ],
      "execution_count": null,
      "outputs": []
    },
    {
      "cell_type": "code",
      "metadata": {
        "id": "IiyGqBdat_O_"
      },
      "source": [
        "s = 'First line.\\nSecond line.'  # \\n means newline\n",
        "s  # without print(), \\n is included in the output"
      ],
      "execution_count": null,
      "outputs": []
    },
    {
      "cell_type": "code",
      "metadata": {
        "id": "PcSc-sGet8Zw"
      },
      "source": [
        "s = 'First line.\\nSecond line.'  # \\n means newline\n",
        "print(s)  # with print(), \\n produces a new line"
      ],
      "execution_count": null,
      "outputs": []
    },
    {
      "cell_type": "code",
      "metadata": {
        "id": "0Dau7G1SuI8P"
      },
      "source": [
        "random_text = '''Multiline text\n",
        "... Another line. Don’t need escape quote'''\n",
        "print(random_text)"
      ],
      "execution_count": null,
      "outputs": []
    },
    {
      "cell_type": "code",
      "metadata": {
        "id": "pvFPArsXv-9a"
      },
      "source": [
        "s = 'First line.\\nSecond line.'\n",
        "r = s + '\\nThird line'\n",
        "print(r)\n",
        "s[0]\n",
        "\n",
        "s[0] = 'f'  # Can we do this.\n",
        "\n",
        " s[-1]  #  Last char of s string"
      ],
      "execution_count": null,
      "outputs": []
    },
    {
      "cell_type": "code",
      "metadata": {
        "id": "DTmc_IMOv_mp"
      },
      "source": [
        "dir(str)"
      ],
      "execution_count": null,
      "outputs": []
    },
    {
      "cell_type": "code",
      "metadata": {
        "id": "4oyMoBQ9xfdQ"
      },
      "source": [
        "help(str.join)"
      ],
      "execution_count": null,
      "outputs": []
    },
    {
      "cell_type": "markdown",
      "metadata": {
        "id": "earQOEnrx1z4"
      },
      "source": [
        "Data Structures : List"
      ]
    },
    {
      "cell_type": "code",
      "metadata": {
        "id": "IVAzlLfKx3Ds"
      },
      "source": [
        "#create a list\n",
        "squares = [1, 4, 9, 16, 25]\n",
        "squares"
      ],
      "execution_count": null,
      "outputs": []
    },
    {
      "cell_type": "code",
      "metadata": {
        "id": "hsxCfKAByXsa"
      },
      "source": [
        "#concanate a list\n",
        "squares + [36, 49, 64, 81, 100]\n",
        "\n",
        "food = ['bread','pasta','fruits']\n",
        "car = ['BMW','AUDI','VOLVO']\n",
        "l = food+car\n",
        "print(l)"
      ],
      "execution_count": 2,
      "outputs": []
    },
    {
      "cell_type": "code",
      "metadata": {
        "id": "sgkqg_I_y7bw"
      },
      "source": [
        "#We can modify list element\n",
        "cubes = [1, 8, 27, 65, 125]  # something's wrong here\n",
        "#4 ** 3  # the cube of 4 is 64, not 65!\n",
        "# 64\n",
        "cubes[3] = 64  # replace the wrong value\n",
        "cubes"
      ],
      "execution_count": null,
      "outputs": []
    },
    {
      "cell_type": "code",
      "metadata": {
        "id": "jLp5wa1ozKhT"
      },
      "source": [
        "x = [['a', 'b', 'c'], [1, 2, 3]]  #  nested list\n",
        "x[0]\n",
        "x[0][1]\n",
        "x[1][3]"
      ],
      "execution_count": null,
      "outputs": []
    },
    {
      "cell_type": "code",
      "metadata": {
        "id": "qLGQIEib1h2Y"
      },
      "source": [
        "#Access List Items 0 to 5\n",
        "l = [\"CSE\",\"EEE\",\"ME\",\"TE\",\"IPE\",\"BBA\"]\n",
        "print(l[1])\n",
        "print(l[-1]) #Negative Indexing\n",
        "print(l[2:5]) #Range of Indexes\n",
        "print(l[2:])\n",
        "print(l[:4])\n",
        "print(l[-3:-2])"
      ],
      "execution_count": null,
      "outputs": []
    },
    {
      "cell_type": "code",
      "metadata": {
        "id": "DCYDc7TT1r5Y"
      },
      "source": [
        "#Change List Items\n",
        "l = [\"CSE\",\"EEE\",\"ME\",\"TE\",\"IPE\",\"BBA\"]\n",
        "l[3]=\"Pharmacy\"\n",
        "print(l)\n",
        "\n",
        "l.insert(4,\"TE\")\n",
        "print(l)\n",
        "\n",
        "l.append(\"LAW\")\n",
        "print(l)"
      ],
      "execution_count": null,
      "outputs": []
    },
    {
      "cell_type": "code",
      "metadata": {
        "id": "i9y168bZ1wcA"
      },
      "source": [
        "#Remove List Items\n",
        "l = [\"UAP\",\"DIU\",\"AIUB\",\"UIU\",\"NSU\",\"IUB\"]\n",
        "l.remove(\"UAP\")\n",
        "print(l)\n",
        "\n",
        "l1 = [\"UAP\",\"DIU\",\"AIUB\",\"UIU\",\"NSU\",\"IUB\"]\n",
        "l1.pop() #pop() Remove the last item\n",
        "print(l1)\n",
        "\n",
        "l2 = [\"UAP\",\"DIU\",\"AIUB\",\"UIU\",\"NSU\",\"IUB\"]\n",
        "del l2[0] #del() Remove the first item\n",
        "print(l2)\n",
        "\n",
        "l3 = [\"UAP\",\"DIU\",\"AIUB\",\"UIU\",\"NSU\",\"IUB\"]\n",
        "l3.clear()\n",
        "print(l3)"
      ],
      "execution_count": null,
      "outputs": []
    },
    {
      "cell_type": "code",
      "metadata": {
        "id": "0H5oQ0gJ12vQ"
      },
      "source": [
        "#Loop Lists\n",
        "l = [\"CSE\",\"EEE\",\"ME\",\"TE\",\"IPE\",\"BBA\"]\n",
        "for i in l:\n",
        "  print(i)\n",
        "\n",
        "l1 = [\"CSE\",\"EEE\",\"ME\",\"TE\",\"IPE\",\"BBA\"]\n",
        "for i in range(len(l1)):\n",
        "  print(l[i])"
      ],
      "execution_count": null,
      "outputs": []
    },
    {
      "cell_type": "code",
      "metadata": {
        "id": "_kShCROC0I64"
      },
      "source": [
        "#  list comprehensions\n",
        "l = [\"CSE\",\"EEE\",\"ME\",\"TE\",\"IPE\",\"BBA\"]\n",
        "new = []\n",
        "\n",
        "for i in l:\n",
        "  if 'E' in i:\n",
        "    new.append(i)\n",
        "\n",
        "print(new)\n",
        "\n",
        "squares = []\n",
        "squares = [x**2 for x in range(10)]\n",
        "squares\n",
        "\n",
        "#  nested list comprehensions\n",
        "matrix = [\n",
        "         [1, 2, 3, 4],\n",
        "         [5, 6, 7, 8],\n",
        "         [9, 10, 11, 12],\n",
        "         ]\n",
        "[[row[i] for row in matrix] for i in range(4)]"
      ],
      "execution_count": null,
      "outputs": []
    },
    {
      "cell_type": "code",
      "metadata": {
        "id": "XC1JpvVy2I3w"
      },
      "source": [
        "#Sort Lists\n",
        "l = [\"CSE\",\"EEE\",\"ME\",\"TE\",\"IPE\",\"BBA\"]\n",
        "l.sort()\n",
        "print(l)\n",
        "\n",
        "l1 = [100, 50, 65, 82, 23]\n",
        "l1.sort()\n",
        "print(l1)\n",
        "\n",
        "l2 = [100, 50, 65, 82, 23]\n",
        "l2.sort(reverse = True)\n",
        "print(l2)\n",
        "\n",
        "l3 = [\"CSE\",\"EEE\",\"ME\",\"TE\",\"IPE\",\"BBA\"]\n",
        "l3.reverse()\n",
        "print(l3)"
      ],
      "execution_count": null,
      "outputs": []
    },
    {
      "cell_type": "code",
      "metadata": {
        "id": "60RW2qWn1RwA"
      },
      "source": [
        "#List zip() method\n",
        "istOne = [1,2,3]\n",
        "listTwo = [4,5,6]\n",
        "listThree = zip(listOne,listTwo)\n",
        "listThree\n",
        "# <zip object at 0x7fcdb6964040>\n",
        "listThree = list(listThree)\n",
        "listThree"
      ],
      "execution_count": null,
      "outputs": []
    },
    {
      "cell_type": "markdown",
      "metadata": {
        "id": "DMlVlMsd2luo"
      },
      "source": [
        "Data Structures:Tuple"
      ]
    },
    {
      "cell_type": "code",
      "metadata": {
        "id": "WYRO0CDc_fnh"
      },
      "source": [
        "#create a tuple\n",
        "t1=(\"CSE\",\"EEE\",\"ME\",\"IPE\",\"CE\",\"SWE\")\n",
        "t2=(\"CSE\",1,\"EEE\",2)\n",
        "t3=1,2,3,4,5\n",
        "print(\"Tuple->\",t1)\n",
        "print(\"Tuple->\",t2)\n",
        "print(\"Tuple->\",t3)\n",
        "\n",
        "#what is tuple\n",
        "t1=(\"Anik\",)\n",
        "print(type(t1))\n",
        "\n",
        "t=(\"Das\")\n",
        "print(type(t))"
      ],
      "execution_count": null,
      "outputs": []
    },
    {
      "cell_type": "code",
      "metadata": {
        "id": "6gBYGL1f2nyu"
      },
      "source": [
        "#create a tuple\n",
        "t = 12345, 54321, 'hello!'\n",
        "t[0]\n",
        "\n",
        "t = (12345, 54321, 'hello!')\n",
        "t\n",
        "\n",
        "# Tuples may be nested:\n",
        "u = t, (1, 2, 3, 4, 5)\n",
        "u\n",
        "\n",
        "# Tuples are immutable:\n",
        "t[0] = 88888\n",
        "\n",
        "# but they can contain mutable objects:\n",
        "v = ([1, 2, 3], [3, 2, 1])\n",
        "v"
      ],
      "execution_count": null,
      "outputs": []
    },
    {
      "cell_type": "code",
      "metadata": {
        "id": "5bb06ooH_IHC"
      },
      "source": [
        "#show that duplicates have been removed\n",
        "basket = {'apple', 'orange', 'apple', 'pear', 'orange', 'banana'}\n",
        "print(basket) "
      ],
      "execution_count": null,
      "outputs": []
    },
    {
      "cell_type": "code",
      "metadata": {
        "id": "891rRj-P_PP5"
      },
      "source": [
        "# fast membership testing\n",
        "'orange' in basket               "
      ],
      "execution_count": null,
      "outputs": []
    },
    {
      "cell_type": "code",
      "metadata": {
        "id": "-_CDeo38_8o4"
      },
      "source": [
        "#Check any item in tuple:\n",
        "\n",
        "t=(\"CSE\",\"EEE\",\"ME\",\"IPE\",\"CE\",\"SWE\")\n",
        "if \"ME\" in t:\n",
        "  print(\"YES\")\n",
        "else:\n",
        "  print(\"NO\")"
      ],
      "execution_count": null,
      "outputs": []
    },
    {
      "cell_type": "code",
      "metadata": {
        "id": "Ql-P3rhF_1YR"
      },
      "source": [
        "t=(1,2,3,4,5,6,7)\n",
        "# print(t[0:])\n",
        "#print(t[:])\n",
        "#print(t[2:4])\n",
        "#print(t[:4])\n",
        "#print(t[0:6:2])\n",
        "\n",
        "t=(\"CSE\",\"EEE\",\"ME\",\"IPE\",\"CE\",\"SWE\")\n",
        "r=t[-4:-1]\n",
        "print(\"Range Item Negative->\",r)"
      ],
      "execution_count": null,
      "outputs": []
    },
    {
      "cell_type": "code",
      "metadata": {
        "id": "zQtU_UMF_35x"
      },
      "source": [
        "#Tuple item change by list:\n",
        "t=(\"CSE\",\"EEE\",\"ME\",\"IPE\",\"CE\",\"SWE\")\n",
        "l=list(t)\n",
        "l[3]=\"TE\"\n",
        "t=tuple(l)\n",
        "print(\"Tuple is->\",t)"
      ],
      "execution_count": null,
      "outputs": []
    },
    {
      "cell_type": "code",
      "metadata": {
        "id": "pDo4HG5RABGM"
      },
      "source": [
        "#Tuple count()  method:\n",
        "t=(1,2,3,4,5,6,7,7,6,4,3,2,2,2,2,2)\n",
        "c=t.count(2)\n",
        "print(\"total->\",c)"
      ],
      "execution_count": null,
      "outputs": []
    },
    {
      "cell_type": "markdown",
      "metadata": {
        "id": "MR3gAiYoBk0M"
      },
      "source": [
        "Data Structures:Sets"
      ]
    },
    {
      "cell_type": "code",
      "metadata": {
        "colab": {
          "base_uri": "https://localhost:8080/"
        },
        "id": "_OkawzcSD9B6",
        "outputId": "8a263640-682e-4c11-eb16-41e72709e3b7"
      },
      "source": [
        "#Python Set Operations\n",
        "\n",
        "#Union of two Sets\n",
        "s1 = {1,2,3,4,5}\n",
        "s2 = {5,6,7}\n",
        "print(s1|s2 )\n",
        "# print(s1.union(s2))"
      ],
      "execution_count": 4,
      "outputs": [
        {
          "output_type": "stream",
          "text": [
            "{1, 2, 3, 4, 5, 6, 7}\n"
          ],
          "name": "stdout"
        }
      ]
    },
    {
      "cell_type": "code",
      "metadata": {
        "colab": {
          "base_uri": "https://localhost:8080/"
        },
        "id": "pcdZDV20E2Y3",
        "outputId": "2ed1c934-42bb-4d6e-aaea-b93e04256a7d"
      },
      "source": [
        "#Intersection of two sets\n",
        "s1 = {1,2,3,4,5}\n",
        "s2 = {5,6,7}\n",
        "print(s1&s2)\n",
        "#print(s1.intersection(s2))"
      ],
      "execution_count": 5,
      "outputs": [
        {
          "output_type": "stream",
          "text": [
            "{5}\n"
          ],
          "name": "stdout"
        }
      ]
    },
    {
      "cell_type": "code",
      "metadata": {
        "colab": {
          "base_uri": "https://localhost:8080/"
        },
        "id": "47Dj5qQwFR05",
        "outputId": "d28f6a0d-2433-435b-eb0b-ce15dfbae55f"
      },
      "source": [
        "#Difference between the two sets\n",
        "s1 = {1,2,3,4,5,6,7}  \n",
        "s2 = {1,2,20,32,5,9} \n",
        "print(s1-s2)\n",
        "#print(s1.difference(s2))"
      ],
      "execution_count": 6,
      "outputs": [
        {
          "output_type": "stream",
          "text": [
            "{3, 4, 6, 7}\n"
          ],
          "name": "stdout"
        }
      ]
    },
    {
      "cell_type": "code",
      "metadata": {
        "colab": {
          "base_uri": "https://localhost:8080/"
        },
        "id": "eroDguZvGSzh",
        "outputId": "64d06603-c405-416f-919f-e4eca09d9c13"
      },
      "source": [
        "#Symmetric Difference of two sets\n",
        "s1 = {1,2,3,4,5,6}  \n",
        "s2 = {1,2,9,8,10}  \n",
        "print(s1^s2)\n",
        "#print(s1.symmetric_difference(s2))  "
      ],
      "execution_count": 8,
      "outputs": [
        {
          "output_type": "stream",
          "text": [
            "{3, 4, 5, 6, 8, 9, 10}\n"
          ],
          "name": "stdout"
        }
      ]
    },
    {
      "cell_type": "code",
      "metadata": {
        "id": "VVfIwW-sBuo6"
      },
      "source": [
        "#Demonstrate set operations on unique letters from two words\n",
        "a = set('abracadabra')\n",
        "b = set('alacazam')\n",
        "a    "
      ],
      "execution_count": null,
      "outputs": []
    },
    {
      "cell_type": "code",
      "metadata": {
        "colab": {
          "base_uri": "https://localhost:8080/"
        },
        "id": "XGAkfojLHB_B",
        "outputId": "57559a12-82e2-4bf2-c64d-95e36caebff5"
      },
      "source": [
        "#Set comparisons\n",
        "s1 = {\"CSE\",\"EEE\",\"ME\",\"TE\",\"CE\"}\n",
        "s2 = {\"ME\",\"TE\",\"CE\"}\n",
        "s3 = {\"CE\",\"BBA\",\"ARC\"}\n",
        "\n",
        "#s1 is the superset of s2 hence it will print true.\n",
        "print(s1>s2)\n",
        "\n",
        "#prints false since s1 is not the subset of s2     \n",
        "print(s1<s2)    \n",
        "    \n",
        "#prints false since s2 and s3 are not equivalent     \n",
        "print(s2==s3)   "
      ],
      "execution_count": 12,
      "outputs": [
        {
          "output_type": "stream",
          "text": [
            "True\n",
            "False\n",
            "False\n"
          ],
          "name": "stdout"
        }
      ]
    },
    {
      "cell_type": "code",
      "metadata": {
        "colab": {
          "base_uri": "https://localhost:8080/"
        },
        "id": "jSgw9J60ItJ-",
        "outputId": "6ee33b7d-dd86-44be-962c-36e677b8d85c"
      },
      "source": [
        "#FrozenSets\n",
        "#The frozen sets are the immutable form of the normal sets\n",
        "F = frozenset([1,2,3,4,5])     \n",
        "print(type(F))    \n",
        "print(\"\\nThe content of frozen set:\")    \n",
        "for i in F:    \n",
        "    print(i);    \n",
        "# Frozenset.add(6)"
      ],
      "execution_count": 15,
      "outputs": [
        {
          "output_type": "stream",
          "text": [
            "<class 'frozenset'>\n",
            "\n",
            "The content of frozen set:\n",
            "1\n",
            "2\n",
            "3\n",
            "4\n",
            "5\n"
          ],
          "name": "stdout"
        }
      ]
    }
  ]
}