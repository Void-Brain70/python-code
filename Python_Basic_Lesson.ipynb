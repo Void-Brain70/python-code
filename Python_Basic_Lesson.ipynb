{
  "nbformat": 4,
  "nbformat_minor": 0,
  "metadata": {
    "colab": {
      "name": "Python_Basic_Lesson.ipynb",
      "provenance": [],
      "collapsed_sections": [],
      "authorship_tag": "ABX9TyNae4/YdbXlfdhGiuYKhBVb",
      "include_colab_link": true
    },
    "kernelspec": {
      "name": "python3",
      "display_name": "Python 3"
    },
    "language_info": {
      "name": "python"
    }
  },
  "cells": [
    {
      "cell_type": "markdown",
      "metadata": {
        "id": "view-in-github",
        "colab_type": "text"
      },
      "source": [
        "<a href=\"https://colab.research.google.com/github/Void-Brain70/Python/blob/master/Python_Basic_Lesson.ipynb\" target=\"_parent\"><img src=\"https://colab.research.google.com/assets/colab-badge.svg\" alt=\"Open In Colab\"/></a>"
      ]
    },
    {
      "cell_type": "markdown",
      "metadata": {
        "id": "u8vk6U1Fgyg4"
      },
      "source": [
        "Numbers"
      ]
    },
    {
      "cell_type": "code",
      "metadata": {
        "id": "kzes5od6gq9q"
      },
      "source": [
        "2 + 2"
      ],
      "execution_count": null,
      "outputs": []
    },
    {
      "cell_type": "code",
      "metadata": {
        "id": "TdOC9Q4Ig0ft"
      },
      "source": [
        "50 - 5*6"
      ],
      "execution_count": null,
      "outputs": []
    },
    {
      "cell_type": "code",
      "metadata": {
        "id": "PNUOMt77g5x-"
      },
      "source": [
        "(50-5*6)/4"
      ],
      "execution_count": null,
      "outputs": []
    },
    {
      "cell_type": "code",
      "metadata": {
        "id": "5x7Qlcnag7eF"
      },
      "source": [
        "8/5 #division always returns a floating point number,\n",
        "#classic division returns a float"
      ],
      "execution_count": null,
      "outputs": []
    },
    {
      "cell_type": "code",
      "metadata": {
        "id": "Wbwjpz2fg9a9"
      },
      "source": [
        "17 // 3  # floor division discards the fractional part"
      ],
      "execution_count": null,
      "outputs": []
    },
    {
      "cell_type": "code",
      "metadata": {
        "id": "--2Xe86ng_zu"
      },
      "source": [
        "17 % 3  # the % operator returns the remainder of the division"
      ],
      "execution_count": null,
      "outputs": []
    },
    {
      "cell_type": "code",
      "metadata": {
        "id": "r76ZB6_ChCFu"
      },
      "source": [
        "5 * 3 + 2  # floored quotient * divisor + remainder"
      ],
      "execution_count": null,
      "outputs": []
    },
    {
      "cell_type": "markdown",
      "metadata": {
        "id": "ULEXc8SvhGwX"
      },
      "source": [
        "Variables"
      ]
    },
    {
      "cell_type": "code",
      "metadata": {
        "id": "bOKMg9cZhI6G"
      },
      "source": [
        "width = 20  #  width variable contains 20"
      ],
      "execution_count": null,
      "outputs": []
    },
    {
      "cell_type": "code",
      "metadata": {
        "id": "NWcvw_zShV5O"
      },
      "source": [
        "height = 5 * 9"
      ],
      "execution_count": null,
      "outputs": []
    },
    {
      "cell_type": "code",
      "metadata": {
        "id": "CBeApOgxnJ8X"
      },
      "source": [
        "width * height   #obtain reusability of height expression"
      ],
      "execution_count": null,
      "outputs": []
    },
    {
      "cell_type": "code",
      "metadata": {
        "id": "e6XcWqp9nvWe"
      },
      "source": [
        "width = 30 #casecade previous value 20"
      ],
      "execution_count": null,
      "outputs": []
    },
    {
      "cell_type": "code",
      "metadata": {
        "id": "aEcDpbson3GW"
      },
      "source": [
        "n  # try to access an undefined variable"
      ],
      "execution_count": null,
      "outputs": []
    },
    {
      "cell_type": "code",
      "metadata": {
        "id": "HObDExINn5oX"
      },
      "source": [
        "multiple_word_variable = None  # underscore separated multiple word variable"
      ],
      "execution_count": null,
      "outputs": []
    },
    {
      "cell_type": "markdown",
      "metadata": {
        "id": "cfvp2glhoDpn"
      },
      "source": [
        "Numbers and variables"
      ]
    },
    {
      "cell_type": "code",
      "metadata": {
        "id": "PbT4-XOsoJbu"
      },
      "source": [
        "#Python Numbers: int, float, complex,randorm\n",
        "\n",
        "#Integers:\n",
        "x = 70\n",
        "print(type(x))\n",
        "print(x)\n",
        "\n",
        "#Floats:\n",
        "x = -70.07\n",
        "print(type(x))\n",
        "print(x)\n",
        "\n",
        "#Complex:\n",
        "x = 3+5j\n",
        "print(type(x))\n",
        "print(x)\n",
        "\n",
        "#Random Number\n",
        "import random\n",
        "print(random.randrange(1,100))"
      ],
      "execution_count": null,
      "outputs": []
    },
    {
      "cell_type": "code",
      "metadata": {
        "id": "3FRzoe3MpD0G"
      },
      "source": [
        "#Convert from one type to another:\n",
        "\n",
        "x = 70    # int\n",
        "y = 70.8  # float\n",
        "z = 1j   # complex\n",
        "\n",
        "#convert from int to float:\n",
        "a = float(x)\n",
        "\n",
        "#convert from float to int:\n",
        "b = int(y)\n",
        "\n",
        "#convert from int to complex:\n",
        "c = complex(x)\n",
        "\n",
        "print(a)\n",
        "print(b)\n",
        "print(c)\n",
        "\n",
        "print(type(a))\n",
        "print(type(b))\n",
        "print(type(c))"
      ],
      "execution_count": null,
      "outputs": []
    },
    {
      "cell_type": "code",
      "metadata": {
        "id": "owAG_7mFp9Z_"
      },
      "source": [
        "s1=\"Anik\"\n",
        "s2=\"UAP\"\n",
        "s3= 70\n",
        "print(\"Info->\",s1,s2,s3)\n",
        "\n",
        "#Type casting\n",
        "x = str(70)\n",
        "y = int(3.50)\n",
        "z = float(4)\n",
        "\n",
        "print(x)\n",
        "print(y)\n",
        "print(z)\n",
        "\n",
        "print(type(x))\n",
        "print(type(y))\n",
        "print(type(z))"
      ],
      "execution_count": null,
      "outputs": []
    },
    {
      "cell_type": "markdown",
      "metadata": {
        "id": "1KjRuBuIql0o"
      },
      "source": [
        "String"
      ]
    },
    {
      "cell_type": "code",
      "metadata": {
        "id": "CubEW_gsri0H"
      },
      "source": [
        "#declared a string\n",
        "a = \"Python\"\n",
        "print(a)"
      ],
      "execution_count": null,
      "outputs": []
    },
    {
      "cell_type": "code",
      "metadata": {
        "id": "v9A6kI7Arqf4"
      },
      "source": [
        "#Array of String\n",
        "a = \"Python\"\n",
        "print(a[5])"
      ],
      "execution_count": null,
      "outputs": []
    },
    {
      "cell_type": "code",
      "metadata": {
        "id": "F8L7MGkfrsa2"
      },
      "source": [
        "for i in 'Python':\n",
        "  print(i)"
      ],
      "execution_count": null,
      "outputs": []
    },
    {
      "cell_type": "code",
      "metadata": {
        "id": "mmd0OrmWrwDO"
      },
      "source": [
        "#Length of String\n",
        "a = \"Python\"\n",
        "print(len(a))"
      ],
      "execution_count": null,
      "outputs": []
    },
    {
      "cell_type": "code",
      "metadata": {
        "id": "ckRNvgXLrx1u"
      },
      "source": [
        "#Check String\n",
        "a = 'Welcome to Python programming language..!'\n",
        "c = \"Python\" in a;\n",
        "print(c)"
      ],
      "execution_count": null,
      "outputs": []
    },
    {
      "cell_type": "code",
      "metadata": {
        "id": "LCAEFvPbr11u"
      },
      "source": [
        "#Check String\n",
        "a = 'Welcome to Python programming language..!'\n",
        "if \"Python\" in a:\n",
        "  print(\"YES\")\n",
        "else:\n",
        "  print(\"NO\")"
      ],
      "execution_count": null,
      "outputs": []
    },
    {
      "cell_type": "code",
      "metadata": {
        "id": "bS65OefHr4K4"
      },
      "source": [
        "#Check if NOT\n",
        "a = 'Welcome to Python programming language..!'\n",
        "c = \"JavaScript\" not in a;\n",
        "print(c)"
      ],
      "execution_count": null,
      "outputs": []
    },
    {
      "cell_type": "code",
      "metadata": {
        "id": "uXtGm9KXsBK-"
      },
      "source": [
        "#Check String\n",
        "a = 'Welcome to Python programming language..!'\n",
        "if \"Python\" not in a:\n",
        "  print(\"YES\")\n",
        "else:\n",
        "  print(\"NO\")"
      ],
      "execution_count": null,
      "outputs": []
    },
    {
      "cell_type": "code",
      "metadata": {
        "id": "wW07un1vsDjv"
      },
      "source": [
        "#String slicing with indexing\n",
        "s = \"ice cream\"\n",
        "s[0]\n",
        "s[0:3] #s[:3]\n",
        "s[4:9] #s[4:]\n",
        "\n",
        "b = \"Python\"\n",
        "print(b[-5:-2])"
      ],
      "execution_count": null,
      "outputs": []
    },
    {
      "cell_type": "code",
      "metadata": {
        "id": "Mzw-jmE3sPhe"
      },
      "source": [
        "#Method of string\n",
        "a = \"Python\"\n",
        "print(a.upper())\n",
        "\n",
        "a = \"PYTHON\"\n",
        "print(a.lower())\n",
        "\n",
        "#Remove Whitespace\n",
        "\n",
        "a = \"Python is a popular language!  \"\n",
        "print(a.strip())\n",
        "\n",
        "a  = \"Anik Das\"\n",
        "print(a.replace('D','d'))\n",
        "\n",
        "\n",
        "#String Concatenation\n",
        "\n",
        "a = \"UAP\"\n",
        "b = \"CSE\"\n",
        "\n",
        "c= a+ \" \" +b\n",
        "print(c)"
      ],
      "execution_count": null,
      "outputs": []
    },
    {
      "cell_type": "code",
      "metadata": {
        "id": "2sefPbwfshI3"
      },
      "source": [
        "#Format - Strings\n",
        "id = 70\n",
        "msg = \"My id is-> {}\"\n",
        "print(msg.format(id))\n",
        "\n",
        "quantity = 3\n",
        "itemno = 567\n",
        "price = 49.95\n",
        "myorder = \"I want {} pieces of item {} for {} dollars.\"\n",
        "print(myorder.format(quantity, itemno, price))\n"
      ],
      "execution_count": null,
      "outputs": []
    },
    {
      "cell_type": "code",
      "metadata": {
        "id": "VBppbCiwskKO"
      },
      "source": [
        "quantity = 3\n",
        "itemno = 567\n",
        "price = 49.95\n",
        "myorder = \"I want to pay {2} dollars for {0} pieces of item {1}.\"\n",
        "print(myorder.format(quantity, itemno, price))"
      ],
      "execution_count": null,
      "outputs": []
    },
    {
      "cell_type": "code",
      "metadata": {
        "id": "8OWdpFDmqnTf"
      },
      "source": [
        "'spam eggs'  # single quotes"
      ],
      "execution_count": null,
      "outputs": []
    }
  ]
}