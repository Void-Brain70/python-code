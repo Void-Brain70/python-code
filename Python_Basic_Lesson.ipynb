{
  "nbformat": 4,
  "nbformat_minor": 0,
  "metadata": {
    "colab": {
      "name": "Python_Basic_Lesson.ipynb",
      "provenance": [],
      "collapsed_sections": [],
      "authorship_tag": "ABX9TyMyv65nqU5lmzJYwfqe+TK7",
      "include_colab_link": true
    },
    "kernelspec": {
      "name": "python3",
      "display_name": "Python 3"
    },
    "language_info": {
      "name": "python"
    }
  },
  "cells": [
    {
      "cell_type": "markdown",
      "metadata": {
        "id": "view-in-github",
        "colab_type": "text"
      },
      "source": [
        "<a href=\"https://colab.research.google.com/github/Void-Brain70/Python/blob/master/Python_Basic_Lesson.ipynb\" target=\"_parent\"><img src=\"https://colab.research.google.com/assets/colab-badge.svg\" alt=\"Open In Colab\"/></a>"
      ]
    },
    {
      "cell_type": "markdown",
      "metadata": {
        "id": "u8vk6U1Fgyg4"
      },
      "source": [
        "Numbers"
      ]
    },
    {
      "cell_type": "code",
      "metadata": {
        "id": "kzes5od6gq9q"
      },
      "source": [
        "2 + 2"
      ],
      "execution_count": null,
      "outputs": []
    },
    {
      "cell_type": "code",
      "metadata": {
        "id": "TdOC9Q4Ig0ft"
      },
      "source": [
        "50 - 5*6"
      ],
      "execution_count": null,
      "outputs": []
    },
    {
      "cell_type": "code",
      "metadata": {
        "id": "PNUOMt77g5x-"
      },
      "source": [
        "(50-5*6)/4"
      ],
      "execution_count": null,
      "outputs": []
    },
    {
      "cell_type": "code",
      "metadata": {
        "id": "5x7Qlcnag7eF"
      },
      "source": [
        "8/5 #division always returns a floating point number,\n",
        "#classic division returns a float"
      ],
      "execution_count": null,
      "outputs": []
    },
    {
      "cell_type": "code",
      "metadata": {
        "id": "Wbwjpz2fg9a9"
      },
      "source": [
        "17 // 3  # floor division discards the fractional part"
      ],
      "execution_count": null,
      "outputs": []
    },
    {
      "cell_type": "code",
      "metadata": {
        "id": "--2Xe86ng_zu"
      },
      "source": [
        "17 % 3  # the % operator returns the remainder of the division"
      ],
      "execution_count": null,
      "outputs": []
    },
    {
      "cell_type": "code",
      "metadata": {
        "id": "r76ZB6_ChCFu"
      },
      "source": [
        "5 * 3 + 2  # floored quotient * divisor + remainder"
      ],
      "execution_count": null,
      "outputs": []
    },
    {
      "cell_type": "markdown",
      "metadata": {
        "id": "ULEXc8SvhGwX"
      },
      "source": [
        "Variables"
      ]
    },
    {
      "cell_type": "code",
      "metadata": {
        "id": "bOKMg9cZhI6G"
      },
      "source": [
        "width = 20  #  width variable contains 20"
      ],
      "execution_count": null,
      "outputs": []
    },
    {
      "cell_type": "code",
      "metadata": {
        "id": "NWcvw_zShV5O"
      },
      "source": [
        "height = 5 * 9"
      ],
      "execution_count": null,
      "outputs": []
    },
    {
      "cell_type": "code",
      "metadata": {
        "id": "CBeApOgxnJ8X"
      },
      "source": [
        "width * height   #obtain reusability of height expression"
      ],
      "execution_count": null,
      "outputs": []
    },
    {
      "cell_type": "code",
      "metadata": {
        "id": "e6XcWqp9nvWe"
      },
      "source": [
        "width = 30 #casecade previous value 20"
      ],
      "execution_count": null,
      "outputs": []
    },
    {
      "cell_type": "code",
      "metadata": {
        "id": "aEcDpbson3GW"
      },
      "source": [
        "n  # try to access an undefined variable"
      ],
      "execution_count": null,
      "outputs": []
    },
    {
      "cell_type": "code",
      "metadata": {
        "id": "HObDExINn5oX"
      },
      "source": [
        "multiple_word_variable = None  # underscore separated multiple word variable"
      ],
      "execution_count": null,
      "outputs": []
    },
    {
      "cell_type": "markdown",
      "metadata": {
        "id": "cfvp2glhoDpn"
      },
      "source": [
        "Numbers and variables"
      ]
    },
    {
      "cell_type": "code",
      "metadata": {
        "id": "PbT4-XOsoJbu"
      },
      "source": [
        "#Python Numbers: int, float, complex,randorm\n",
        "\n",
        "#Integers:\n",
        "x = 70\n",
        "print(type(x))\n",
        "print(x)\n",
        "\n",
        "#Floats:\n",
        "x = -70.07\n",
        "print(type(x))\n",
        "print(x)\n",
        "\n",
        "#Complex:\n",
        "x = 3+5j\n",
        "print(type(x))\n",
        "print(x)\n",
        "\n",
        "#Random Number\n",
        "import random\n",
        "print(random.randrange(1,100))"
      ],
      "execution_count": null,
      "outputs": []
    },
    {
      "cell_type": "code",
      "metadata": {
        "id": "3FRzoe3MpD0G"
      },
      "source": [
        "#Convert from one type to another:\n",
        "\n",
        "x = 70    # int\n",
        "y = 70.8  # float\n",
        "z = 1j   # complex\n",
        "\n",
        "#convert from int to float:\n",
        "a = float(x)\n",
        "\n",
        "#convert from float to int:\n",
        "b = int(y)\n",
        "\n",
        "#convert from int to complex:\n",
        "c = complex(x)\n",
        "\n",
        "print(a)\n",
        "print(b)\n",
        "print(c)\n",
        "\n",
        "print(type(a))\n",
        "print(type(b))\n",
        "print(type(c))"
      ],
      "execution_count": null,
      "outputs": []
    },
    {
      "cell_type": "code",
      "metadata": {
        "id": "owAG_7mFp9Z_"
      },
      "source": [
        "s1=\"Anik\"\n",
        "s2=\"UAP\"\n",
        "s3= 70\n",
        "print(\"Info->\",s1,s2,s3)\n",
        "\n",
        "#Type casting\n",
        "x = str(70)\n",
        "y = int(3.50)\n",
        "z = float(4)\n",
        "\n",
        "print(x)\n",
        "print(y)\n",
        "print(z)\n",
        "\n",
        "print(type(x))\n",
        "print(type(y))\n",
        "print(type(z))"
      ],
      "execution_count": null,
      "outputs": []
    },
    {
      "cell_type": "markdown",
      "metadata": {
        "id": "1KjRuBuIql0o"
      },
      "source": [
        "String"
      ]
    },
    {
      "cell_type": "code",
      "metadata": {
        "id": "CubEW_gsri0H"
      },
      "source": [
        "#declared a string\n",
        "a = \"Python\"\n",
        "print(a)"
      ],
      "execution_count": null,
      "outputs": []
    },
    {
      "cell_type": "code",
      "metadata": {
        "id": "v9A6kI7Arqf4"
      },
      "source": [
        "#Array of String\n",
        "a = \"Python\"\n",
        "print(a[5])"
      ],
      "execution_count": null,
      "outputs": []
    },
    {
      "cell_type": "code",
      "metadata": {
        "id": "F8L7MGkfrsa2"
      },
      "source": [
        "for i in 'Python':\n",
        "  print(i)"
      ],
      "execution_count": null,
      "outputs": []
    },
    {
      "cell_type": "code",
      "metadata": {
        "id": "mmd0OrmWrwDO"
      },
      "source": [
        "#Length of String\n",
        "a = \"Python\"\n",
        "print(len(a))"
      ],
      "execution_count": null,
      "outputs": []
    },
    {
      "cell_type": "code",
      "metadata": {
        "id": "ckRNvgXLrx1u"
      },
      "source": [
        "#Check String\n",
        "a = 'Welcome to Python programming language..!'\n",
        "c = \"Python\" in a;\n",
        "print(c)"
      ],
      "execution_count": null,
      "outputs": []
    },
    {
      "cell_type": "code",
      "metadata": {
        "id": "LCAEFvPbr11u"
      },
      "source": [
        "#Check String\n",
        "a = 'Welcome to Python programming language..!'\n",
        "if \"Python\" in a:\n",
        "  print(\"YES\")\n",
        "else:\n",
        "  print(\"NO\")"
      ],
      "execution_count": null,
      "outputs": []
    },
    {
      "cell_type": "code",
      "metadata": {
        "id": "bS65OefHr4K4"
      },
      "source": [
        "#Check if NOT\n",
        "a = 'Welcome to Python programming language..!'\n",
        "c = \"JavaScript\" not in a;\n",
        "print(c)"
      ],
      "execution_count": null,
      "outputs": []
    },
    {
      "cell_type": "code",
      "metadata": {
        "id": "uXtGm9KXsBK-"
      },
      "source": [
        "#Check String\n",
        "a = 'Welcome to Python programming language..!'\n",
        "if \"Python\" not in a:\n",
        "  print(\"YES\")\n",
        "else:\n",
        "  print(\"NO\")"
      ],
      "execution_count": null,
      "outputs": []
    },
    {
      "cell_type": "code",
      "metadata": {
        "id": "wW07un1vsDjv"
      },
      "source": [
        "#String slicing with indexing\n",
        "\n",
        "'''\n",
        "...  +---+---+---+---+---+---+\n",
        "...  | P | y | t | h | o | n |\n",
        "...  +---+---+---+---+---+---+\n",
        "...  0   1   2   3   4   5   6\n",
        "... -7  -6  -5  -4  -3  -2  -1\n",
        "'''\n",
        "v = 'Hello World'\n",
        "v[0:5]  #  divide the string from index 0 to 4\n",
        "v[0::2]  #  extract all the odd character\n",
        "v[-1::-1]  #  reverse the string\n",
        "\n",
        "\n",
        "s = \"ice cream\"\n",
        "s[0]\n",
        "s[0:3] #s[:3]\n",
        "s[4:9] #s[4:]\n",
        "\n",
        "b = \"Python\"\n",
        "print(b[-5:-2])"
      ],
      "execution_count": null,
      "outputs": []
    },
    {
      "cell_type": "code",
      "metadata": {
        "id": "Mzw-jmE3sPhe"
      },
      "source": [
        "#Method of string\n",
        "a = \"Python\"\n",
        "print(a.upper())\n",
        "\n",
        "a = \"PYTHON\"\n",
        "print(a.lower())\n",
        "\n",
        "#Remove Whitespace\n",
        "\n",
        "a = \"Python is a popular language!  \"\n",
        "print(a.strip())\n",
        "\n",
        "a  = \"Anik Das\"\n",
        "print(a.replace('D','d'))\n",
        "\n",
        "\n",
        "#String Concatenation\n",
        "\n",
        "a = \"UAP\"\n",
        "b = \"CSE\"\n",
        "\n",
        "c= a+ \" \" +b\n",
        "print(c)"
      ],
      "execution_count": null,
      "outputs": []
    },
    {
      "cell_type": "code",
      "metadata": {
        "id": "2sefPbwfshI3"
      },
      "source": [
        "#Format - Strings\n",
        "id = 70\n",
        "msg = \"My id is-> {}\"\n",
        "print(msg.format(id))\n",
        "\n",
        "quantity = 3\n",
        "itemno = 567\n",
        "price = 49.95\n",
        "myorder = \"I want {} pieces of item {} for {} dollars.\"\n",
        "print(myorder.format(quantity, itemno, price))\n"
      ],
      "execution_count": null,
      "outputs": []
    },
    {
      "cell_type": "code",
      "metadata": {
        "id": "VBppbCiwskKO"
      },
      "source": [
        "quantity = 3\n",
        "itemno = 567\n",
        "price = 49.95\n",
        "myorder = \"I want to pay {2} dollars for {0} pieces of item {1}.\"\n",
        "print(myorder.format(quantity, itemno, price))"
      ],
      "execution_count": null,
      "outputs": []
    },
    {
      "cell_type": "markdown",
      "metadata": {
        "id": "BhBRNM1EtCeW"
      },
      "source": [
        "Some String Methodology"
      ]
    },
    {
      "cell_type": "code",
      "metadata": {
        "id": "8OWdpFDmqnTf"
      },
      "source": [
        "'spam eggs'  # single quotes"
      ],
      "execution_count": null,
      "outputs": []
    },
    {
      "cell_type": "code",
      "metadata": {
        "id": "xxeBMQOVtBc3"
      },
      "source": [
        "'doesn\\'t'  # use \\' to escape the single quote..."
      ],
      "execution_count": null,
      "outputs": []
    },
    {
      "cell_type": "code",
      "metadata": {
        "id": "_aDesg8RtI6-"
      },
      "source": [
        "\"doesn't\"  # ...or use double quotes instead"
      ],
      "execution_count": null,
      "outputs": []
    },
    {
      "cell_type": "code",
      "metadata": {
        "id": "IiyGqBdat_O_"
      },
      "source": [
        "s = 'First line.\\nSecond line.'  # \\n means newline\n",
        "s  # without print(), \\n is included in the output"
      ],
      "execution_count": null,
      "outputs": []
    },
    {
      "cell_type": "code",
      "metadata": {
        "id": "PcSc-sGet8Zw"
      },
      "source": [
        "s = 'First line.\\nSecond line.'  # \\n means newline\n",
        "print(s)  # with print(), \\n produces a new line"
      ],
      "execution_count": null,
      "outputs": []
    },
    {
      "cell_type": "code",
      "metadata": {
        "id": "0Dau7G1SuI8P"
      },
      "source": [
        "random_text = '''Multiline text\n",
        "... Another line. Don’t need escape quote'''\n",
        "print(random_text)"
      ],
      "execution_count": null,
      "outputs": []
    },
    {
      "cell_type": "code",
      "metadata": {
        "id": "pvFPArsXv-9a"
      },
      "source": [
        "s = 'First line.\\nSecond line.'\n",
        "r = s + '\\nThird line'\n",
        "print(r)\n",
        "s[0]\n",
        "\n",
        "s[0] = 'f'  # Can we do this.\n",
        "\n",
        " s[-1]  #  Last char of s string"
      ],
      "execution_count": null,
      "outputs": []
    },
    {
      "cell_type": "code",
      "metadata": {
        "id": "DTmc_IMOv_mp"
      },
      "source": [
        "dir(str)"
      ],
      "execution_count": null,
      "outputs": []
    },
    {
      "cell_type": "code",
      "metadata": {
        "id": "4oyMoBQ9xfdQ"
      },
      "source": [
        "help(str.join)"
      ],
      "execution_count": null,
      "outputs": []
    },
    {
      "cell_type": "markdown",
      "metadata": {
        "id": "earQOEnrx1z4"
      },
      "source": [
        "List"
      ]
    },
    {
      "cell_type": "code",
      "metadata": {
        "id": "IVAzlLfKx3Ds"
      },
      "source": [
        "#create a list\n",
        "squares = [1, 4, 9, 16, 25]\n",
        "squares"
      ],
      "execution_count": null,
      "outputs": []
    },
    {
      "cell_type": "code",
      "metadata": {
        "id": "hsxCfKAByXsa"
      },
      "source": [
        "#concanate a list\n",
        "squares + [36, 49, 64, 81, 100]\n",
        "\n",
        "food = ['bread','pasta','fruits']\n",
        "car = ['BMW','AUDI','VOLVO']\n",
        "l = food+car\n",
        "print(l)"
      ],
      "execution_count": 2,
      "outputs": []
    },
    {
      "cell_type": "code",
      "metadata": {
        "id": "sgkqg_I_y7bw"
      },
      "source": [
        "#We can modify list element\n",
        "cubes = [1, 8, 27, 65, 125]  # something's wrong here\n",
        "#4 ** 3  # the cube of 4 is 64, not 65!\n",
        "# 64\n",
        "cubes[3] = 64  # replace the wrong value\n",
        "cubes"
      ],
      "execution_count": null,
      "outputs": []
    },
    {
      "cell_type": "code",
      "metadata": {
        "id": "jLp5wa1ozKhT"
      },
      "source": [
        "x = [['a', 'b', 'c'], [1, 2, 3]]  #  nested list\n",
        "x[0]\n",
        "x[0][1]\n",
        "x[1][3]"
      ],
      "execution_count": null,
      "outputs": []
    },
    {
      "cell_type": "code",
      "metadata": {
        "id": "qLGQIEib1h2Y"
      },
      "source": [
        "#Access List Items 0 to 5\n",
        "l = [\"CSE\",\"EEE\",\"ME\",\"TE\",\"IPE\",\"BBA\"]\n",
        "print(l[1])\n",
        "print(l[-1]) #Negative Indexing\n",
        "print(l[2:5]) #Range of Indexes\n",
        "print(l[2:])\n",
        "print(l[:4])\n",
        "print(l[-3:-2])"
      ],
      "execution_count": null,
      "outputs": []
    },
    {
      "cell_type": "code",
      "metadata": {
        "id": "DCYDc7TT1r5Y"
      },
      "source": [
        "#Change List Items\n",
        "l = [\"CSE\",\"EEE\",\"ME\",\"TE\",\"IPE\",\"BBA\"]\n",
        "l[3]=\"Pharmacy\"\n",
        "print(l)\n",
        "\n",
        "l.insert(4,\"TE\")\n",
        "print(l)\n",
        "\n",
        "l.append(\"LAW\")\n",
        "print(l)"
      ],
      "execution_count": null,
      "outputs": []
    },
    {
      "cell_type": "code",
      "metadata": {
        "id": "i9y168bZ1wcA"
      },
      "source": [
        "#Remove List Items\n",
        "l = [\"UAP\",\"DIU\",\"AIUB\",\"UIU\",\"NSU\",\"IUB\"]\n",
        "l.remove(\"UAP\")\n",
        "print(l)\n",
        "\n",
        "l1 = [\"UAP\",\"DIU\",\"AIUB\",\"UIU\",\"NSU\",\"IUB\"]\n",
        "l1.pop() #pop() Remove the last item\n",
        "print(l1)\n",
        "\n",
        "l2 = [\"UAP\",\"DIU\",\"AIUB\",\"UIU\",\"NSU\",\"IUB\"]\n",
        "del l2[0] #del() Remove the first item\n",
        "print(l2)\n",
        "\n",
        "l3 = [\"UAP\",\"DIU\",\"AIUB\",\"UIU\",\"NSU\",\"IUB\"]\n",
        "l3.clear()\n",
        "print(l3)"
      ],
      "execution_count": null,
      "outputs": []
    },
    {
      "cell_type": "code",
      "metadata": {
        "id": "0H5oQ0gJ12vQ"
      },
      "source": [
        "#Loop Lists\n",
        "l = [\"CSE\",\"EEE\",\"ME\",\"TE\",\"IPE\",\"BBA\"]\n",
        "for i in l:\n",
        "  print(i)\n",
        "\n",
        "l1 = [\"CSE\",\"EEE\",\"ME\",\"TE\",\"IPE\",\"BBA\"]\n",
        "for i in range(len(l1)):\n",
        "  print(l[i])"
      ],
      "execution_count": null,
      "outputs": []
    },
    {
      "cell_type": "code",
      "metadata": {
        "id": "_kShCROC0I64"
      },
      "source": [
        "#  list comprehensions\n",
        "l = [\"CSE\",\"EEE\",\"ME\",\"TE\",\"IPE\",\"BBA\"]\n",
        "new = []\n",
        "\n",
        "for i in l:\n",
        "  if 'E' in i:\n",
        "    new.append(i)\n",
        "\n",
        "print(new)\n",
        "\n",
        "squares = []\n",
        "squares = [x**2 for x in range(10)]\n",
        "squares\n",
        "\n",
        "#  nested list comprehensions\n",
        "matrix = [\n",
        "         [1, 2, 3, 4],\n",
        "         [5, 6, 7, 8],\n",
        "         [9, 10, 11, 12],\n",
        "         ]\n",
        "[[row[i] for row in matrix] for i in range(4)]"
      ],
      "execution_count": null,
      "outputs": []
    },
    {
      "cell_type": "code",
      "metadata": {
        "id": "XC1JpvVy2I3w"
      },
      "source": [
        "#Sort Lists\n",
        "l = [\"CSE\",\"EEE\",\"ME\",\"TE\",\"IPE\",\"BBA\"]\n",
        "l.sort()\n",
        "print(l)\n",
        "\n",
        "l1 = [100, 50, 65, 82, 23]\n",
        "l1.sort()\n",
        "print(l1)\n",
        "\n",
        "l2 = [100, 50, 65, 82, 23]\n",
        "l2.sort(reverse = True)\n",
        "print(l2)\n",
        "\n",
        "l3 = [\"CSE\",\"EEE\",\"ME\",\"TE\",\"IPE\",\"BBA\"]\n",
        "l3.reverse()\n",
        "print(l3)"
      ],
      "execution_count": null,
      "outputs": []
    },
    {
      "cell_type": "code",
      "metadata": {
        "id": "60RW2qWn1RwA"
      },
      "source": [
        "#List zip() method\n",
        "istOne = [1,2,3]\n",
        "listTwo = [4,5,6]\n",
        "listThree = zip(listOne,listTwo)\n",
        "listThree\n",
        "# <zip object at 0x7fcdb6964040>\n",
        "listThree = list(listThree)\n",
        "listThree"
      ],
      "execution_count": null,
      "outputs": []
    }
  ]
}