{
  "nbformat": 4,
  "nbformat_minor": 0,
  "metadata": {
    "colab": {
      "name": "Tuples.ipynb",
      "provenance": [],
      "collapsed_sections": [],
      "authorship_tag": "ABX9TyOLT1Yo1vBnJNvvrS5g560p",
      "include_colab_link": true
    },
    "kernelspec": {
      "name": "python3",
      "display_name": "Python 3"
    },
    "language_info": {
      "name": "python"
    }
  },
  "cells": [
    {
      "cell_type": "markdown",
      "metadata": {
        "id": "view-in-github",
        "colab_type": "text"
      },
      "source": [
        "<a href=\"https://colab.research.google.com/github/Void-Brain70/Python/blob/master/Tuples.ipynb\" target=\"_parent\"><img src=\"https://colab.research.google.com/assets/colab-badge.svg\" alt=\"Open In Colab\"/></a>"
      ]
    },
    {
      "cell_type": "markdown",
      "metadata": {
        "id": "5qerGS7rE9Pw"
      },
      "source": [
        "Tuples are used to store multiple items in a single variable."
      ]
    },
    {
      "cell_type": "markdown",
      "metadata": {
        "id": "c3_eBiw2FBdc"
      },
      "source": [
        "A tuple is a collection which is ordered and unchangeable."
      ]
    },
    {
      "cell_type": "code",
      "metadata": {
        "colab": {
          "base_uri": "https://localhost:8080/"
        },
        "id": "0WOlzHyEqnUi",
        "outputId": "325e6e13-3a19-4c0c-8ffe-eb09b1b1fea4"
      },
      "source": [
        "#Create a Tuple:\n",
        "t1=(\"CSE\",\"EEE\",\"ME\",\"IPE\",\"CE\",\"SWE\")\n",
        "t2=(\"CSE\",1,\"EEE\",2)\n",
        "t3=1,2,3,4,5\n",
        "print(\"Tuple->\",t1)\n",
        "print(\"Tuple->\",t2)\n",
        "print(\"Tuple->\",t3)"
      ],
      "execution_count": 1,
      "outputs": [
        {
          "output_type": "stream",
          "text": [
            "Tuple-> ('CSE', 'EEE', 'ME', 'IPE', 'CE', 'SWE')\n",
            "Tuple-> ('CSE', 1, 'EEE', 2)\n",
            "Tuple-> (1, 2, 3, 4, 5)\n"
          ],
          "name": "stdout"
        }
      ]
    },
    {
      "cell_type": "code",
      "metadata": {
        "colab": {
          "base_uri": "https://localhost:8080/"
        },
        "id": "uzGulSvMFjkM",
        "outputId": "77000b74-f903-4ca6-cc13-97432bfaa0c2"
      },
      "source": [
        "#One item tuple\n",
        "t1=(\"Anik\",)\n",
        "print(type(t1))\n",
        "\n",
        "#is not a tuple\n",
        "t=(\"Das\")\n",
        "print(type(t))"
      ],
      "execution_count": 2,
      "outputs": [
        {
          "output_type": "stream",
          "text": [
            "<class 'tuple'>\n",
            "<class 'str'>\n"
          ],
          "name": "stdout"
        }
      ]
    },
    {
      "cell_type": "code",
      "metadata": {
        "colab": {
          "base_uri": "https://localhost:8080/"
        },
        "id": "TyLbQPI8F7YU",
        "outputId": "346637f6-c398-438c-e323-1e4c34c28c15"
      },
      "source": [
        "#Tuple Indexing:\n",
        "t=(\"CSE\",\"EEE\",\"ME\",\"IPE\",\"CE\",\"SWE\")\n",
        "i = t[3]\n",
        "i = t[3:4]\n",
        "print(\"Index item->\",i)\n",
        "\n",
        "t1=(\"CSE\",\"EEE\",\"ME\",\"IPE\",\"CE\",\"SWE\")\n",
        "i=t1[-3]\n",
        "print(\"Negative index->\",i)"
      ],
      "execution_count": 6,
      "outputs": [
        {
          "output_type": "stream",
          "text": [
            "Index item-> ('IPE',)\n",
            "Negative index-> IPE\n"
          ],
          "name": "stdout"
        }
      ]
    },
    {
      "cell_type": "code",
      "metadata": {
        "colab": {
          "base_uri": "https://localhost:8080/"
        },
        "id": "rlpoHAAMGfsV",
        "outputId": "9c989b7b-d5b2-422a-f645-0941b185a349"
      },
      "source": [
        "#Tuple Range:\n",
        "t=(\"CSE\",\"EEE\",\"ME\",\"IPE\",\"CE\",\"SWE\")\n",
        "r=t[2:5]\n",
        "print(\"Range Item->\",r)"
      ],
      "execution_count": 7,
      "outputs": [
        {
          "output_type": "stream",
          "text": [
            "Range Item-> ('ME', 'IPE', 'CE')\n"
          ],
          "name": "stdout"
        }
      ]
    },
    {
      "cell_type": "code",
      "metadata": {
        "colab": {
          "base_uri": "https://localhost:8080/"
        },
        "id": "0ZeIhmQVGyT1",
        "outputId": "97b9a3bd-f144-4c1b-d721-55a19c643700"
      },
      "source": [
        "t=(1,2,3,4,5,6,7)\n",
        "# print(t[0:])\n",
        "#print(t[:])\n",
        "#print(t[2:4])\n",
        "#print(t[:4])\n",
        "#print(t[0:6:2])\n",
        "\n",
        "t=(\"CSE\",\"EEE\",\"ME\",\"IPE\",\"CE\",\"SWE\")\n",
        "r=t[-4:-1]\n",
        "print(\"Range Item Negative->\",r)"
      ],
      "execution_count": 17,
      "outputs": [
        {
          "output_type": "stream",
          "text": [
            "Range Item Negative-> ('ME', 'IPE', 'CE')\n"
          ],
          "name": "stdout"
        }
      ]
    },
    {
      "cell_type": "code",
      "metadata": {
        "colab": {
          "base_uri": "https://localhost:8080/"
        },
        "id": "Y9tWVbD0HwEX",
        "outputId": "9c7a1642-101b-404b-ccdd-1f79e981f8d0"
      },
      "source": [
        "#Tuple item change by list:\n",
        "t=(\"CSE\",\"EEE\",\"ME\",\"IPE\",\"CE\",\"SWE\")\n",
        "l=list(t)\n",
        "l[3]=\"TE\"\n",
        "t=tuple(l)\n",
        "print(\"Tuple is->\",t)"
      ],
      "execution_count": 18,
      "outputs": [
        {
          "output_type": "stream",
          "text": [
            "Tuple is-> ('CSE', 'EEE', 'ME', 'TE', 'CE', 'SWE')\n"
          ],
          "name": "stdout"
        }
      ]
    },
    {
      "cell_type": "code",
      "metadata": {
        "colab": {
          "base_uri": "https://localhost:8080/"
        },
        "id": "DAUQ7oBkH7c1",
        "outputId": "b06699cf-5875-4275-d9f9-3abaed65a540"
      },
      "source": [
        "#Tuple by loop:\n",
        "t=(\"CSE\",\"EEE\",\"ME\",\"IPE\",\"CE\",\"SWE\")\n",
        "for i in t:\n",
        "  print(i)"
      ],
      "execution_count": 19,
      "outputs": [
        {
          "output_type": "stream",
          "text": [
            "CSE\n",
            "EEE\n",
            "ME\n",
            "IPE\n",
            "CE\n",
            "SWE\n"
          ],
          "name": "stdout"
        }
      ]
    },
    {
      "cell_type": "code",
      "metadata": {
        "colab": {
          "base_uri": "https://localhost:8080/"
        },
        "id": "DcRcuBlhIGVN",
        "outputId": "e11f7717-0acf-4668-8ae8-c3cb7836713b"
      },
      "source": [
        "#Check any item in tuple:\n",
        "\n",
        "t=(\"CSE\",\"EEE\",\"ME\",\"IPE\",\"CE\",\"SWE\")\n",
        "if \"ME\" in t:\n",
        "  print(\"YES\")\n",
        "else:\n",
        "  print(\"NO\")  "
      ],
      "execution_count": 23,
      "outputs": [
        {
          "output_type": "stream",
          "text": [
            "YES\n"
          ],
          "name": "stdout"
        }
      ]
    },
    {
      "cell_type": "code",
      "metadata": {
        "colab": {
          "base_uri": "https://localhost:8080/"
        },
        "id": "cC3XJ172ItEG",
        "outputId": "878b4289-d238-4d0b-aaf4-69ca71c12f7a"
      },
      "source": [
        "#Tuple length item:\n",
        "t=(\"CSE\",\"EEE\",\"ME\",\"IPE\",\"CE\",\"SWE\")\n",
        "l=len(t)\n",
        "print(\"Tuple Length->\",l) "
      ],
      "execution_count": 24,
      "outputs": [
        {
          "output_type": "stream",
          "text": [
            "Tuple Length-> 6\n"
          ],
          "name": "stdout"
        }
      ]
    },
    {
      "cell_type": "code",
      "metadata": {
        "colab": {
          "base_uri": "https://localhost:8080/"
        },
        "id": "UPIYfAfSIyjI",
        "outputId": "f998f928-6d0a-4dbb-dabb-6d1f0faaf581"
      },
      "source": [
        "#Join two tuple:\n",
        "t1=(\"CSE\",\"EEE\",\"ME\")\n",
        "t2=(1,2,3)\n",
        "t=t1+t2\n",
        "print(\"Join tuple are->\",t)"
      ],
      "execution_count": 25,
      "outputs": [
        {
          "output_type": "stream",
          "text": [
            "Join tuple are-> ('CSE', 'EEE', 'ME', 1, 2, 3)\n"
          ],
          "name": "stdout"
        }
      ]
    },
    {
      "cell_type": "code",
      "metadata": {
        "colab": {
          "base_uri": "https://localhost:8080/"
        },
        "id": "nN_BwyODI66v",
        "outputId": "0ffc7130-a171-4947-de6d-608f23b50a81"
      },
      "source": [
        "#Tuple index accessing\n",
        "T=(1,2,3,4,5,6,7)\n",
        "print(\"Tuple->\",T)\n",
        "c=0\n",
        "for i in T:\n",
        " print(\"T[%d] = %d\"%(c,i))\n",
        " c=c+1"
      ],
      "execution_count": 26,
      "outputs": [
        {
          "output_type": "stream",
          "text": [
            "Tuple-> (1, 2, 3, 4, 5, 6, 7)\n",
            "T[0] = 1\n",
            "T[1] = 2\n",
            "T[2] = 3\n",
            "T[3] = 4\n",
            "T[4] = 5\n",
            "T[5] = 6\n",
            "T[6] = 7\n"
          ],
          "name": "stdout"
        }
      ]
    },
    {
      "cell_type": "code",
      "metadata": {
        "colab": {
          "base_uri": "https://localhost:8080/"
        },
        "id": "mOOYexXkJYI-",
        "outputId": "5e6a18a1-0e6b-4f46-b96f-88bd5cabf9a4"
      },
      "source": [
        "t=tuple(input(\"Enter the tuple element->\"))\n",
        "print(\"Tuple->\",t)\n",
        "c=0\n",
        "for i in t:\n",
        " print(\"t[%d] = %s\"%(c,i))\n",
        " c=c+1"
      ],
      "execution_count": 28,
      "outputs": [
        {
          "output_type": "stream",
          "text": [
            "Enter the tuple element->1,2,3,4,5\n",
            "Tuple-> ('1', ',', '2', ',', '3', ',', '4', ',', '5')\n",
            "t[0] = 1\n",
            "t[1] = ,\n",
            "t[2] = 2\n",
            "t[3] = ,\n",
            "t[4] = 3\n",
            "t[5] = ,\n",
            "t[6] = 4\n",
            "t[7] = ,\n",
            "t[8] = 5\n"
          ],
          "name": "stdout"
        }
      ]
    },
    {
      "cell_type": "code",
      "metadata": {
        "colab": {
          "base_uri": "https://localhost:8080/"
        },
        "id": "8KYsKWtCJttQ",
        "outputId": "6b1b5e1a-b936-4de8-ea41-561a3151e274"
      },
      "source": [
        "#Tuple count()  method:\n",
        "t=(1,2,3,4,5,6,7,7,6,4,3,2,2,2,2,2)\n",
        "c=t.count(2)\n",
        "print(\"total->\",c)"
      ],
      "execution_count": 29,
      "outputs": [
        {
          "output_type": "stream",
          "text": [
            "total-> 6\n"
          ],
          "name": "stdout"
        }
      ]
    },
    {
      "cell_type": "code",
      "metadata": {
        "colab": {
          "base_uri": "https://localhost:8080/"
        },
        "id": "t5cOeHC-J6En",
        "outputId": "771f30a1-25f4-419c-d0ed-6135a7f879e0"
      },
      "source": [
        "#Tuple in reversed:\n",
        "t = (1,2,3,4,5)\n",
        "r = t[::-1]\n",
        "print(\"Reversed tuple is->\",r)"
      ],
      "execution_count": 30,
      "outputs": [
        {
          "output_type": "stream",
          "text": [
            "Reversed tuple is-> (5, 4, 3, 2, 1)\n"
          ],
          "name": "stdout"
        }
      ]
    },
    {
      "cell_type": "code",
      "metadata": {
        "colab": {
          "base_uri": "https://localhost:8080/"
        },
        "id": "GlBCEXLnKKiW",
        "outputId": "086d314e-c972-4c28-f435-a83a2c4f413f"
      },
      "source": [
        "#Swap the following two tuples\n",
        "t1=(1,2,3,4)\n",
        "t2=(\"CSE\",\"EEE\",\"ME\",\"TE\")\n",
        "print(\"After Swaping\")\n",
        "print(t1)\n",
        "print(t2)\n",
        "\n",
        "t1,t2 = t2,t1\n",
        "print(\"Before Swaping\")\n",
        "print(t1)\n",
        "print(t2)"
      ],
      "execution_count": 31,
      "outputs": [
        {
          "output_type": "stream",
          "text": [
            "After Swaping\n",
            "(1, 2, 3, 4)\n",
            "('CSE', 'EEE', 'ME', 'TE')\n",
            "Before Swaping\n",
            "('CSE', 'EEE', 'ME', 'TE')\n",
            "(1, 2, 3, 4)\n"
          ],
          "name": "stdout"
        }
      ]
    },
    {
      "cell_type": "code",
      "metadata": {
        "id": "wO5JPpuIK9sg"
      },
      "source": [
        "# #Using cmp(), max() , min()\n",
        "# t1 = (1,2,3,4)\n",
        "# t2 = (1,2,3,4)\n",
        "# c=cmp(t1, t2)\n",
        "# print('not same',c)"
      ],
      "execution_count": 39,
      "outputs": []
    }
  ]
}