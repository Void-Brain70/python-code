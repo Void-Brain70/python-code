{
  "nbformat": 4,
  "nbformat_minor": 0,
  "metadata": {
    "colab": {
      "name": "String.ipynb",
      "provenance": [],
      "collapsed_sections": [],
      "authorship_tag": "ABX9TyMUfYQl4r6LsDJFwzc8Kj3Q",
      "include_colab_link": true
    },
    "kernelspec": {
      "name": "python3",
      "display_name": "Python 3"
    },
    "language_info": {
      "name": "python"
    }
  },
  "cells": [
    {
      "cell_type": "markdown",
      "metadata": {
        "id": "view-in-github",
        "colab_type": "text"
      },
      "source": [
        "<a href=\"https://colab.research.google.com/github/Void-Brain70/Python/blob/master/String.ipynb\" target=\"_parent\"><img src=\"https://colab.research.google.com/assets/colab-badge.svg\" alt=\"Open In Colab\"/></a>"
      ]
    },
    {
      "cell_type": "markdown",
      "metadata": {
        "id": "nzdPs6HYjjsm"
      },
      "source": [
        "Python String"
      ]
    },
    {
      "cell_type": "code",
      "metadata": {
        "colab": {
          "base_uri": "https://localhost:8080/"
        },
        "id": "0jrS6DYUjhTL",
        "outputId": "b5cff3f2-599b-4eaf-cf91-694186c90e06"
      },
      "source": [
        "a = \"Python\"\n",
        "print(a)"
      ],
      "execution_count": 1,
      "outputs": [
        {
          "output_type": "stream",
          "text": [
            "Python\n"
          ],
          "name": "stdout"
        }
      ]
    },
    {
      "cell_type": "code",
      "metadata": {
        "colab": {
          "base_uri": "https://localhost:8080/",
          "height": 52
        },
        "id": "Ya9edHigj6S0",
        "outputId": "e4f0e458-9665-4254-a0ca-36e99f6f98f2"
      },
      "source": [
        "#Array of String\n",
        "a = \"Python\"\n",
        "print(a[5])"
      ],
      "execution_count": 13,
      "outputs": [
        {
          "output_type": "stream",
          "text": [
            "n\n"
          ],
          "name": "stdout"
        },
        {
          "output_type": "execute_result",
          "data": {
            "application/vnd.google.colaboratory.intrinsic+json": {
              "type": "string"
            },
            "text/plain": [
              "'cream'"
            ]
          },
          "metadata": {
            "tags": []
          },
          "execution_count": 13
        }
      ]
    },
    {
      "cell_type": "code",
      "metadata": {
        "colab": {
          "base_uri": "https://localhost:8080/"
        },
        "id": "nX5Tc0uokf2F",
        "outputId": "f143c828-95ba-417f-cdbb-a7302c7be4f8"
      },
      "source": [
        "for i in 'Python':\n",
        "  print(i)"
      ],
      "execution_count": 4,
      "outputs": [
        {
          "output_type": "stream",
          "text": [
            "P\n",
            "y\n",
            "t\n",
            "h\n",
            "o\n",
            "n\n"
          ],
          "name": "stdout"
        }
      ]
    },
    {
      "cell_type": "code",
      "metadata": {
        "colab": {
          "base_uri": "https://localhost:8080/"
        },
        "id": "4ZEFUphFkomU",
        "outputId": "85624808-a7ab-45d0-d708-eeff539c55f0"
      },
      "source": [
        "#Length of String\n",
        "a = \"Python\"\n",
        "print(len(a))"
      ],
      "execution_count": 5,
      "outputs": [
        {
          "output_type": "stream",
          "text": [
            "6\n"
          ],
          "name": "stdout"
        }
      ]
    },
    {
      "cell_type": "code",
      "metadata": {
        "colab": {
          "base_uri": "https://localhost:8080/"
        },
        "id": "6tPllf6ik1qk",
        "outputId": "b03ed502-e49a-4c2e-8ff3-2fc1da51ed4a"
      },
      "source": [
        "#Check String\n",
        "a = 'Welcome to Python programming language..!'\n",
        "c = \"Python\" in a;\n",
        "print(c)"
      ],
      "execution_count": 7,
      "outputs": [
        {
          "output_type": "stream",
          "text": [
            "True\n"
          ],
          "name": "stdout"
        }
      ]
    },
    {
      "cell_type": "code",
      "metadata": {
        "colab": {
          "base_uri": "https://localhost:8080/"
        },
        "id": "xcYivcM9lr4E",
        "outputId": "10fb9ab1-2996-451b-dc2d-2761edaf7303"
      },
      "source": [
        "#Check String\n",
        "a = 'Welcome to Python programming language..!'\n",
        "if \"Python\" in a:\n",
        "  print(\"YES\")\n",
        "else:\n",
        "  print(\"NO\")"
      ],
      "execution_count": 8,
      "outputs": [
        {
          "output_type": "stream",
          "text": [
            "YES\n"
          ],
          "name": "stdout"
        }
      ]
    },
    {
      "cell_type": "code",
      "metadata": {
        "colab": {
          "base_uri": "https://localhost:8080/"
        },
        "id": "ZAF88SsZl88F",
        "outputId": "ed2f34c3-a6c2-43e7-999c-4352aa79332c"
      },
      "source": [
        "#Check if NOT\n",
        "a = 'Welcome to Python programming language..!'\n",
        "c = \"JavaScript\" not in a;\n",
        "print(c)"
      ],
      "execution_count": 9,
      "outputs": [
        {
          "output_type": "stream",
          "text": [
            "True\n"
          ],
          "name": "stdout"
        }
      ]
    },
    {
      "cell_type": "code",
      "metadata": {
        "colab": {
          "base_uri": "https://localhost:8080/"
        },
        "id": "NzlLijY3mHqW",
        "outputId": "23b332a3-4f2a-4417-a835-5aac4f61014d"
      },
      "source": [
        "#Check String\n",
        "a = 'Welcome to Python programming language..!'\n",
        "if \"Python\" not in a:\n",
        "  print(\"YES\")\n",
        "else:\n",
        "  print(\"NO\")"
      ],
      "execution_count": 10,
      "outputs": [
        {
          "output_type": "stream",
          "text": [
            "NO\n"
          ],
          "name": "stdout"
        }
      ]
    },
    {
      "cell_type": "markdown",
      "metadata": {
        "id": "2TfnuDwKouYM"
      },
      "source": [
        "Slicing Strings"
      ]
    },
    {
      "cell_type": "code",
      "metadata": {
        "colab": {
          "base_uri": "https://localhost:8080/"
        },
        "id": "NWTw20jaoySs",
        "outputId": "03d8b5ca-4e70-4a41-98b1-5886b2b6e9d2"
      },
      "source": [
        "s = \"ice cream\"\n",
        "s[0]\n",
        "s[0:3] #s[:3]\n",
        "s[4:9] #s[4:]\n",
        "\n",
        "b = \"Python\"\n",
        "print(b[-5:-2])\n"
      ],
      "execution_count": 15,
      "outputs": [
        {
          "output_type": "stream",
          "text": [
            "yth\n"
          ],
          "name": "stdout"
        }
      ]
    },
    {
      "cell_type": "markdown",
      "metadata": {
        "id": "6FgVXN7VpZmk"
      },
      "source": [
        "Modify Strings"
      ]
    },
    {
      "cell_type": "code",
      "metadata": {
        "colab": {
          "base_uri": "https://localhost:8080/"
        },
        "id": "kX-bmqqGpb7G",
        "outputId": "fcd8813e-7157-4987-ee2f-0b31fd2f3181"
      },
      "source": [
        "a = \"Python\"\n",
        "print(a.upper())"
      ],
      "execution_count": 16,
      "outputs": [
        {
          "output_type": "stream",
          "text": [
            "PYTHON\n"
          ],
          "name": "stdout"
        }
      ]
    },
    {
      "cell_type": "code",
      "metadata": {
        "colab": {
          "base_uri": "https://localhost:8080/"
        },
        "id": "AUXsyb0Ipi7e",
        "outputId": "0e8b7eb1-6e16-47b1-8fc3-4ec4e5618930"
      },
      "source": [
        "a = \"PYTHON\"\n",
        "print(a.lower())"
      ],
      "execution_count": 17,
      "outputs": [
        {
          "output_type": "stream",
          "text": [
            "python\n"
          ],
          "name": "stdout"
        }
      ]
    },
    {
      "cell_type": "code",
      "metadata": {
        "colab": {
          "base_uri": "https://localhost:8080/"
        },
        "id": "ekD3Y2WNprSO",
        "outputId": "c4d66bde-9472-4e6f-f453-f198efa558b5"
      },
      "source": [
        "#Remove Whitespace\n",
        "\n",
        "a = \"Python is a popular language!  \"\n",
        "print(a.strip())"
      ],
      "execution_count": 18,
      "outputs": [
        {
          "output_type": "stream",
          "text": [
            "Python is a popular language!\n"
          ],
          "name": "stdout"
        }
      ]
    },
    {
      "cell_type": "code",
      "metadata": {
        "colab": {
          "base_uri": "https://localhost:8080/"
        },
        "id": "oHvghwrmqBTN",
        "outputId": "02cc21b8-80a2-4b4f-8fc4-4c2ce4ccade5"
      },
      "source": [
        "a  = \"Anik Das\"\n",
        "print(a.replace('D','d'))"
      ],
      "execution_count": 20,
      "outputs": [
        {
          "output_type": "stream",
          "text": [
            "Anik das\n"
          ],
          "name": "stdout"
        }
      ]
    },
    {
      "cell_type": "code",
      "metadata": {
        "colab": {
          "base_uri": "https://localhost:8080/"
        },
        "id": "7uu1IqeBqfQH",
        "outputId": "636d5739-bd4a-4082-9275-25d2da8ea4fe"
      },
      "source": [
        "a = \"Python is a, popular language!\"\n",
        "b = a.split(\",\")\n",
        "print(b)"
      ],
      "execution_count": 21,
      "outputs": [
        {
          "output_type": "stream",
          "text": [
            "['Python is a', ' popular language!']\n"
          ],
          "name": "stdout"
        }
      ]
    },
    {
      "cell_type": "code",
      "metadata": {
        "colab": {
          "base_uri": "https://localhost:8080/"
        },
        "id": "I7ygG4m6qtBP",
        "outputId": "8f1d4f92-3fe8-45e7-dea6-ac0cccb6b87a"
      },
      "source": [
        "#String Concatenation\n",
        "\n",
        "a = \"UAP\"\n",
        "b = \"CSE\"\n",
        "\n",
        "c= a+ \" \" +b\n",
        "print(c)"
      ],
      "execution_count": 23,
      "outputs": [
        {
          "output_type": "stream",
          "text": [
            "UAP CSE\n"
          ],
          "name": "stdout"
        }
      ]
    },
    {
      "cell_type": "code",
      "metadata": {
        "colab": {
          "base_uri": "https://localhost:8080/"
        },
        "id": "rlDvSx-lrBfl",
        "outputId": "f1e5291d-d915-4b6f-a6b0-7714d0c43228"
      },
      "source": [
        "#Format - Strings\n",
        "id = 70\n",
        "msg = \"My id is-> {}\"\n",
        "print(msg.format(id))\n",
        "\n",
        "quantity = 3\n",
        "itemno = 567\n",
        "price = 49.95\n",
        "myorder = \"I want {} pieces of item {} for {} dollars.\"\n",
        "print(myorder.format(quantity, itemno, price))\n"
      ],
      "execution_count": 25,
      "outputs": [
        {
          "output_type": "stream",
          "text": [
            "My id is-> 70\n",
            "I want 3 pieces of item 567 for 49.95 dollars.\n"
          ],
          "name": "stdout"
        }
      ]
    },
    {
      "cell_type": "code",
      "metadata": {
        "colab": {
          "base_uri": "https://localhost:8080/"
        },
        "id": "sx-4KoJDriul",
        "outputId": "171bfff8-fb9c-4985-8b5e-579fab886184"
      },
      "source": [
        "quantity = 3\n",
        "itemno = 567\n",
        "price = 49.95\n",
        "myorder = \"I want to pay {2} dollars for {0} pieces of item {1}.\"\n",
        "print(myorder.format(quantity, itemno, price))"
      ],
      "execution_count": 26,
      "outputs": [
        {
          "output_type": "stream",
          "text": [
            "I want to pay 49.95 dollars for 3 pieces of item 567.\n"
          ],
          "name": "stdout"
        }
      ]
    }
  ]
}