{
  "nbformat": 4,
  "nbformat_minor": 0,
  "metadata": {
    "colab": {
      "name": "Modules.ipynb",
      "provenance": [],
      "authorship_tag": "ABX9TyMv9S+JHaLkKVCIJTyi6jQn",
      "include_colab_link": true
    },
    "kernelspec": {
      "name": "python3",
      "display_name": "Python 3"
    },
    "language_info": {
      "name": "python"
    }
  },
  "cells": [
    {
      "cell_type": "markdown",
      "metadata": {
        "id": "view-in-github",
        "colab_type": "text"
      },
      "source": [
        "<a href=\"https://colab.research.google.com/github/Void-Brain70/Python/blob/master/Modules.ipynb\" target=\"_parent\"><img src=\"https://colab.research.google.com/assets/colab-badge.svg\" alt=\"Open In Colab\"/></a>"
      ]
    },
    {
      "cell_type": "markdown",
      "metadata": {
        "id": "6j-tXXbxR5WB"
      },
      "source": [
        "Math Modules"
      ]
    },
    {
      "cell_type": "code",
      "metadata": {
        "colab": {
          "base_uri": "https://localhost:8080/"
        },
        "id": "vrOBzGCmRYHV",
        "outputId": "ea917925-40d2-4dee-dca3-02bad8187c80"
      },
      "source": [
        "import math\n",
        "math.sqrt(16)\n",
        "math.pow(2,4)\n",
        "math.pi\n",
        "math.log10(100)\n",
        "math.log10(1000)\n",
        "math.floor(2.3)\n",
        "math.ceil(2.1)"
      ],
      "execution_count": 9,
      "outputs": [
        {
          "output_type": "execute_result",
          "data": {
            "text/plain": [
              "3"
            ]
          },
          "metadata": {
            "tags": []
          },
          "execution_count": 9
        }
      ]
    },
    {
      "cell_type": "code",
      "metadata": {
        "colab": {
          "base_uri": "https://localhost:8080/"
        },
        "id": "4YoG_Y9oSjT1",
        "outputId": "631f011b-d4aa-4cc4-9476-a679a88a13d8"
      },
      "source": [
        "import calendar\n",
        "cal = calendar.month(2021,1)\n",
        "print(cal)\n",
        "calendar.isleap(2021)\n",
        "calendar.isleap(2020)\n",
        "# dir(calender)"
      ],
      "execution_count": 14,
      "outputs": [
        {
          "output_type": "stream",
          "text": [
            "    January 2021\n",
            "Mo Tu We Th Fr Sa Su\n",
            "             1  2  3\n",
            " 4  5  6  7  8  9 10\n",
            "11 12 13 14 15 16 17\n",
            "18 19 20 21 22 23 24\n",
            "25 26 27 28 29 30 31\n",
            "\n"
          ],
          "name": "stdout"
        },
        {
          "output_type": "execute_result",
          "data": {
            "text/plain": [
              "True"
            ]
          },
          "metadata": {
            "tags": []
          },
          "execution_count": 14
        }
      ]
    },
    {
      "cell_type": "markdown",
      "metadata": {
        "id": "EpcydLNGTsbY"
      },
      "source": [
        "Create own modules"
      ]
    },
    {
      "cell_type": "code",
      "metadata": {
        "id": "nx1FQ1Z-THmS"
      },
      "source": [
        "def triange_area(b,h):\n",
        "  return 0.5*(b*h)\n",
        "\n",
        "def square_area(l):\n",
        "  return l*l  "
      ],
      "execution_count": 17,
      "outputs": []
    },
    {
      "cell_type": "code",
      "metadata": {
        "id": "wwGMNGiKUFDB"
      },
      "source": [
        "# import module as m\n",
        "# a = m.triange_area(5,4)\n",
        "# print(a)\n",
        "\n",
        "# b = square_area(5)\n",
        "# print(b)\n",
        "\n",
        "# import sys\n",
        "# sys.path.append(\"C:\\code\")\n",
        "# import function as f\n",
        "# a = m.triange_area(5,4)\n",
        "# print(a)"
      ],
      "execution_count": 18,
      "outputs": []
    },
    {
      "cell_type": "markdown",
      "metadata": {
        "id": "QGSWHVw-WxGs"
      },
      "source": [
        "Python Datetime Modules"
      ]
    },
    {
      "cell_type": "code",
      "metadata": {
        "colab": {
          "base_uri": "https://localhost:8080/"
        },
        "id": "sVCeYFGLW03a",
        "outputId": "f16d9940-35c4-454d-f4e2-88e5ae2e2b59"
      },
      "source": [
        "import datetime as d\n",
        "n = d.datetime.now()\n",
        "print(n)"
      ],
      "execution_count": 20,
      "outputs": [
        {
          "output_type": "stream",
          "text": [
            "2021-06-04 09:31:41.421460\n"
          ],
          "name": "stdout"
        }
      ]
    },
    {
      "cell_type": "code",
      "metadata": {
        "colab": {
          "base_uri": "https://localhost:8080/"
        },
        "id": "KJ47TIeRXcnD",
        "outputId": "8edf86c7-d5c7-4f20-a577-a31021bf1fd7"
      },
      "source": [
        "import datetime as d\n",
        "n = d.datetime.now()\n",
        "print(n.year)\n",
        "print(n.month)\n",
        "print(n.strftime(\"%A\"))\n",
        "print(n.strftime(\"%B\"))"
      ],
      "execution_count": 22,
      "outputs": [
        {
          "output_type": "stream",
          "text": [
            "2021\n",
            "6\n",
            "Friday\n",
            "June\n"
          ],
          "name": "stdout"
        }
      ]
    }
  ]
}