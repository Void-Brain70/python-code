{
  "nbformat": 4,
  "nbformat_minor": 0,
  "metadata": {
    "colab": {
      "name": "Exception_Handling.ipynb",
      "provenance": [],
      "authorship_tag": "ABX9TyM6cEvtKpWldOCfCwqb6g4Z",
      "include_colab_link": true
    },
    "kernelspec": {
      "name": "python3",
      "display_name": "Python 3"
    },
    "language_info": {
      "name": "python"
    }
  },
  "cells": [
    {
      "cell_type": "markdown",
      "metadata": {
        "id": "view-in-github",
        "colab_type": "text"
      },
      "source": [
        "<a href=\"https://colab.research.google.com/github/Void-Brain70/Python/blob/master/Exception_Handling.ipynb\" target=\"_parent\"><img src=\"https://colab.research.google.com/assets/colab-badge.svg\" alt=\"Open In Colab\"/></a>"
      ]
    },
    {
      "cell_type": "code",
      "metadata": {
        "colab": {
          "base_uri": "https://localhost:8080/"
        },
        "id": "9E1RuUO8E0UY",
        "outputId": "ac07364d-8417-4be2-a383-515d0e33b90d"
      },
      "source": [
        "x = int(input(\"Enter 1st number->\"))\n",
        "y = int(input(\"Enter 2nd number->\"))\n",
        "try:\n",
        "  z = x/y\n",
        "except Exception as e:\n",
        "  print('Exception occured:',e)\n",
        "  z = None\n",
        "print(\"Division is->\",z)"
      ],
      "execution_count": 9,
      "outputs": [
        {
          "output_type": "stream",
          "text": [
            "Enter 1st number->5\n",
            "Enter 2nd number->0\n",
            "Exception occured: division by zero\n",
            "Division is-> None\n"
          ],
          "name": "stdout"
        }
      ]
    },
    {
      "cell_type": "code",
      "metadata": {
        "colab": {
          "base_uri": "https://localhost:8080/"
        },
        "id": "fDOtnFUrJsUY",
        "outputId": "15bd6b49-c6a3-4e44-8084-f113c3ca72c3"
      },
      "source": [
        "x = input(\"Enter 1st number->\")\n",
        "y = input(\"Enter 2nd number->\")\n",
        "try:\n",
        "  z = x/int(y)\n",
        "except ZeroDivisionError as e:\n",
        "  print('Division by zero Exception')\n",
        "  z = None\n",
        "except Exception as e:\n",
        "  print('exception type:',type(e).__name__)\n",
        "  z=None  \n",
        "print(\"Division is->\",z)"
      ],
      "execution_count": 11,
      "outputs": [
        {
          "output_type": "stream",
          "text": [
            "Enter 1st number->5\n",
            "Enter 2nd number->5\n",
            "exception type: TypeError\n",
            "Division is-> None\n"
          ],
          "name": "stdout"
        }
      ]
    },
    {
      "cell_type": "code",
      "metadata": {
        "id": "XTpz5tHAKIgA"
      },
      "source": [
        ""
      ],
      "execution_count": null,
      "outputs": []
    }
  ]
}