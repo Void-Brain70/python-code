{
  "nbformat": 4,
  "nbformat_minor": 0,
  "metadata": {
    "colab": {
      "name": "Python8.ipynb",
      "provenance": [],
      "collapsed_sections": [],
      "authorship_tag": "ABX9TyPced7wcKhYVP+bZq3UtqjJ",
      "include_colab_link": true
    },
    "kernelspec": {
      "name": "python3",
      "display_name": "Python 3"
    }
  },
  "cells": [
    {
      "cell_type": "markdown",
      "metadata": {
        "id": "view-in-github",
        "colab_type": "text"
      },
      "source": [
        "<a href=\"https://colab.research.google.com/github/Void-Brain70/Python/blob/master/Python8.ipynb\" target=\"_parent\"><img src=\"https://colab.research.google.com/assets/colab-badge.svg\" alt=\"Open In Colab\"/></a>"
      ]
    },
    {
      "cell_type": "code",
      "metadata": {
        "id": "BeVgZFoPQt-M",
        "colab": {
          "base_uri": "https://localhost:8080/",
          "height": 218
        },
        "outputId": "b6f70819-0182-420b-cd9e-a1926a7d0e2c"
      },
      "source": [
        "class student:\n",
        "   def __init__(self,name,id,dept):\n",
        "   \tself.name=name\n",
        "   \tself.id=id\n",
        "   \tself.dept=dept\n",
        "\n",
        "   def display(self):\n",
        "    print(\"Student information->\\n Name: %s \\n ID: %d \\n DEPT: %s\"%(self.name,self.id,self.dept))\n",
        "\n",
        "s1=student(\"Anik\",181070,\"CSE\")\n",
        "s2=student(\"Momo\",181071,\"BBA\") \n",
        "s3=student(\"Anushka\",181084,\"CSE\")   \n",
        "\n",
        "s1.display()\n",
        "s2.display()\n",
        "s3.display()  \n"
      ],
      "execution_count": null,
      "outputs": [
        {
          "output_type": "stream",
          "text": [
            "Student information->\n",
            " Name: Anik \n",
            " ID: 181070 \n",
            " DEPT: CSE\n",
            "Student information->\n",
            " Name: Momo \n",
            " ID: 181071 \n",
            " DEPT: BBA\n",
            "Student information->\n",
            " Name: Anushka \n",
            " ID: 181084 \n",
            " DEPT: CSE\n"
          ],
          "name": "stdout"
        }
      ]
    }
  ]
}