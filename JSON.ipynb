{
  "nbformat": 4,
  "nbformat_minor": 0,
  "metadata": {
    "colab": {
      "name": "JSON.ipynb",
      "provenance": [],
      "authorship_tag": "ABX9TyNdb63hUCNkZqEc1vgLOjcN",
      "include_colab_link": true
    },
    "kernelspec": {
      "name": "python3",
      "display_name": "Python 3"
    },
    "language_info": {
      "name": "python"
    }
  },
  "cells": [
    {
      "cell_type": "markdown",
      "metadata": {
        "id": "view-in-github",
        "colab_type": "text"
      },
      "source": [
        "<a href=\"https://colab.research.google.com/github/Void-Brain70/Python/blob/master/JSON.ipynb\" target=\"_parent\"><img src=\"https://colab.research.google.com/assets/colab-badge.svg\" alt=\"Open In Colab\"/></a>"
      ]
    },
    {
      "cell_type": "code",
      "metadata": {
        "colab": {
          "base_uri": "https://localhost:8080/"
        },
        "id": "1x0n-itRZHky",
        "outputId": "150d77f5-478d-451e-8550-39daaf63a505"
      },
      "source": [
        "info = {}\n",
        "info['Anik'] = {\n",
        "    'name':\"Anik\",\n",
        "    'id':\"18101070\",\n",
        "    'dept':\"CSE\"\n",
        "}\n",
        "info['Rab'] = {\n",
        "    'name':\"Rab\",\n",
        "    'id':\"18101073\",\n",
        "    'dept':\"CSE\"\n",
        "}\n",
        "import json\n",
        "n = json.dumps(info)\n",
        "print(n)\n",
        "# with open(\"C:\\Users\\Tech Land\\Desktop\\project\\text\",\"w\") as f:\n",
        "#    f.write(n)"
      ],
      "execution_count": 4,
      "outputs": [
        {
          "output_type": "stream",
          "text": [
            "{\"Anik\": {\"name\": \"Anik\", \"id\": \"18101070\", \"dept\": \"CSE\"}, \"Rab\": {\"name\": \"Rab\", \"id\": \"18101073\", \"dept\": \"CSE\"}}\n"
          ],
          "name": "stdout"
        }
      ]
    },
    {
      "cell_type": "code",
      "metadata": {
        "colab": {
          "base_uri": "https://localhost:8080/"
        },
        "id": "H7fJVE87cFDx",
        "outputId": "9eb1c743-86a6-412e-df06-7fef895aa18b"
      },
      "source": [
        "#Convert from JSON to Python by using the json.loads() method.\n",
        "import json\n",
        "\n",
        "# some JSON:\n",
        "x =  '{ \"name\":\"Anik\", \"age\":22, \"city\":\"Dhaka\"}'\n",
        "\n",
        "y = json.loads(x)\n",
        "\n",
        "print(y)"
      ],
      "execution_count": 5,
      "outputs": [
        {
          "output_type": "stream",
          "text": [
            "{'name': 'Anik', 'age': 22, 'city': 'Dhaka'}\n"
          ],
          "name": "stdout"
        }
      ]
    },
    {
      "cell_type": "code",
      "metadata": {
        "colab": {
          "base_uri": "https://localhost:8080/"
        },
        "id": "1L4WhJFWdxaU",
        "outputId": "2191837e-f487-49da-8764-2394efab995e"
      },
      "source": [
        "#Convert from Python to JSON by using the json.dumps() method.\n",
        "import json\n",
        "info = {\n",
        "    'name':\"Anik\",\n",
        "    'id':\"18101070\",\n",
        "    'dept':\"CSE\"\n",
        "}\n",
        "n = json.dumps(info)\n",
        "print(y)"
      ],
      "execution_count": 6,
      "outputs": [
        {
          "output_type": "stream",
          "text": [
            "{'name': 'Anik', 'age': 22, 'city': 'Dhaka'}\n"
          ],
          "name": "stdout"
        }
      ]
    },
    {
      "cell_type": "code",
      "metadata": {
        "colab": {
          "base_uri": "https://localhost:8080/"
        },
        "id": "iNBSCCPMeYMV",
        "outputId": "3e5952de-6aea-4b4b-8725-d64e9166e732"
      },
      "source": [
        "import json\n",
        "\n",
        "x = {\n",
        "  \"name\": \"anik\",\n",
        "  \"age\": 22,\n",
        "  \"university\": \"UAP\",\n",
        "  \"student\": True,\n",
        "  \"info\": (\"CSE\",\"18101070\"),\n",
        "  \"pets\": None,\n",
        "  \"cars\": [\n",
        "    {\"model\": \"BMW 230\", \"mpg\": 27.5},\n",
        "    {\"model\": \"Ford Edge\", \"mpg\": 24.1}\n",
        "  ]\n",
        "}\n",
        "\n",
        "print(json.dumps(x))"
      ],
      "execution_count": 8,
      "outputs": [
        {
          "output_type": "stream",
          "text": [
            "{\"name\": \"anik\", \"age\": 22, \"university\": \"UAP\", \"student\": true, \"info\": [\"CSE\", \"18101070\"], \"pets\": null, \"cars\": [{\"model\": \"BMW 230\", \"mpg\": 27.5}, {\"model\": \"Ford Edge\", \"mpg\": 24.1}]}\n"
          ],
          "name": "stdout"
        }
      ]
    }
  ]
}