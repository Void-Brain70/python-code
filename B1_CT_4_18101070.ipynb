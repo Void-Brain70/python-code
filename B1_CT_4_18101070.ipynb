{
  "nbformat": 4,
  "nbformat_minor": 0,
  "metadata": {
    "colab": {
      "name": "B1_CT_4_18101070.ipynb",
      "provenance": [],
      "collapsed_sections": [],
      "authorship_tag": "ABX9TyPUfX8cco6Rc8nS6mpcfrJ0",
      "include_colab_link": true
    },
    "kernelspec": {
      "name": "python3",
      "display_name": "Python 3"
    }
  },
  "cells": [
    {
      "cell_type": "markdown",
      "metadata": {
        "id": "view-in-github",
        "colab_type": "text"
      },
      "source": [
        "<a href=\"https://colab.research.google.com/github/Void-Brain70/Python/blob/master/B1_CT_4_18101070.ipynb\" target=\"_parent\"><img src=\"https://colab.research.google.com/assets/colab-badge.svg\" alt=\"Open In Colab\"/></a>"
      ]
    },
    {
      "cell_type": "code",
      "metadata": {
        "id": "LDQ53Z7AQ6Lo",
        "colab": {
          "base_uri": "https://localhost:8080/",
          "height": 370
        },
        "outputId": "89507f3a-3c69-4bdf-981d-8ef8542ac521"
      },
      "source": [
        "class employee:\n",
        "  def __init__(self,id,name,dept,pos,man,lev):\n",
        "    self.id=id\n",
        "    self.name=name\n",
        "    self.dept=dept\n",
        "    self.pos=pos\n",
        "    self.man=man\n",
        "    self.lev=lev\n",
        "\n",
        "  def display(self):\n",
        "    print(\"Employee information-> \\n Id: %s \\n Name:%s \\n dpartment:%s \\n Position:%s \\n Manager:%s \\n Level:%s\"%(self.id,self.name,self.dept,self.pos,self.man,self.lev))\n",
        "    \n",
        "e1=employee(\"1\",\"David\",\"Manager\",\"IT\",\"NULL\",\"1\")\n",
        "e2=employee(\"4\",\"Julia\",\"Manager\",\"HR\",\"NULL\",\"1\")\n",
        "e3=employee(\"8\",\"Sophie\",\"Manager\",\"Marketing\",\"NULL\",\"1\")\n",
        "\n",
        "e1.display()\n",
        "e2.display()\n",
        "e3.display()\n"
      ],
      "execution_count": null,
      "outputs": [
        {
          "output_type": "stream",
          "text": [
            "Employee information-> \n",
            " Id: 1 \n",
            " Name:David \n",
            " dpartment:Manager \n",
            " Position:IT \n",
            " Manager:NULL \n",
            " Level:1\n",
            "Employee information-> \n",
            " Id: 4 \n",
            " Name:Julia \n",
            " dpartment:Manager \n",
            " Position:HR \n",
            " Manager:NULL \n",
            " Level:1\n",
            "Employee information-> \n",
            " Id: 8 \n",
            " Name:Sophie \n",
            " dpartment:Manager \n",
            " Position:Marketing \n",
            " Manager:NULL \n",
            " Level:1\n"
          ],
          "name": "stdout"
        }
      ]
    },
    {
      "cell_type": "code",
      "metadata": {
        "id": "yehEAu6QdcU4"
      },
      "source": [
        "class bank:\n",
        "  def __init__(self,name,acn,balance,):\n",
        "    self.name=name\n",
        "    self.acn=acn\n",
        "    self.balance=balance\n",
        "\n",
        "  def deposit(self):\n",
        "    amount=float(input(\"Enter amount->\"))\n",
        "    self.balance+=amount\n",
        "    print(\"Deposit Amount->\",amount)\n",
        "\n",
        "  def withdraw(self): \n",
        "     amount=float(input(\"Enter amount for withdraw->\")) \n",
        "     if self.balance >=amount: \n",
        "        self.balance -=amount \n",
        "        print(\"Withdrew->\", amount) \n",
        "     else: \n",
        "        print(\"No Money\") \n",
        "  \n",
        "  def show(self): \n",
        "     print(\"Balance->\",self.balance) \n",
        "\n",
        "u=bank('anik','707',500)\n",
        "\n",
        "u.diposit(500)\n",
        "u.withdraw(100)\n",
        "u.show()"
      ],
      "execution_count": null,
      "outputs": []
    },
    {
      "cell_type": "code",
      "metadata": {
        "id": "gN5ov4xidcTE"
      },
      "source": [
        ""
      ],
      "execution_count": null,
      "outputs": []
    },
    {
      "cell_type": "code",
      "metadata": {
        "id": "YsPh7PspaqMZ",
        "colab": {
          "base_uri": "https://localhost:8080/",
          "height": 50
        },
        "outputId": "0ddfd1b2-7b6f-4a33-9014-09cdaf5a77d6"
      },
      "source": [
        "from math import log10\n",
        "def func(n):\n",
        "    sum=0\n",
        "    for i in range(1,n+1) :\n",
        "        sum+=log10(i)\n",
        "    return sum\n",
        "n=int(input(\"Enter the number->\"))\n",
        "res=func(n)\n",
        "print(\"Summation->\",round(res))"
      ],
      "execution_count": null,
      "outputs": [
        {
          "output_type": "stream",
          "text": [
            "Enter the number->5\n",
            "Summation-> 2\n"
          ],
          "name": "stdout"
        }
      ]
    }
  ]
}