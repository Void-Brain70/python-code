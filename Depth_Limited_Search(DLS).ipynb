{
  "nbformat": 4,
  "nbformat_minor": 0,
  "metadata": {
    "colab": {
      "name": "Depth_Limited_Search(DLS).ipynb",
      "provenance": [],
      "collapsed_sections": [],
      "authorship_tag": "ABX9TyPLeQqz982rrqURUcVW/LdK",
      "include_colab_link": true
    },
    "kernelspec": {
      "name": "python3",
      "display_name": "Python 3"
    },
    "language_info": {
      "name": "python"
    }
  },
  "cells": [
    {
      "cell_type": "markdown",
      "metadata": {
        "id": "view-in-github",
        "colab_type": "text"
      },
      "source": [
        "<a href=\"https://colab.research.google.com/github/Void-Brain70/Python/blob/master/Depth_Limited_Search(DLS).ipynb\" target=\"_parent\"><img src=\"https://colab.research.google.com/assets/colab-badge.svg\" alt=\"Open In Colab\"/></a>"
      ]
    },
    {
      "cell_type": "code",
      "metadata": {
        "colab": {
          "base_uri": "https://localhost:8080/"
        },
        "id": "9JERfZBqLojv",
        "outputId": "ad2449c7-1139-471f-ee7e-e7f277a5a14a"
      },
      "source": [
        "graph = {\n",
        "  'A' : ['B','C'],\n",
        "  'B' : ['D', 'E'],\n",
        "  'D' : ['H','I'],\n",
        "  'H' : [],\n",
        "  'I' : [],\n",
        "  'E' : ['J','K'],\n",
        "  'J' : [],\n",
        "  'K' : [],\n",
        "  'C' : ['F','G'],\n",
        "  'F' : ['L','M'],\n",
        "  'L' : [],\n",
        "  'M' : [],\n",
        "  'G' : ['N','O'],\n",
        "  'N' : [],\n",
        "  'O' : []\n",
        "}\n",
        "\n",
        "def dls(start, goal):\n",
        "  depth = 0\n",
        "  limit = 10\n",
        "  OPEN=[]\n",
        "  CLOSED=[]\n",
        "  OPEN.append(start)\n",
        "  while OPEN != []: # Step 2\n",
        "    if depth<=limit:\n",
        "      current = OPEN.pop() \n",
        "      if current == goal:\n",
        "        CLOSED.append(current)\n",
        "        print(\"Goal Node Found\")\n",
        "        print(CLOSED)\n",
        "        return True\n",
        "      else:\n",
        "        CLOSED.append(current)\n",
        "        lst = successors(current)\n",
        "        for i in lst:\n",
        "          OPEN.append(i)\n",
        "          depth +=1\n",
        "    else:\n",
        "      print(\"Not found within depth limit\")\n",
        "      return False\n",
        "  return False\n",
        "\n",
        "def successors(city):\n",
        "  return graph[city]\n",
        "\n",
        "def test():\n",
        "  start = 'A'\n",
        "  goal = 'F'\n",
        "  print(\"Starting a dls from \" + start)\n",
        "  print(dls(start, goal))\n",
        "\n",
        "\n",
        "if __name__ == \"__main__\":\n",
        "  test()"
      ],
      "execution_count": 7,
      "outputs": [
        {
          "output_type": "stream",
          "text": [
            "Starting a dls from A\n",
            "Goal Node Found\n",
            "['A', 'C', 'G', 'O', 'N', 'F']\n",
            "True\n"
          ],
          "name": "stdout"
        }
      ]
    }
  ]
}