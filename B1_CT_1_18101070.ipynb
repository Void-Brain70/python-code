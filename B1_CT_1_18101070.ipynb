{
  "nbformat": 4,
  "nbformat_minor": 0,
  "metadata": {
    "colab": {
      "name": "B1_CT_1_18101070.ipynb",
      "provenance": [],
      "collapsed_sections": [],
      "include_colab_link": true
    },
    "kernelspec": {
      "name": "python3",
      "display_name": "Python 3"
    }
  },
  "cells": [
    {
      "cell_type": "markdown",
      "metadata": {
        "id": "view-in-github",
        "colab_type": "text"
      },
      "source": [
        "<a href=\"https://colab.research.google.com/github/Void-Brain70/Python/blob/master/B1_CT_1_18101070.ipynb\" target=\"_parent\"><img src=\"https://colab.research.google.com/assets/colab-badge.svg\" alt=\"Open In Colab\"/></a>"
      ]
    },
    {
      "cell_type": "code",
      "metadata": {
        "id": "2aI2q7FDCknj",
        "colab": {
          "base_uri": "https://localhost:8080/",
          "height": 50
        },
        "outputId": "cb60cfd4-28c4-402b-9a74-5df61770c6c2"
      },
      "source": [
        "import math\n",
        "r=float(input())\n",
        "a=math.pi*r*r\n",
        "print(a)"
      ],
      "execution_count": null,
      "outputs": [
        {
          "output_type": "stream",
          "text": [
            "10\n",
            "314.1592653589793\n"
          ],
          "name": "stdout"
        }
      ]
    },
    {
      "cell_type": "markdown",
      "metadata": {
        "id": "3HukcMvWM36y"
      },
      "source": [
        ""
      ]
    },
    {
      "cell_type": "code",
      "metadata": {
        "id": "YUvJTseIJNAL",
        "colab": {
          "base_uri": "https://localhost:8080/",
          "height": 50
        },
        "outputId": "bf47a564-10b5-42fc-c84a-fa8d84a165ee"
      },
      "source": [
        "import math\n",
        "r=float(input(\"r= \"))\n",
        "p=2*math.pi*r\n",
        "print(\"Perimeter:\",p)\n"
      ],
      "execution_count": null,
      "outputs": [
        {
          "output_type": "stream",
          "text": [
            "r= 10\n",
            "Perimeter: 62.83185307179586\n"
          ],
          "name": "stdout"
        }
      ]
    },
    {
      "cell_type": "code",
      "metadata": {
        "id": "wjjudLLWKnvd",
        "colab": {
          "base_uri": "https://localhost:8080/",
          "height": 134
        },
        "outputId": "0910898b-156a-4d78-8770-484216ca2692"
      },
      "source": [
        "n=int(input(\"Enter number of element->\")) \n",
        "a=[]\n",
        "for i in range(0,n):\n",
        "  e=int(input(\"Enter element->\"))\n",
        "  a.append(e)\n",
        "avg=sum(a)/n\n",
        "print(\"average:\",avg)"
      ],
      "execution_count": null,
      "outputs": [
        {
          "output_type": "stream",
          "text": [
            "Enter number of element->5\n",
            "Enter element->10\n",
            "Enter element->20\n",
            "Enter element->30\n",
            "Enter element->40\n",
            "Enter element->50\n",
            "average: 30.0\n"
          ],
          "name": "stdout"
        }
      ]
    },
    {
      "cell_type": "code",
      "metadata": {
        "id": "a2AMxv8iLs_j",
        "colab": {
          "base_uri": "https://localhost:8080/",
          "height": 84
        },
        "outputId": "1ccd7631-3fd7-43c5-c931-fea5601c7b29"
      },
      "source": [
        "p=int(input())\n",
        "r=int(input())\n",
        "t=int(input())\n",
        "interset=(p*t*r)/100\n",
        "print(round(interset))"
      ],
      "execution_count": null,
      "outputs": [
        {
          "output_type": "stream",
          "text": [
            "3000\n",
            "7\n",
            "1\n",
            "210\n"
          ],
          "name": "stdout"
        }
      ]
    }
  ]
}