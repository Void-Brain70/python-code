{
  "nbformat": 4,
  "nbformat_minor": 0,
  "metadata": {
    "colab": {
      "name": "Uniform_Cost_Search_(UCS).ipynb",
      "provenance": [],
      "collapsed_sections": [],
      "authorship_tag": "ABX9TyMUbvDCAnnXr1qyK1+6e0C3",
      "include_colab_link": true
    },
    "kernelspec": {
      "name": "python3",
      "display_name": "Python 3"
    },
    "language_info": {
      "name": "python"
    }
  },
  "cells": [
    {
      "cell_type": "markdown",
      "metadata": {
        "id": "view-in-github",
        "colab_type": "text"
      },
      "source": [
        "<a href=\"https://colab.research.google.com/github/Void-Brain70/Python/blob/master/Uniform_Cost_Search_(UCS).ipynb\" target=\"_parent\"><img src=\"https://colab.research.google.com/assets/colab-badge.svg\" alt=\"Open In Colab\"/></a>"
      ]
    },
    {
      "cell_type": "code",
      "metadata": {
        "colab": {
          "base_uri": "https://localhost:8080/"
        },
        "id": "bAGbFmRENESC",
        "outputId": "a7d877e2-450f-4f19-b901-4776db04dde3"
      },
      "source": [
        "def  uniform_cost_search(goal, start):\n",
        "  global graph,cost\n",
        "  answer = []\n",
        "  queue = []  \n",
        "  for i in range(len(goal)):\n",
        "    answer.append(10**8)\n",
        "  queue.append([0, start])\n",
        "  visited = {}\n",
        "  count = 0 \n",
        "  while (len(queue) > 0):\n",
        "    queue = sorted(queue)\n",
        "    p = queue[-1] \n",
        "    del queue[-1]\n",
        "    p[0] *= -1\n",
        "    if (p[1] in goal):\n",
        "      index = goal.index(p[1])\n",
        "      if (answer[index] == 10**8):\n",
        "        count += 1\n",
        "      if (answer[index] > p[0]):\n",
        "        answer[index] = p[0]  \n",
        "      del queue[-1] \n",
        "      queue = sorted(queue)\n",
        "      if (count == len(goal)):\n",
        "        return answer \n",
        "    if (p[1] not in visited):\n",
        "      for i in range(len(graph[p[1]])): \n",
        "        queue.append( [(p[0] + cost[(p[1], graph[p[1]][i])])* -1, graph[p[1]][i]])\n",
        "    visited[p[1]] = 1 \n",
        "  return answer     \n",
        "\n",
        "\n",
        "\n",
        "if __name__ == '__main__':\n",
        "     \n",
        "  graph,cost = [[] for i in range(8)],{}\n",
        " \n",
        "  graph[0].append(1)\n",
        "  graph[0].append(3)\n",
        "  graph[3].append(1)\n",
        "  graph[3].append(6)\n",
        "  graph[3].append(4)\n",
        "  graph[1].append(6)\n",
        "  graph[4].append(2)\n",
        "  graph[4].append(5)\n",
        "  graph[2].append(1)\n",
        "  graph[5].append(2)\n",
        "  graph[5].append(6)\n",
        "  graph[6].append(4)\n",
        " \n",
        "  cost[(0, 1)] = 2\n",
        "  cost[(0, 3)] = 5\n",
        "  cost[(1, 6)] = 1\n",
        "  cost[(3, 1)] = 5\n",
        "  cost[(3, 6)] = 6\n",
        "  cost[(3, 4)] = 2\n",
        "  cost[(2, 1)] = 4\n",
        "  cost[(4, 2)] = 4\n",
        "  cost[(4, 5)] = 3\n",
        "  cost[(5, 2)] = 6\n",
        "  cost[(5, 6)] = 3\n",
        "  cost[(6, 4)] = 7\n",
        "\n",
        "  goal = []\n",
        "  goal.append(6)\n",
        "  answer = uniform_cost_search(goal, 0)\n",
        "  print(\"Minimum cost from 0 to 6 is = \",answer[0])\n"
      ],
      "execution_count": 1,
      "outputs": [
        {
          "output_type": "stream",
          "text": [
            "Minimum cost from 0 to 6 is =  3\n"
          ],
          "name": "stdout"
        }
      ]
    }
  ]
}