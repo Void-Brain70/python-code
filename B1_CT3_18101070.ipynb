{
  "nbformat": 4,
  "nbformat_minor": 0,
  "metadata": {
    "colab": {
      "name": "B1_CT3_18101070.ipynb",
      "provenance": [],
      "authorship_tag": "ABX9TyMsKACjoP7/J00Cd1Y23toj",
      "include_colab_link": true
    },
    "kernelspec": {
      "name": "python3",
      "display_name": "Python 3"
    }
  },
  "cells": [
    {
      "cell_type": "markdown",
      "metadata": {
        "id": "view-in-github",
        "colab_type": "text"
      },
      "source": [
        "<a href=\"https://colab.research.google.com/github/Void-Brain70/Python/blob/master/B1_CT3_18101070.ipynb\" target=\"_parent\"><img src=\"https://colab.research.google.com/assets/colab-badge.svg\" alt=\"Open In Colab\"/></a>"
      ]
    },
    {
      "cell_type": "code",
      "metadata": {
        "id": "9uccmNuVO09p"
      },
      "source": [
        ""
      ],
      "execution_count": null,
      "outputs": []
    },
    {
      "cell_type": "code",
      "metadata": {
        "id": "GCY8BGmdO1iG",
        "colab": {
          "base_uri": "https://localhost:8080/",
          "height": 50
        },
        "outputId": "944fb48e-9b2d-4728-e294-ff438fbaf8ba"
      },
      "source": [
        "n=int(input(\"Enter a number->\"))\n",
        "sum = 0\n",
        "for i in range(1, n+1, 2):\n",
        "  if i==n:\n",
        "    print(i,end=\" \")\n",
        "  else:\n",
        "    print(i,\"+\",end=\" \") \n",
        "  sum = sum+i\n",
        "print(\"=\",sum)\n",
        "\n",
        "\n",
        "\n"
      ],
      "execution_count": null,
      "outputs": [
        {
          "output_type": "stream",
          "text": [
            "Enter a number->9\n",
            "1 + 3 + 5 + 7 + 9 = 25\n"
          ],
          "name": "stdout"
        }
      ]
    },
    {
      "cell_type": "code",
      "metadata": {
        "id": "6OQGVzNekMvB",
        "colab": {
          "base_uri": "https://localhost:8080/",
          "height": 84
        },
        "outputId": "593309e1-7210-4512-a347-13a8a8b8ce39"
      },
      "source": [
        "d={\n",
        "    \"d1\":{\n",
        "    \"ID\":\"1\",\n",
        "    \"First Name\":\"Peter\",\n",
        "    \"Last Name\":\"Lee\",\n",
        "    \"Email\":\"plee@university.edu\",\n",
        "    \"Year of Birth\":\"1992\"\n",
        "    },\n",
        "    \"d2\":{\n",
        "    \"ID\":\"2\",\n",
        "    \"First Name\":\"Jonathan\",\n",
        "    \"Last Name\":\"Edwards\",\n",
        "    \"Email\":\"jedwards@university.edu\",\n",
        "    \"Year of Birth\":\"1994\"\n",
        "    },\n",
        "    \"d3\":{\n",
        "    \"ID\":\"3\",\n",
        "    \"First Name\":\"Marilyn\",\n",
        "    \"Last Name\":\"Johnson\",\n",
        "    \"Email\":\"mjohnson@university.edu\",\n",
        "    \"Year of Birth\":\"1993\"\n",
        "    },\n",
        "    \"d4\":{\n",
        "      \"ID\":\"4\",\n",
        "      \"First Name\":\"Joe\",\n",
        "      \"Last Name\":\"Kim\",\n",
        "      \"Email\":\"jkim@university.edu\",\n",
        "      \"Year of Birth\":\"1992\"\n",
        "    }  \n",
        "}\n",
        "for i in d:\n",
        "  print(d[i][\"First Name\"],end=\" \")\n",
        "  print(d[i][\"Last Name\"])"
      ],
      "execution_count": null,
      "outputs": [
        {
          "output_type": "stream",
          "text": [
            "Peter Lee\n",
            "Jonathan Edwards\n",
            "Marilyn Johnson\n",
            "Joe Kim\n"
          ],
          "name": "stdout"
        }
      ]
    }
  ]
}